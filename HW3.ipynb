{
 "cells": [
  {
   "cell_type": "markdown",
   "metadata": {},
   "source": [
    "### Задание №1\n",
    "Скачайте текст \"Литературных анекдотов\". Напишите функцию, которая будет читать файл, лемматизировать текст с помощью pymystem3 и записывать результат в новый файл. У функции должно бы два аргумента: путь к исходному файлу и путь к файлу с лемматизированным текстом. Вызов функции тоже должен быть прописан в решении.\n"
   ]
  },
  {
   "cell_type": "code",
   "execution_count": 31,
   "metadata": {},
   "outputs": [],
   "source": [
    "import os, re, json\n",
    "from pymystem3 import Mystem\n",
    "from collections import Counter\n"
   ]
  },
  {
   "cell_type": "code",
   "execution_count": 18,
   "metadata": {},
   "outputs": [],
   "source": [
    "# Создаем функцию\n",
    "def lemmas_to_file(file_in, file_out):\n",
    "    \n",
    "    # Читаем файл с анекдотами\n",
    "    with open(file_in, 'r', encoding='utf-8') as f:\n",
    "        text = f.read()\n",
    "\n",
    "    #Лемматизируем\n",
    "    m = Mystem()\n",
    "    lemmas = m.lemmatize(text)\n",
    "    text_lemma = ''.join(lemmas) # соединяем в строку\n",
    "\n",
    "    # записываем текст в файл\n",
    "    with open(file_out, 'w', encoding='utf-8') as f:\n",
    "        f.write(text_lemma)\n"
   ]
  },
  {
   "cell_type": "code",
   "execution_count": 21,
   "metadata": {},
   "outputs": [
    {
     "name": "stdout",
     "output_type": "stream",
     "text": [
      "Введите путь к исходному файлу\n",
      "literary_anecdotes.txt\n",
      "Задайте имя конечного файла\n",
      "lemmatized.txt\n"
     ]
    }
   ],
   "source": [
    "lemmas_to_file(input(\"Введите путь к исходному файлу\\n\"), input(\"Задайте имя конечного файла\\n\"))"
   ]
  },
  {
   "cell_type": "markdown",
   "metadata": {},
   "source": [
    "### Задание №2\n",
    "Очистите лемматизированный текст от стоп-слов и посчитайте ipm для оставшихся. Выведите 20 самых частотных по этому параметру слов.\n"
   ]
  },
  {
   "cell_type": "code",
   "execution_count": 30,
   "metadata": {},
   "outputs": [
    {
     "name": "stdout",
     "output_type": "stream",
     "text": [
      "[('пушкин', 54), ('толстой', 33), ('гоголь', 31), ('однажды', 29), ('лев', 25), ('любить', 20), ('достоевский', 19), ('тургенев', 15), ('ребенок', 14), ('царствие', 13), ('окно', 12), ('тверской', 12), ('бульвар', 12), ('идти', 12), ('лермонтов', 12), ('приходить', 11), ('федор', 11), ('михайлович', 11), ('герцен', 10), ('небесный', 10)]\n"
     ]
    }
   ],
   "source": [
    "# Очищаем от пунктуации\n",
    "text_halfclean = [w.strip(\"!\\\"#$%&'()*+,./:;<=>?@[\\]^_`{|}~„“«»†*—/\\-—\") for w in text_lemma.split()] \n",
    "text_clean = [w for w in text_halfclean if len(w) != 0] # очищаем от пустых элементов\n",
    "\n",
    "\n",
    "\n",
    "# Очищаем от стоп слов\n",
    "\n",
    "# Открываем файл со стоп-словами\n",
    "with open('rus_stopwords.txt', 'r', encoding='utf-8') as f:\n",
    "    stopwords = f.read()\n",
    "\n",
    "stopwords = stopwords.split('\\n') # делаем список по переносу строки\n",
    "text_clean = [w for w in text_clean if w not in stopwords] # в новый список все слова, кроме стоп слов\n",
    "\n",
    "\n",
    "# Считаем и выводим\n",
    "counts = Counter(text_clean)\n",
    "print(counts.most_common(20))"
   ]
  },
  {
   "cell_type": "markdown",
   "metadata": {},
   "source": [
    "### Задание №3\n",
    "Сделайте полный морфологический разбор исходного текста. Напишите регулярное выражение, которое будет извлекать из тега только часть речи. Пройдитесь циклом по списку с разборами, который выдал pymystem3, извлекая из каждого разбора форму слова и его часть речи и записывая их в новый словарь (форма -- ключ, часть речи -- значение). Посчитайте абсолютную частоту для всех частей речи, а затем относительнную частоту (абсолютная частота / длина текста в словах).\n"
   ]
  },
  {
   "cell_type": "code",
   "execution_count": 53,
   "metadata": {},
   "outputs": [],
   "source": [
    "# Открываем файл с исходным текстом\n",
    "with open('literary_anecdotes.txt', 'r', encoding='utf-8') as f:\n",
    "    story = f.read()\n",
    "\n",
    "# Анализируем\n",
    "story_analyzed = m.analyze(story)\n",
    " \n",
    "# создаём словарь с только грамматикой\n",
    "words = {}\n",
    "for word in story_analyzed:\n",
    "    try:\n",
    "        form = word['text']\n",
    "        grammar = word['analysis'][0]['gr']\n",
    "        words[form] = grammar\n",
    "    except KeyError:\n",
    "        pass\n",
    "    except IndexError:\n",
    "        pass\n",
    "\n",
    "# Компилируем регулярку для вытаскивания части речи\n",
    "pos = re.compile('[A-Z]+')\n",
    "\n",
    "# Делаем пустой словарь\n",
    "words_pos = {}\n",
    "\n",
    "# Добавляем в словарь ключ из предыдущего словаря и значение которое даёт регулярка\n",
    "for k, v in words.items():\n",
    "    words_pos[k] = pos.match(v).group(0)"
   ]
  },
  {
   "cell_type": "code",
   "execution_count": 54,
   "metadata": {},
   "outputs": [
    {
     "data": {
      "text/plain": [
       "1355"
      ]
     },
     "execution_count": 54,
     "metadata": {},
     "output_type": "execute_result"
    }
   ],
   "source": [
    "len(words_pos)"
   ]
  },
  {
   "cell_type": "code",
   "execution_count": 60,
   "metadata": {},
   "outputs": [
    {
     "data": {
      "text/plain": [
       "{'PR': 38,\n",
       " 'S': 507,\n",
       " 'V': 427,\n",
       " 'A': 98,\n",
       " 'ADV': 88,\n",
       " 'SPRO': 55,\n",
       " 'CONJ': 20,\n",
       " 'PART': 29,\n",
       " 'ADVPRO': 24,\n",
       " 'APRO': 48,\n",
       " 'ANUM': 4,\n",
       " 'INTJ': 8,\n",
       " 'NUM': 9}"
      ]
     },
     "execution_count": 60,
     "metadata": {},
     "output_type": "execute_result"
    }
   ],
   "source": [
    "# Считаем абсолютную частоту частей речи.\n",
    "# Надо создать новый словарь где ключом будет название части речи, а значением — его абс. частотность\n",
    "\n",
    "pos_abs_freq = {}\n",
    "for k, v in words_pos.items():\n",
    "    pos_abs_freq[v] = sum(value == v for value in words_pos.values()) # делаем ключом значение из пред. словаря, а значением — количество (мы это, конечно не проходили, я взяла из интернета)\n",
    "    \n",
    "pos_abs_freq"
   ]
  },
  {
   "cell_type": "code",
   "execution_count": 59,
   "metadata": {},
   "outputs": [
    {
     "data": {
      "text/plain": [
       "{'PR': 0.00034211426616489907,\n",
       " 'S': 0.00034211426616489907,\n",
       " 'V': 0.00034211426616489907,\n",
       " 'A': 0.00034211426616489907,\n",
       " 'ADV': 0.00034211426616489907,\n",
       " 'SPRO': 0.00034211426616489907,\n",
       " 'CONJ': 0.00034211426616489907,\n",
       " 'PART': 0.00034211426616489907,\n",
       " 'ADVPRO': 0.00034211426616489907,\n",
       " 'APRO': 0.00034211426616489907,\n",
       " 'ANUM': 0.00034211426616489907,\n",
       " 'INTJ': 0.00034211426616489907,\n",
       " 'NUM': 0.00034211426616489907}"
      ]
     },
     "execution_count": 59,
     "metadata": {},
     "output_type": "execute_result"
    }
   ],
   "source": [
    "# Считаем относительную частоту частей речи.\n",
    "\n",
    "\n",
    "# Надо создать новый словарь где ключом будет название части речи, а значением — его относительная частотность \n",
    "# (т.е. делим абсолютную на длину текста в словах)\n",
    "pos_rel_freq = {}\n",
    "for k, v in pos_abs_freq.items():\n",
    "    pos_rel_freq[k] = (sum(value == v for value in pos_abs_freq.values()))/len(story.split())\n",
    "pos_rel_freq"
   ]
  },
  {
   "cell_type": "code",
   "execution_count": null,
   "metadata": {},
   "outputs": [],
   "source": []
  }
 ],
 "metadata": {
  "kernelspec": {
   "display_name": "Python 3",
   "language": "python",
   "name": "python3"
  },
  "language_info": {
   "codemirror_mode": {
    "name": "ipython",
    "version": 3
   },
   "file_extension": ".py",
   "mimetype": "text/x-python",
   "name": "python",
   "nbconvert_exporter": "python",
   "pygments_lexer": "ipython3",
   "version": "3.7.0"
  }
 },
 "nbformat": 4,
 "nbformat_minor": 2
}
