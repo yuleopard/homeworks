{
 "cells": [
  {
   "cell_type": "code",
   "execution_count": 9,
   "metadata": {},
   "outputs": [
    {
     "data": {
      "text/plain": [
       "3"
      ]
     },
     "execution_count": 9,
     "metadata": {},
     "output_type": "execute_result"
    }
   ],
   "source": [
    "x = 1\n",
    "y = 2\n",
    "x + y"
   ]
  },
  {
   "cell_type": "code",
   "execution_count": 10,
   "metadata": {},
   "outputs": [],
   "source": [
    "x += y"
   ]
  },
  {
   "cell_type": "code",
   "execution_count": 11,
   "metadata": {},
   "outputs": [
    {
     "data": {
      "text/plain": [
       "3"
      ]
     },
     "execution_count": 11,
     "metadata": {},
     "output_type": "execute_result"
    }
   ],
   "source": [
    "x"
   ]
  },
  {
   "cell_type": "code",
   "execution_count": 12,
   "metadata": {},
   "outputs": [
    {
     "data": {
      "text/plain": [
       "5"
      ]
     },
     "execution_count": 12,
     "metadata": {},
     "output_type": "execute_result"
    }
   ],
   "source": [
    "x += y\n",
    "x"
   ]
  },
  {
   "cell_type": "code",
   "execution_count": 13,
   "metadata": {},
   "outputs": [
    {
     "name": "stdout",
     "output_type": "stream",
     "text": [
      "15\n"
     ]
    }
   ],
   "source": [
    "cats = 7\n",
    "dogs = 5\n",
    "elephants = 3\n",
    "\n",
    "animals = cats + dogs + elephants\n",
    "print(animals)"
   ]
  },
  {
   "cell_type": "code",
   "execution_count": 14,
   "metadata": {},
   "outputs": [
    {
     "name": "stdout",
     "output_type": "stream",
     "text": [
      "12\n"
     ]
    }
   ],
   "source": [
    "domestic_animals = animals - elephants\n",
    "print(domestic_animals)"
   ]
  },
  {
   "cell_type": "code",
   "execution_count": 15,
   "metadata": {},
   "outputs": [
    {
     "name": "stdout",
     "output_type": "stream",
     "text": [
      "5.0\n"
     ]
    }
   ],
   "source": [
    "zoo_share = animals / 3\n",
    "print(zoo_share)"
   ]
  },
  {
   "cell_type": "code",
   "execution_count": 17,
   "metadata": {},
   "outputs": [
    {
     "name": "stdout",
     "output_type": "stream",
     "text": [
      "Всего животных: 15\n"
     ]
    }
   ],
   "source": [
    "print(\"Всего животных: \" + str(animals))"
   ]
  },
  {
   "cell_type": "code",
   "execution_count": 18,
   "metadata": {},
   "outputs": [
    {
     "name": "stdout",
     "output_type": "stream",
     "text": [
      "<class 'bool'>\n",
      "<class 'str'>\n"
     ]
    }
   ],
   "source": [
    "x = True\n",
    "print(type(x))\n",
    "\n",
    "y = str(x)\n",
    "print(type(y))"
   ]
  },
  {
   "cell_type": "code",
   "execution_count": 19,
   "metadata": {},
   "outputs": [
    {
     "name": "stdout",
     "output_type": "stream",
     "text": [
      "25\n",
      "<class 'int'>\n",
      "25.0\n",
      "<class 'float'>\n"
     ]
    }
   ],
   "source": [
    "x = 25\n",
    "print(x)\n",
    "print(type(x))\n",
    "\n",
    "y = float(x)\n",
    "print(y)\n",
    "print(type(y))"
   ]
  },
  {
   "cell_type": "code",
   "execution_count": 20,
   "metadata": {},
   "outputs": [
    {
     "name": "stdout",
     "output_type": "stream",
     "text": [
      "aaaaaaaaaa!\n"
     ]
    }
   ],
   "source": [
    "sound = \"a\"\n",
    "scream = sound * 10 + \"!\"\n",
    "print(scream)"
   ]
  },
  {
   "cell_type": "code",
   "execution_count": 21,
   "metadata": {},
   "outputs": [
    {
     "data": {
      "text/plain": [
       "True"
      ]
     },
     "execution_count": 21,
     "metadata": {},
     "output_type": "execute_result"
    }
   ],
   "source": [
    "1 > -1"
   ]
  },
  {
   "cell_type": "code",
   "execution_count": 22,
   "metadata": {},
   "outputs": [
    {
     "data": {
      "text/plain": [
       "True"
      ]
     },
     "execution_count": 22,
     "metadata": {},
     "output_type": "execute_result"
    }
   ],
   "source": [
    "6 > 0"
   ]
  },
  {
   "cell_type": "code",
   "execution_count": 23,
   "metadata": {},
   "outputs": [
    {
     "data": {
      "text/plain": [
       "False"
      ]
     },
     "execution_count": 23,
     "metadata": {},
     "output_type": "execute_result"
    }
   ],
   "source": [
    "6 < 0"
   ]
  },
  {
   "cell_type": "code",
   "execution_count": 24,
   "metadata": {},
   "outputs": [
    {
     "data": {
      "text/plain": [
       "False"
      ]
     },
     "execution_count": 24,
     "metadata": {},
     "output_type": "execute_result"
    }
   ],
   "source": [
    "\"cat\" == \"dog\""
   ]
  },
  {
   "cell_type": "code",
   "execution_count": 25,
   "metadata": {},
   "outputs": [
    {
     "data": {
      "text/plain": [
       "True"
      ]
     },
     "execution_count": 25,
     "metadata": {},
     "output_type": "execute_result"
    }
   ],
   "source": [
    "\"cat\" == \"cat\""
   ]
  },
  {
   "cell_type": "code",
   "execution_count": 26,
   "metadata": {},
   "outputs": [
    {
     "data": {
      "text/plain": [
       "False"
      ]
     },
     "execution_count": 26,
     "metadata": {},
     "output_type": "execute_result"
    }
   ],
   "source": [
    "2*2 != 4"
   ]
  },
  {
   "cell_type": "code",
   "execution_count": 27,
   "metadata": {},
   "outputs": [
    {
     "data": {
      "text/plain": [
       "False"
      ]
     },
     "execution_count": 27,
     "metadata": {},
     "output_type": "execute_result"
    }
   ],
   "source": [
    "\"python\" == \"python3\""
   ]
  },
  {
   "cell_type": "code",
   "execution_count": 28,
   "metadata": {},
   "outputs": [
    {
     "data": {
      "text/plain": [
       "True"
      ]
     },
     "execution_count": 28,
     "metadata": {},
     "output_type": "execute_result"
    }
   ],
   "source": [
    "\"pip\" != \"conda\""
   ]
  },
  {
   "cell_type": "code",
   "execution_count": 29,
   "metadata": {},
   "outputs": [
    {
     "data": {
      "text/plain": [
       "2.0"
      ]
     },
     "execution_count": 29,
     "metadata": {},
     "output_type": "execute_result"
    }
   ],
   "source": [
    "import math\n",
    "math.sqrt(4)"
   ]
  },
  {
   "cell_type": "code",
   "execution_count": 43,
   "metadata": {},
   "outputs": [
    {
     "name": "stdout",
     "output_type": "stream",
     "text": [
      "-3.0\n"
     ]
    }
   ],
   "source": [
    "a = 3\n",
    "b = 7\n",
    "c = 2\n",
    "\n",
    "print( (-b + math.sqrt(b**2 - 4*a*c)) / 2*a)\n"
   ]
  },
  {
   "cell_type": "code",
   "execution_count": 44,
   "metadata": {},
   "outputs": [
    {
     "name": "stdout",
     "output_type": "stream",
     "text": [
      "Заходят в бар кот, пёс и слон\n"
     ]
    }
   ],
   "source": [
    "a = \"кот\"\n",
    "b = \"пёс\"\n",
    "c = \"слон\"\n",
    "\n",
    "print(\"Заходят в бар %s, %s и %s\" % (a, b, c))"
   ]
  },
  {
   "cell_type": "code",
   "execution_count": 45,
   "metadata": {},
   "outputs": [
    {
     "name": "stdout",
     "output_type": "stream",
     "text": [
      "fd\n"
     ]
    }
   ],
   "source": [
    "print('fd')"
   ]
  },
  {
   "cell_type": "code",
   "execution_count": null,
   "metadata": {},
   "outputs": [],
   "source": []
  },
  {
   "cell_type": "markdown",
   "metadata": {},
   "source": [
    "Первый элемент в списке — под индексом 0!!!"
   ]
  },
  {
   "cell_type": "code",
   "execution_count": 2,
   "metadata": {},
   "outputs": [
    {
     "name": "stdout",
     "output_type": "stream",
     "text": [
      "['i', 'love', 'python']\n",
      "['i', ' ', 'l', 'o', 'v', 'e', ' ', 'p', 'y', 't', 'h', 'o', 'n']\n"
     ]
    }
   ],
   "source": [
    "sentence = 'i love python'\n",
    "letters = list(sentence)\n",
    "words = sentence.split()\n",
    "\n",
    "print(words)\n",
    "print(letters)"
   ]
  },
  {
   "cell_type": "code",
   "execution_count": 3,
   "metadata": {},
   "outputs": [
    {
     "name": "stdout",
     "output_type": "stream",
     "text": [
      "['ilovepython']\n",
      "['i', 'l', 'o', 'v', 'e', 'p', 'y', 't', 'h', 'o', 'n']\n"
     ]
    }
   ],
   "source": [
    "sentence = 'ilovepython'\n",
    "letters = list(sentence)\n",
    "words = sentence.split()\n",
    "\n",
    "print(words)\n",
    "print(letters)"
   ]
  },
  {
   "cell_type": "code",
   "execution_count": 4,
   "metadata": {},
   "outputs": [
    {
     "name": "stdout",
     "output_type": "stream",
     "text": [
      "['i']\n",
      "['i']\n"
     ]
    }
   ],
   "source": [
    "sentence = 'i'\n",
    "letters = list(sentence)\n",
    "words = sentence.split()\n",
    "\n",
    "print(words)\n",
    "print(letters)"
   ]
  },
  {
   "cell_type": "code",
   "execution_count": 5,
   "metadata": {},
   "outputs": [
    {
     "name": "stdout",
     "output_type": "stream",
     "text": [
      "['i', 'love', 'python']\n",
      "['i', ' ', 'l', 'o', 'v', 'e', ' ', 'p', 'y', 't', 'h', 'o', 'n']\n"
     ]
    }
   ],
   "source": [
    "sentence = 'i love python'\n",
    "letters = list(sentence)\n",
    "words = sentence.split() # разбивает строку по пробелами. Можно например написать букву или запятую\n",
    "\n",
    "print(words)\n",
    "print(letters)"
   ]
  },
  {
   "cell_type": "code",
   "execution_count": 7,
   "metadata": {},
   "outputs": [
    {
     "name": "stdout",
     "output_type": "stream",
     "text": [
      "['the c', 't is on the m', 't']\n",
      "['t', 'h', 'e', ' ', 'c', 'a', 't', ' ', 'i', 's', ' ', 'o', 'n', ' ', 't', 'h', 'e', ' ', 'm', 'a', 't']\n"
     ]
    }
   ],
   "source": [
    "sentence = 'the cat is on the mat'\n",
    "letters = list(sentence)\n",
    "words = sentence.split('a')\n",
    "\n",
    "print(words)\n",
    "print(letters)"
   ]
  },
  {
   "cell_type": "code",
   "execution_count": 8,
   "metadata": {},
   "outputs": [
    {
     "name": "stdout",
     "output_type": "stream",
     "text": [
      "[]\n"
     ]
    }
   ],
   "source": [
    "new_list = [] # Пустой список\n",
    "print(new_list)"
   ]
  },
  {
   "cell_type": "code",
   "execution_count": 9,
   "metadata": {},
   "outputs": [
    {
     "name": "stdout",
     "output_type": "stream",
     "text": [
      "['the c', 't is on the m', 't', 'it', 'is', 'sleeping']\n"
     ]
    }
   ],
   "source": [
    "more_words = words + ['it', 'is', 'sleeping']\n",
    "print(more_words)"
   ]
  },
  {
   "cell_type": "code",
   "execution_count": 14,
   "metadata": {},
   "outputs": [],
   "source": [
    "words = sentence.split()"
   ]
  },
  {
   "cell_type": "code",
   "execution_count": 15,
   "metadata": {},
   "outputs": [
    {
     "name": "stdout",
     "output_type": "stream",
     "text": [
      "['the c', 't is on the m', 't', 'it', 'is', 'sleeping']\n"
     ]
    }
   ],
   "source": [
    "print(more_words)"
   ]
  },
  {
   "cell_type": "code",
   "execution_count": 16,
   "metadata": {},
   "outputs": [
    {
     "name": "stdout",
     "output_type": "stream",
     "text": [
      "['the', 'cat', 'is', 'on', 'the', 'mat']\n"
     ]
    }
   ],
   "source": [
    "print(words)"
   ]
  },
  {
   "cell_type": "code",
   "execution_count": 17,
   "metadata": {},
   "outputs": [
    {
     "name": "stdout",
     "output_type": "stream",
     "text": [
      "['the c', 't is on the m', 't', 'it', 'is', 'sleeping']\n"
     ]
    }
   ],
   "source": [
    "print(more_words)"
   ]
  },
  {
   "cell_type": "code",
   "execution_count": 19,
   "metadata": {},
   "outputs": [
    {
     "name": "stdout",
     "output_type": "stream",
     "text": [
      "['the', 'cat', 'is', 'on', 'the', 'mat']\n",
      "['the', 'cat', 'is', 'on', 'the', 'mat', 'it', 'is', 'sleeping']\n"
     ]
    }
   ],
   "source": [
    "words = sentence.split()\n",
    "more_words = words + ['it', 'is', 'sleeping']\n",
    "\n",
    "print(words)\n",
    "print(more_words)"
   ]
  },
  {
   "cell_type": "code",
   "execution_count": 20,
   "metadata": {},
   "outputs": [
    {
     "name": "stdout",
     "output_type": "stream",
     "text": [
      "abc\"\n"
     ]
    }
   ],
   "source": [
    "a = 'abc\"'\n",
    "print(a)"
   ]
  },
  {
   "cell_type": "code",
   "execution_count": 21,
   "metadata": {},
   "outputs": [
    {
     "name": "stdout",
     "output_type": "stream",
     "text": [
      "4\n"
     ]
    }
   ],
   "source": [
    "x = 1\n",
    "x = x + 3\n",
    "print(x)"
   ]
  },
  {
   "cell_type": "code",
   "execution_count": 22,
   "metadata": {},
   "outputs": [],
   "source": [
    "vowels = ['a','o','u']\n",
    "vowels += ['e','i']"
   ]
  },
  {
   "cell_type": "code",
   "execution_count": 23,
   "metadata": {},
   "outputs": [
    {
     "name": "stdout",
     "output_type": "stream",
     "text": [
      "['a', 'o', 'u', 'e', 'i']\n"
     ]
    }
   ],
   "source": [
    "print(vowels)"
   ]
  },
  {
   "cell_type": "code",
   "execution_count": 24,
   "metadata": {},
   "outputs": [
    {
     "name": "stdout",
     "output_type": "stream",
     "text": [
      "['a', 'o', 'u', 'e', 'i', 'ae']\n"
     ]
    }
   ],
   "source": [
    "vowels.append('ae') # Добавление элемента в конец списка\n",
    "print(vowels)"
   ]
  },
  {
   "cell_type": "code",
   "execution_count": 25,
   "metadata": {},
   "outputs": [
    {
     "name": "stdout",
     "output_type": "stream",
     "text": [
      "o\n"
     ]
    }
   ],
   "source": [
    "print(vowels[1])"
   ]
  },
  {
   "cell_type": "code",
   "execution_count": 26,
   "metadata": {},
   "outputs": [
    {
     "name": "stdout",
     "output_type": "stream",
     "text": [
      "i\n"
     ]
    }
   ],
   "source": [
    "print(vowels[-2])"
   ]
  },
  {
   "cell_type": "code",
   "execution_count": 27,
   "metadata": {},
   "outputs": [
    {
     "name": "stdout",
     "output_type": "stream",
     "text": [
      "i\n"
     ]
    }
   ],
   "source": [
    "print(vowels[4])"
   ]
  },
  {
   "cell_type": "code",
   "execution_count": 28,
   "metadata": {},
   "outputs": [
    {
     "name": "stdout",
     "output_type": "stream",
     "text": [
      "a\n"
     ]
    }
   ],
   "source": [
    "print(vowels[-6])"
   ]
  },
  {
   "cell_type": "code",
   "execution_count": 29,
   "metadata": {},
   "outputs": [
    {
     "name": "stdout",
     "output_type": "stream",
     "text": [
      "['o', 'u', 'e', 'i', 'ae']\n"
     ]
    }
   ],
   "source": [
    "print(vowels[1:]) # символ, с которого начинаем, включён"
   ]
  },
  {
   "cell_type": "code",
   "execution_count": 30,
   "metadata": {},
   "outputs": [
    {
     "name": "stdout",
     "output_type": "stream",
     "text": [
      "['a', 'o', 'u']\n"
     ]
    }
   ],
   "source": [
    "print(vowels[:3]) # символ, до которого выводится массив не включён."
   ]
  },
  {
   "cell_type": "code",
   "execution_count": 37,
   "metadata": {},
   "outputs": [
    {
     "name": "stdout",
     "output_type": "stream",
     "text": [
      "['a', 'o', 'u', 'e']\n"
     ]
    }
   ],
   "source": [
    "print(vowels[:-2])"
   ]
  },
  {
   "cell_type": "code",
   "execution_count": 38,
   "metadata": {},
   "outputs": [
    {
     "name": "stdout",
     "output_type": "stream",
     "text": [
      "('brother', 'sister')\n"
     ]
    }
   ],
   "source": [
    "siblings = ('brother', 'sister')\n",
    "print(siblings)"
   ]
  },
  {
   "cell_type": "code",
   "execution_count": 39,
   "metadata": {},
   "outputs": [],
   "source": [
    "words = tuple(words)"
   ]
  },
  {
   "cell_type": "code",
   "execution_count": 40,
   "metadata": {},
   "outputs": [
    {
     "name": "stdout",
     "output_type": "stream",
     "text": [
      "('the', 'cat', 'is', 'on', 'the', 'mat')\n"
     ]
    }
   ],
   "source": [
    "print(words)"
   ]
  },
  {
   "cell_type": "code",
   "execution_count": 41,
   "metadata": {},
   "outputs": [],
   "source": [
    "letters= tuple(sentence)"
   ]
  },
  {
   "cell_type": "code",
   "execution_count": 42,
   "metadata": {},
   "outputs": [
    {
     "name": "stdout",
     "output_type": "stream",
     "text": [
      "('t', 'h', 'e', ' ', 'c', 'a', 't', ' ', 'i', 's', ' ', 'o', 'n', ' ', 't', 'h', 'e', ' ', 'm', 'a', 't')\n"
     ]
    }
   ],
   "source": [
    "print(letters)"
   ]
  },
  {
   "cell_type": "code",
   "execution_count": 43,
   "metadata": {},
   "outputs": [],
   "source": [
    "big_family = siblings * 3"
   ]
  },
  {
   "cell_type": "code",
   "execution_count": 44,
   "metadata": {},
   "outputs": [
    {
     "name": "stdout",
     "output_type": "stream",
     "text": [
      "['brother', 'brother', 'brother', 'sister', 'sister', 'sister']\n"
     ]
    }
   ],
   "source": [
    "print(sorted(big_family))"
   ]
  },
  {
   "cell_type": "code",
   "execution_count": 45,
   "metadata": {},
   "outputs": [
    {
     "name": "stdout",
     "output_type": "stream",
     "text": [
      "['живут', 'на', 'земле', 'существа', 'неземной', 'красоты.', 'я', 'думаю,', 'ты', 'догадался,', 'что', 'это', '-', 'коты.', '(да,', 'кошки', '-', 'хорошее', 'слово,', 'научное', 'слово,', 'но', 'ты,', 'читатель,', 'забудь', 'это', 'слово', 'и', 'помни', 'лишь', 'слово', 'коты!)', 'коты', 'грациозны', '-', 'какая', 'гимнастка', 'сравнится', 'с', 'котом?', 'взгляни,', 'например,', 'как', 'он', 'лижет', 'себя', 'под', 'хвостом!', 'коты', 'музыкальны', '-', 'не', 'верь,', 'о', 'читатель,', 'пустым', 'разговорам,', 'что', 'будто', 'кошачий', 'концерт', 'не', 'сравнится', 'с', 'ангельским', 'хором...', 'а', 'впрочем,', 'коты', 'не', 'боятся', 'людской', 'клеветы.', 'коты', '-', 'они', 'выше', 'мирской', 'суеты.', 'поверь,', 'словно', 'светоч', 'среди', 'темноты,', 'нам', 'посланы', 'свыше', 'коты!..', 'но', 'тот,', 'кто', 'не', 'хочет', '(а', 'ты', 'ведь', 'не', 'хочешь?)', 'с', 'котами', 'расстаться,', 'тот', 'должен', 'серьёзно', '(да,', 'очень', 'серьёзно!)', 'с', 'котами', 'считаться.', 'наука', 'открыла:', 'природа', 'не', 'можеть', 'терпеть', 'пустоты.', 'добавлю:', 'особенно', '-', 'лучшая', 'часть', 'этой', 'самой', 'природы', '-', 'коты.', 'держать', 'на', 'голодном', 'пайке?', 'говорят,', 'можно', 'так', 'обращаться', 'с', 'людьми...', 'но', 'если', 'ты', 'держишь', 'котов,', 'то', 'корми,', 'и', 'корми,', 'и', 'корми!', 'коты', 'в', 'нашем', 'доме', 'покой', 'и', 'уют', 'создают,', '-', 'но', 'сами', 'коты', 'тоже', 'любят', 'покой', 'и', 'уют!', 'и', 'если,', 'допустим,', 'внезапно', 'захочешь', 'ударить', 'в', 'тамтам,', 'сначала', 'подумай,', 'приятно', 'ли', 'это', 'котам!', 'а', 'главное', '-', 'даже', 'не', 'пробуй', 'к', 'котам', 'обращаться', '\"на', 'ты\",', 'поскольку', 'любой,', 'самый', 'маленький', 'кот', '-', 'это', 'тоже', 'коты!', 'советую', 'не', 'забывать,', 'что', 'коты', '-', 'несомненные', 'родичи', 'тигров,', 'и', 'помнить', 'народную', 'мудрость', '(её', 'я', 'вынес', 'в', 'эпиграф).', 'осталось', 'добавить,', 'что', 'тех,', 'кто', 'не', 'хочет', 'серьёзно', 'считаться', 'с', 'котами,', 'коты', '(и', 'вполне', 'справедливо!)', 'считают', 'скотами!']\n"
     ]
    }
   ],
   "source": [
    "# Записываем стихотворение в переменную\n",
    "poem = ''' живут на земле\n",
    " существа неземной красоты.\n",
    " я думаю, ты догадался,\n",
    " что это - коты.\n",
    " (да, кошки - хорошее слово, \n",
    " научное слово, но ты,\n",
    " читатель, забудь это слово\n",
    " и помни лишь слово коты!)\n",
    " коты грациозны -\n",
    " какая гимнастка\n",
    " сравнится с котом?\n",
    " взгляни, например,\n",
    " как он лижет себя под хвостом!\n",
    " коты музыкальны -\n",
    " не верь, о читатель,\n",
    " пустым разговорам,\n",
    " что будто кошачий концерт\n",
    " не сравнится с ангельским хором...\n",
    " а впрочем, коты\n",
    " не боятся людской клеветы.\n",
    " коты - они выше мирской суеты.\n",
    " поверь, словно светоч среди темноты,\n",
    " нам посланы свыше коты!..\n",
    " но тот, кто не хочет\n",
    " (а ты ведь не хочешь?)\n",
    " с котами расстаться,\n",
    " тот должен серьёзно\n",
    " (да, очень серьёзно!)\n",
    " с котами считаться.\n",
    " наука открыла:\n",
    " природа не можеть терпеть пустоты.\n",
    " добавлю: особенно -\n",
    " лучшая часть этой самой природы -\n",
    " коты.\n",
    " держать на голодном пайке?\n",
    " говорят,\n",
    " можно так обращаться с людьми...\n",
    " но если ты держишь котов,\n",
    " то корми, и корми, и корми!\n",
    " коты в нашем доме\n",
    " покой и уют создают, -\n",
    " но сами коты\n",
    " тоже любят покой и уют!\n",
    " и если, допустим,\n",
    " внезапно захочешь\n",
    " ударить в тамтам,\n",
    " сначала подумай,\n",
    " приятно ли это котам!\n",
    " а главное - даже не пробуй\n",
    " к котам обращаться \"на ты\",\n",
    " поскольку любой,\n",
    " самый маленький кот -\n",
    " это тоже коты!\n",
    " советую не забывать,\n",
    " что коты -\n",
    " несомненные родичи тигров,\n",
    " и помнить народную мудрость\n",
    " (её я вынес в эпиграф).\n",
    " осталось добавить,\n",
    " что тех, кто не хочет\n",
    " серьёзно считаться с котами,\n",
    " коты (и вполне справедливо!)\n",
    " считают скотами!''' # /n\n",
    "\n",
    "# Создаём массив и разбиваем про пробелам\n",
    "poem_list = list(poem.split())\n",
    "print(poem_list)\n"
   ]
  },
  {
   "cell_type": "code",
   "execution_count": 65,
   "metadata": {},
   "outputs": [
    {
     "name": "stdout",
     "output_type": "stream",
     "text": [
      "Количество слов в стихотворении : 234\n",
      "Количество уникальных слов : 168\n",
      "Количество слова \"коты\" в массиве: 8\n",
      "Количество строк в стихотворении : 63\n",
      "Количество слова \"коты\" без пунктуации: 13\n"
     ]
    }
   ],
   "source": [
    "# Записываем стихотворение в переменную\n",
    "poem = ''' живут на земле\n",
    " существа неземной красоты.\n",
    " я думаю, ты догадался,\n",
    " что это - коты.\n",
    " (да, кошки - хорошее слово, \n",
    " научное слово, но ты,\n",
    " читатель, забудь это слово\n",
    " и помни лишь слово коты!)\n",
    " коты грациозны -\n",
    " какая гимнастка\n",
    " сравнится с котом?\n",
    " взгляни, например,\n",
    " как он лижет себя под хвостом!\n",
    " коты музыкальны -\n",
    " не верь, о читатель,\n",
    " пустым разговорам,\n",
    " что будто кошачий концерт\n",
    " не сравнится с ангельским хором...\n",
    " а впрочем, коты\n",
    " не боятся людской клеветы.\n",
    " коты - они выше мирской суеты.\n",
    " поверь, словно светоч среди темноты,\n",
    " нам посланы свыше коты!..\n",
    " но тот, кто не хочет\n",
    " (а ты ведь не хочешь?)\n",
    " с котами расстаться,\n",
    " тот должен серьёзно\n",
    " (да, очень серьёзно!)\n",
    " с котами считаться.\n",
    " наука открыла:\n",
    " природа не можеть терпеть пустоты.\n",
    " добавлю: особенно -\n",
    " лучшая часть этой самой природы -\n",
    " коты.\n",
    " держать на голодном пайке?\n",
    " говорят,\n",
    " можно так обращаться с людьми...\n",
    " но если ты держишь котов,\n",
    " то корми, и корми, и корми!\n",
    " коты в нашем доме\n",
    " покой и уют создают, -\n",
    " но сами коты\n",
    " тоже любят покой и уют!\n",
    " и если, допустим,\n",
    " внезапно захочешь\n",
    " ударить в тамтам,\n",
    " сначала подумай,\n",
    " приятно ли это котам!\n",
    " а главное - даже не пробуй\n",
    " к котам обращаться \"на ты\",\n",
    " поскольку любой,\n",
    " самый маленький кот -\n",
    " это тоже коты!\n",
    " советую не забывать,\n",
    " что коты -\n",
    " несомненные родичи тигров,\n",
    " и помнить народную мудрость\n",
    " (её я вынес в эпиграф).\n",
    " осталось добавить,\n",
    " что тех, кто не хочет\n",
    " серьёзно считаться с котами,\n",
    " коты (и вполне справедливо!)\n",
    " считают скотами!''' # /n\n",
    "\n",
    "# Создаём массив и разбиваем про пробелам, считаем количество слов\n",
    "poem_list = list(poem.split())\n",
    "print('Количество слов в стихотворении :', len(poem_list))\n",
    "\n",
    "\n",
    "# Создаём множество из массива и разбиваем по пробелам, считаем количество уникальных слов\n",
    "poem_set = set(poem.split())\n",
    "print('Количество уникальных слов :', len(poem_set))\n",
    "\n",
    "\n",
    "# Считаем количество слова коты\n",
    "print('Количество слова \"коты\" в массиве:', poem_list.count('коты'))\n",
    "\n",
    "\n",
    "# Считаем количество строк в стихотворении\n",
    "poem_strings = list(poem.split('\\n'))\n",
    "print('Количество строк в стихотворении :', len(poem_strings))\n",
    "\n",
    "# Обрезаем пунктуацию\n",
    "from string import punctuation\n",
    "poem_list = [w.strip(punctuation) for w in poem_list]\n",
    "print('Количество слова \"коты\" без пунктуации:', poem_list.count('коты'))\n"
   ]
  },
  {
   "cell_type": "code",
   "execution_count": 99,
   "metadata": {},
   "outputs": [
    {
     "name": "stdout",
     "output_type": "stream",
     "text": [
      "Введите ваш год рождения\n",
      "2015\n",
      "Как рано вы научились обращаться с компьютером!\n"
     ]
    }
   ],
   "source": [
    "\n",
    "year = input(\"Введите ваш год рождения\\n\")\n",
    "\n",
    "if len(year) != 4:\n",
    "    print(\"Введено неверное число\")\n",
    "else:\n",
    "    year = int(year)\n",
    "    if year <= 0:\n",
    "        print(\"Вы родились до нашей эры?!\")\n",
    "    elif year > 0 and year < 1900:\n",
    "        print(\"Вы родились до XX века?!\")\n",
    "    elif year > 2010:\n",
    "        print(\"Как рано вы научились обращаться с компьютером!\")\n",
    "    else:\n",
    "        age = 2017 - year\n",
    "        print(\"К началу 2018 года вам было\", age)"
   ]
  },
  {
   "cell_type": "code",
   "execution_count": 95,
   "metadata": {},
   "outputs": [
    {
     "name": "stdout",
     "output_type": "stream",
     "text": [
      "Введите любое слово\n",
      "Юля\n",
      "Слово \"Юля\" встречается 1 раз.\n"
     ]
    }
   ],
   "source": [
    "new_word = input('Введите любое слово\\n')\n",
    "\n",
    "if poem_list.count(new_word) != 0:\n",
    "    print('Слово \"%s\" встречается %s раз.' % (new_word, poem_list.count(new_word)))\n",
    "else:\n",
    "    poem_list.append(new_word)\n",
    "    print('Слово \"%s\" добавлено.' % new_word)"
   ]
  },
  {
   "cell_type": "markdown",
   "metadata": {},
   "source": [
    "В словаре ключом могут быть либо данные любого типа, либо кортежи. "
   ]
  },
  {
   "cell_type": "code",
   "execution_count": 1,
   "metadata": {},
   "outputs": [
    {
     "name": "stdout",
     "output_type": "stream",
     "text": [
      "{1: 1, 2: 4, 3: 9, 4: 16}\n"
     ]
    }
   ],
   "source": [
    "squared = {1:1, 2:4, 3:9, 4:16}\n",
    "print(squared)"
   ]
  },
  {
   "cell_type": "code",
   "execution_count": 2,
   "metadata": {},
   "outputs": [],
   "source": [
    "squared[5] = 25"
   ]
  },
  {
   "cell_type": "code",
   "execution_count": 3,
   "metadata": {},
   "outputs": [
    {
     "name": "stdout",
     "output_type": "stream",
     "text": [
      "{1: 1, 2: 4, 3: 9, 4: 16, 5: 25}\n"
     ]
    }
   ],
   "source": [
    "print(squared)"
   ]
  },
  {
   "cell_type": "code",
   "execution_count": 4,
   "metadata": {},
   "outputs": [
    {
     "data": {
      "text/plain": [
       "9"
      ]
     },
     "execution_count": 4,
     "metadata": {},
     "output_type": "execute_result"
    }
   ],
   "source": [
    "squared[3]"
   ]
  },
  {
   "cell_type": "code",
   "execution_count": 5,
   "metadata": {},
   "outputs": [
    {
     "name": "stdout",
     "output_type": "stream",
     "text": [
      "False\n"
     ]
    }
   ],
   "source": [
    "print(7 in squared)"
   ]
  },
  {
   "cell_type": "code",
   "execution_count": 6,
   "metadata": {},
   "outputs": [
    {
     "data": {
      "text/plain": [
       "1992"
      ]
     },
     "execution_count": 6,
     "metadata": {},
     "output_type": "execute_result"
    }
   ],
   "source": [
    "\n",
    "# словарь с годами рождения\n",
    "birthdays = {\"Вася\": 1991, \"Маша\": 1992, \"Петя\": 1992}\n",
    "\n",
    "# ключ есть в словаре\n",
    "birthdays.get(\"Петя\")"
   ]
  },
  {
   "cell_type": "code",
   "execution_count": 10,
   "metadata": {},
   "outputs": [
    {
     "name": "stdout",
     "output_type": "stream",
     "text": [
      "1997\n"
     ]
    }
   ],
   "source": [
    "print(birthdays.get('Юля', 1997))"
   ]
  },
  {
   "cell_type": "code",
   "execution_count": 13,
   "metadata": {},
   "outputs": [
    {
     "name": "stdout",
     "output_type": "stream",
     "text": [
      "Введите год рождения \n",
      "1999\n",
      "1999\n"
     ]
    }
   ],
   "source": [
    "print(birthdays.get('Алексей', input('Введите год рождения \\n')))"
   ]
  },
  {
   "cell_type": "code",
   "execution_count": 21,
   "metadata": {},
   "outputs": [
    {
     "name": "stdout",
     "output_type": "stream",
     "text": [
      "Введите год рождения: 1789\n"
     ]
    }
   ],
   "source": [
    "birthdays = {\"Вася\": 1991, \"Маша\": 1992, \"Петя\": 1992}\n",
    "name = 'Иннокентий'\n",
    "birthdays[name] = birthdays.get(name, int(input('Введите год рождения: ')))"
   ]
  },
  {
   "cell_type": "code",
   "execution_count": 22,
   "metadata": {},
   "outputs": [
    {
     "name": "stdout",
     "output_type": "stream",
     "text": [
      "{'Вася': 1991, 'Маша': 1992, 'Петя': 1992, 'Иннокентий': 1789}\n"
     ]
    }
   ],
   "source": [
    "print(birthdays)"
   ]
  },
  {
   "cell_type": "code",
   "execution_count": null,
   "metadata": {},
   "outputs": [],
   "source": [
    "# определение функции\n",
    "def sounds(sound):\n",
    "    vowels = [\"а\", \"о\", \"и\", \"е\", \"у\", \"ы\"]\n",
    "    if len(sound) != 1:\n",
    "        print(\"Введены неверные данные\")\n",
    "    else:\n",
    "        if sound in vowels:\n",
    "            return \"Это гласная!\"\n",
    "        else:\n",
    "            return \"Это согласная!\"\n"
   ]
  },
  {
   "cell_type": "code",
   "execution_count": 26,
   "metadata": {},
   "outputs": [
    {
     "name": "stdout",
     "output_type": "stream",
     "text": [
      "Введите букву русского алфавита\n",
      "4\n"
     ]
    },
    {
     "data": {
      "text/plain": [
       "'Это согласная!'"
      ]
     },
     "execution_count": 26,
     "metadata": {},
     "output_type": "execute_result"
    }
   ],
   "source": [
    "# вызов функции        \n",
    "sounds(input(\"Введите букву русского алфавита\\n\"))"
   ]
  },
  {
   "cell_type": "code",
   "execution_count": 28,
   "metadata": {},
   "outputs": [
    {
     "name": "stdout",
     "output_type": "stream",
     "text": [
      "1491\n"
     ]
    }
   ],
   "source": [
    "def addition(x, y):\n",
    "    return x + y\n",
    "\n",
    "print(addition(548, 943))"
   ]
  },
  {
   "cell_type": "code",
   "execution_count": null,
   "metadata": {},
   "outputs": [],
   "source": [
    "phones = {\"Вася\":89124679822, \"Маша\":89344672548, \"Петя\":89766806493}"
   ]
  },
  {
   "cell_type": "code",
   "execution_count": 110,
   "metadata": {},
   "outputs": [],
   "source": [
    "def checkphone(name):\n",
    "\n",
    "    if len(name) <= 0:                 # правильность введённых данных\n",
    "        return 'Введены неверные данные'\n",
    "    else:\n",
    "        if name in phones:             # есть ли имя в словаре\n",
    "            return 'Номер телефона: ', phones.get(name)\n",
    "        else:                          # записать имя и номер в словарь\n",
    "            phones[name] = phones.get(name, (int(input(\"Такого имени нет. Введите номер телефона: \"))))\n",
    "            return phones"
   ]
  },
  {
   "cell_type": "code",
   "execution_count": 114,
   "metadata": {},
   "outputs": [
    {
     "name": "stdout",
     "output_type": "stream",
     "text": [
      "Введите имя: \n",
      "Вася\n"
     ]
    },
    {
     "data": {
      "text/plain": [
       "('Номер телефона: ', 89124679822)"
      ]
     },
     "execution_count": 114,
     "metadata": {},
     "output_type": "execute_result"
    }
   ],
   "source": [
    "checkphone(input(\"Введите имя: \\n\"))"
   ]
  },
  {
   "cell_type": "code",
   "execution_count": 115,
   "metadata": {},
   "outputs": [
    {
     "name": "stdout",
     "output_type": "stream",
     "text": [
      "vvedi\n",
      "yulia\n"
     ]
    }
   ],
   "source": [
    "word = input('vvedi\\n')"
   ]
  },
  {
   "cell_type": "code",
   "execution_count": 116,
   "metadata": {},
   "outputs": [
    {
     "name": "stdout",
     "output_type": "stream",
     "text": [
      "yulia\n",
      "yuli\n",
      "yul\n",
      "yu\n",
      "y\n"
     ]
    }
   ],
   "source": [
    "while len(word) > 0:\n",
    "    print(word)\n",
    "    word = word[:-1]"
   ]
  },
  {
   "cell_type": "code",
   "execution_count": 117,
   "metadata": {},
   "outputs": [
    {
     "name": "stdout",
     "output_type": "stream",
     "text": [
      "I have been to Russia\n",
      "I have been to France\n",
      "I have been to Turkey\n",
      "I have been to Georgia\n",
      "There is a city called Moscow\n",
      "There is a city called Paris\n",
      "There is a city called Ankara\n",
      "There is a city called Tbilisi\n",
      "Moscow is the capital of Russia\n",
      "Paris is the capital of France\n",
      "Ankara is the capital of Turkey\n",
      "Tbilisi is the capital of Georgia\n"
     ]
    }
   ],
   "source": [
    "capitals = {\"Russia\": \"Moscow\", \"France\": \"Paris\", \"Turkey\": \"Ankara\", \"Georgia\": \"Tbilisi\"}\n",
    "\n",
    "# итерация по ключам словаря\n",
    "for key in capitals.keys():\n",
    "    print(\"I have been to\", key)\n",
    "    \n",
    "# итерация по значениям словаря\n",
    "for value in capitals.values():\n",
    "    print(\"There is a city called\", value)\n",
    "    \n",
    "# итерация по ключам и значениям\n",
    "for k, v in capitals.items():\n",
    "    print(v, \"is the capital of\", k)"
   ]
  },
  {
   "cell_type": "code",
   "execution_count": 120,
   "metadata": {},
   "outputs": [
    {
     "name": "stdout",
     "output_type": "stream",
     "text": [
      "a!\n",
      "aa!\n",
      "aaa!\n",
      "aaaa!\n",
      "aaaaa!\n",
      "aaaaaa!\n",
      "aaaaaaa!\n",
      "aaaaaaaa!\n",
      "aaaaaaaaa!\n",
      "aaaaaaaaaa!\n"
     ]
    }
   ],
   "source": [
    "for i in range(10):\n",
    "    print(\"a\" * (i+1), '!', sep=\"\")"
   ]
  },
  {
   "cell_type": "code",
   "execution_count": 122,
   "metadata": {},
   "outputs": [
    {
     "name": "stdout",
     "output_type": "stream",
     "text": [
      "aaaa!\n",
      "aaaaaaaaa!\n",
      "aaaaaaaaaaaaaa!\n",
      "aaaaaaaaaaaaaaaaaaa!\n",
      "aaaaaaaaaaaaaaaaaaaaaaaa!\n",
      "aaaaaaaaaaaaaaaaaaaaaaaaaaaaa!\n"
     ]
    }
   ],
   "source": [
    "for i in range(3, 30, 5):\n",
    "    print(\"a\" * (i+1), '!', sep=\"\")"
   ]
  },
  {
   "cell_type": "code",
   "execution_count": 133,
   "metadata": {},
   "outputs": [
    {
     "name": "stdout",
     "output_type": "stream",
     "text": [
      "Moscow, Russia\n",
      "Paris, France\n",
      "Ankara, Turkey\n",
      "Tbilisi, Georgia\n"
     ]
    }
   ],
   "source": [
    "capitals = {\"Russia\": \"Moscow\", \"France\": \"Paris\", \"Turkey\": \"Ankara\", \"Georgia\": \"Tbilisi\", \"Italy\": \"Rome\", \"Great Britain\": \"London\"}\n",
    "for k, v in capitals.items():\n",
    "    if k == 'Italy':\n",
    "        break\n",
    "    print(v, \", \", k, sep='')\n",
    "    "
   ]
  },
  {
   "cell_type": "code",
   "execution_count": 149,
   "metadata": {},
   "outputs": [
    {
     "name": "stdout",
     "output_type": "stream",
     "text": [
      "варкалось\n",
      "хливкие\n",
      "шорьки\n",
      "пырялись\n",
      "по\n",
      "наве\n",
      "и\n",
      "хрюкотали\n",
      "зелюки\n",
      "как\n",
      "мюмзики\n",
      "в\n",
      "мове\n",
      "о\n",
      "бойся\n",
      "бармаглота\n",
      "сын\n",
      "он\n",
      "так\n",
      "свирлеп\n",
      "и\n",
      "дик\n",
      "а\n",
      "в\n",
      "глyще\n",
      "рымит\n",
      "исполин\n",
      "злопастный\n",
      "брандашмыг\n"
     ]
    }
   ],
   "source": [
    "# текст - список\n",
    "text = 'варкалось хливкие шорьки пырялись по наве и хрюкотали зелюки как мюмзики в мове о бойся бармаглота сын он так свирлеп и дик а в глyще рымит исполин злопастный брандашмыг'.split()\n",
    "for text[0] in text:\n",
    "    print(text[0])\n"
   ]
  },
  {
   "cell_type": "code",
   "execution_count": 2,
   "metadata": {},
   "outputs": [
    {
     "name": "stdout",
     "output_type": "stream",
     "text": [
      "/Users/yulia/Desktop/python-dh-hw\n"
     ]
    }
   ],
   "source": [
    "import os\n",
    "print(os.getcwd())"
   ]
  },
  {
   "cell_type": "code",
   "execution_count": 4,
   "metadata": {},
   "outputs": [
    {
     "name": "stdout",
     "output_type": "stream",
     "text": [
      ".git\n",
      ".gitignore\n",
      ".ipynb_checkpoints\n",
      "Classwork.ipynb\n",
      "helloworld.txt\n",
      "HW1.ipynb\n",
      "Miniconda3-latest-MacOSX-x86_64.sh\n",
      "README.md\n",
      "test.txt\n"
     ]
    }
   ],
   "source": [
    "# а теперь посмотрим список файлов и папок внутри нее\n",
    "\n",
    "for file in os.listdir(): # точка = текущая папка\n",
    "    print(file)"
   ]
  },
  {
   "cell_type": "code",
   "execution_count": 5,
   "metadata": {},
   "outputs": [
    {
     "data": {
      "text/plain": [
       "False"
      ]
     },
     "execution_count": 5,
     "metadata": {},
     "output_type": "execute_result"
    }
   ],
   "source": [
    "# создаем папку (если она уже есть, программа выдаст ошибку)\n",
    "os.mkdir('./new')\n",
    "\n",
    "# создаем несколько вложенных папок\n",
    "os.makedirs('./new/texts/poems')\n",
    "\n",
    "# удаляем все пустые папки (начиная с самой внутренней)\n",
    "os.removedirs('./new/texts/poems')\n",
    "\n",
    "# проверяем (подробнее об этом ниже)\n",
    "os.path.exists('./new')"
   ]
  },
  {
   "cell_type": "code",
   "execution_count": 6,
   "metadata": {},
   "outputs": [
    {
     "data": {
      "text/plain": [
       "'/Users/yulia/Desktop/python-dh-hw'"
      ]
     },
     "execution_count": 6,
     "metadata": {},
     "output_type": "execute_result"
    }
   ],
   "source": [
    "os.getcwd()\n"
   ]
  },
  {
   "cell_type": "code",
   "execution_count": 2,
   "metadata": {},
   "outputs": [],
   "source": [
    "import os"
   ]
  },
  {
   "cell_type": "code",
   "execution_count": 31,
   "metadata": {},
   "outputs": [
    {
     "data": {
      "text/plain": [
       "'/Users/yulia/Desktop/python-dh-hw'"
      ]
     },
     "execution_count": 31,
     "metadata": {},
     "output_type": "execute_result"
    }
   ],
   "source": [
    "os.getcwd()"
   ]
  },
  {
   "cell_type": "code",
   "execution_count": 39,
   "metadata": {},
   "outputs": [
    {
     "name": "stdout",
     "output_type": "stream",
     "text": [
      "./.gitignore\n",
      "./Classwork.ipynb\n",
      "./helloworld.txt\n",
      "./HW1.ipynb\n",
      "./Miniconda3-latest-MacOSX-x86_64.sh\n",
      "./README.md\n",
      "./test.txt\n",
      "./.git/config\n",
      "./.git/description\n",
      "./.git/HEAD\n",
      "./.git/index\n",
      "./.git/packed-refs\n",
      "./.git/hooks/applypatch-msg.sample\n",
      "./.git/hooks/commit-msg.sample\n",
      "./.git/hooks/post-update.sample\n",
      "./.git/hooks/pre-applypatch.sample\n",
      "./.git/hooks/pre-commit.sample\n",
      "./.git/hooks/pre-push.sample\n",
      "./.git/hooks/pre-rebase.sample\n",
      "./.git/hooks/pre-receive.sample\n",
      "./.git/hooks/prepare-commit-msg.sample\n",
      "./.git/hooks/update.sample\n",
      "./.git/info/exclude\n",
      "./.git/logs/HEAD\n",
      "./.git/logs/refs/heads/master\n",
      "./.git/logs/refs/remotes/origin/HEAD\n",
      "./.git/objects/09/2bfb9bdf74dd8cfd22e812151281ee9aa6f01a\n",
      "./.git/objects/0c/ffc4761ba898388ce681e3fd37417080ee27a8\n",
      "./.git/objects/22/7ee88fdcac7d7e1b9fa0e285beba8896762850\n",
      "./.git/objects/23/dcd98bf10aca44609b823368a3a70d5cb4b1f0\n",
      "./.git/objects/31/6f6b6d0e421e2a41650f613c99c3d29ac8b38a\n",
      "./.git/objects/33/703551376dfcf055f1c8060091a1ffebafd386\n",
      "./.git/objects/38/bfec7c7f0e05b788fb8116fe515e173797d503\n",
      "./.git/objects/43/a96ca8090f1f35c20755ef06a9678b8781b6a9\n",
      "./.git/objects/44/000978718da7fa7a0e89d99a0e8ad80baba2c8\n",
      "./.git/objects/48/affae73df0e668b87613568daa1da4c8c0ec65\n",
      "./.git/objects/49/6ee2ca6a2f08396a4076fe43dedf3dc0da8b6d\n",
      "./.git/objects/4c/e4afe878d07f6ea59751754d866e27b72e4d67\n",
      "./.git/objects/4e/2bf061d0a7bff6a52a24ba64a321e40539569b\n",
      "./.git/objects/59/8a489ec9ca6a57e792108d0c9a014c2d2ae2c9\n",
      "./.git/objects/60/81751a3206e6c3033fee828778ed45096ab02b\n",
      "./.git/objects/63/72ab37f724a6aae8ad5339430785b4b79190e5\n",
      "./.git/objects/66/8333b71329c5b625b11bb20aae8993c6a5c93c\n",
      "./.git/objects/67/69dd60bdf536a83c9353272157893043e9f7d0\n",
      "./.git/objects/6a/0812a4dae929ecff650200de401f4e0e4d8b61\n",
      "./.git/objects/6d/a4e5027d1d36a8da3a1ad902ab552e5b7fc291\n",
      "./.git/objects/89/4a44cc066a027465cd26d634948d56d13af9af\n",
      "./.git/objects/8d/4c3b20648c09444cac818ae7265bbf9c8a4ed9\n",
      "./.git/objects/96/917cb075428110483841d564690c19bbe868f3\n",
      "./.git/objects/9b/958f0173b0c9457d0e29dfaffa23e2509ea21f\n",
      "./.git/objects/9c/15442fe03145ff9e0c64f860dcdfc5938dba27\n",
      "./.git/objects/9c/20aa33788a4783d84fb2ab6681512d6ca8ef22\n",
      "./.git/objects/9d/1c0d002172b3bc56de036f90c64e27491f2fb0\n",
      "./.git/objects/9e/ce98e5a1441edf19cb2d2171d18767b8245aa1\n",
      "./.git/objects/a5/85484ba821adbf126e486454a3857cb05b4b05\n",
      "./.git/objects/b6/87d8841b6617ce5e129fa09eebed7628a1f80c\n",
      "./.git/objects/c4/d9df7239519a83593b6b70a9d5bd76efc5f880\n",
      "./.git/objects/cb/e6c47dcb69e60b7d353aac229afa5d9075c346\n",
      "./.git/objects/d6/37c6b6c29f41cdcf722c73c30c1defc7fc0be0\n",
      "./.git/objects/dd/fe228a7514030be2b92fe38f08c70b02207002\n",
      "./.git/objects/e6/ec61c08a744eae0b0b1bcceb71c6d0fccf658e\n",
      "./.git/objects/e9/8cbf5614d0915e112b2b1270ba7ed15ef1489d\n",
      "./.git/objects/ea/9265228e669ae0235d11004867a4fc4d30a836\n",
      "./.git/objects/f5/3ef5e092f7999768e04484b03bd616cb0f8bd3\n",
      "./.git/objects/f6/4e75e8bb00d3badc35d87d552972427e533753\n",
      "./.git/refs/heads/master\n",
      "./.git/refs/remotes/origin/HEAD\n",
      "./.ipynb_checkpoints/Classwork-checkpoint.ipynb\n",
      "./poems/боль.txt\n",
      "./poems/ворон.txt\n",
      "./poems/деды.txt\n",
      "./poems/кладь.txt\n",
      "./poems/ночь.txt\n",
      "./poems/шредингер.txt\n",
      "./poems/котики/кот.txt\n",
      "./poems/котики/лео.txt\n",
      "./poems/котики/пушок.txt\n",
      "./poems/сказки/гримм.txt\n",
      "./poems/сказки/королевич.txt\n",
      "./poems/сказки/король.txt\n",
      "./poems/сказки/крестная.txt\n",
      "./poems/сказки/яга.txt\n",
      "Количество файлов:  59\n"
     ]
    }
   ],
   "source": [
    "# Распечатать текущую директорию и список всех файлов и папок в ней. Посчитать и распечатать количество файлов.\n",
    "allfiles = []\n",
    "for root, dirs, files in os.walk('.'):\n",
    "    for name in files:\n",
    "        fullname = os.path.join(root, name)\n",
    "        print(fullname)\n",
    "    allfiles.append(files)\n",
    "print('Количество файлов: ', len(allfiles))"
   ]
  },
  {
   "cell_type": "code",
   "execution_count": 46,
   "metadata": {},
   "outputs": [
    {
     "name": "stdout",
     "output_type": "stream",
     "text": [
      "\n",
      " False\n",
      "\n",
      " кот по цепи идёт направо \n",
      "и упирается в щиток \n",
      "а от щитка идя налево \n",
      "он ток\n",
      "\n",
      " ['а боль у вас какого рода ', 'спросил дежурный врач а я ', 'как на духу она ответил ', 'моя']\n"
     ]
    }
   ],
   "source": [
    "# Проверить, является ли файлом \"гримм.txt\"   \n",
    "print('\\n', os.path.isfile('./poems/гримм.txt'))\n",
    "\n",
    "\n",
    "# Распечатать содержимое файла \"кот.txt\"\n",
    "with open('./poems/котики/кот.txt', 'r', encoding='utf-8') as f:\n",
    "    kot = f.read()\n",
    "print('\\n', kot)\n",
    "\n",
    "# список строк из файла \"боль.txt\"\n",
    "with open('./poems/боль.txt', 'r', encoding='utf-8') as f:\n",
    "    bol = f.read()\n",
    "    bollist = bol.split('\\n')\n",
    "print('\\n', bollist)\n",
    "\n",
    "# Переименовать файл \"кладь.txt\"\n",
    "os.rename('./poems/кладь.txt', './poems/Кладь.txt')\n",
    "\n",
    "# Удалить файл \"пушок.txt\"\n",
    "os.remove('./poems/котики/пушок.txt')"
   ]
  },
  {
   "cell_type": "code",
   "execution_count": 47,
   "metadata": {},
   "outputs": [],
   "source": [
    "# Пройтись циклом по рабочей директории, читая содержимое каждого файла и записывая его в новый файл poems.txt\n",
    "# По завершении цикла должен получиться файл со всеми стихотворениями!"
   ]
  },
  {
   "cell_type": "code",
   "execution_count": 56,
   "metadata": {},
   "outputs": [],
   "source": [
    "for root, dirs, files in os.walk('./poems'):\n",
    "    for file0 in files:\n",
    "        with open(os.path.join(root, file0), 'r', encoding='utf-8') as f:\n",
    "            poem = f.read()\n",
    "        with open('./poems/poems.txt', 'a', encoding='utf-8') as f:\n",
    "            f.write(poem + '\\n')\n",
    "            "
   ]
  },
  {
   "cell_type": "code",
   "execution_count": 57,
   "metadata": {},
   "outputs": [],
   "source": [
    "poem = \"\"\"\n",
    "Удивительная кошка\n",
    "\n",
    "Несчастная кошка порезала лапу-\n",
    "Сидит, и ни шагу не может ступить.\n",
    "Скорей, чтобы вылечить кошкину лапу\n",
    "Воздушные шарики надо купить!\n",
    "\n",
    "И сразу столпился народ на дороге-\n",
    "Шумит, и кричит, и на кошку глядит.\n",
    "А кошка отчасти идет по дороге,\n",
    "Отчасти по воздуху плавно летит!\n",
    "\"\"\""
   ]
  },
  {
   "cell_type": "code",
   "execution_count": 58,
   "metadata": {},
   "outputs": [
    {
     "data": {
      "text/plain": [
       "291"
      ]
     },
     "execution_count": 58,
     "metadata": {},
     "output_type": "execute_result"
    }
   ],
   "source": [
    "len(poem)"
   ]
  },
  {
   "cell_type": "code",
   "execution_count": 65,
   "metadata": {},
   "outputs": [
    {
     "name": "stdout",
     "output_type": "stream",
     "text": [
      "['Удивительная', 'кошка', 'Несчастная', 'кошка', 'порезала', 'лапу', 'Сидит', 'и', 'ни', 'шагу', 'не', 'может', 'ступить', 'Скорей', 'чтобы', 'вылечить', 'кошкину', 'лапу', 'Воздушные', 'шарики', 'надо', 'купить', 'И', 'сразу', 'столпился', 'народ', 'на', 'дороге', 'Шумит', 'и', 'кричит', 'и', 'на', 'кошку', 'глядит', 'А', 'кошка', 'отчасти', 'идет', 'по', 'дороге', 'Отчасти', 'по', 'воздуху', 'плавно', 'летит']\n"
     ]
    }
   ],
   "source": [
    "words = [w.strip(\"!?.,-\") for w in poem.split()]\n",
    "print(words)"
   ]
  },
  {
   "cell_type": "code",
   "execution_count": null,
   "metadata": {},
   "outputs": [],
   "source": []
  }
 ],
 "metadata": {
  "kernelspec": {
   "display_name": "Python 3",
   "language": "python",
   "name": "python3"
  },
  "language_info": {
   "codemirror_mode": {
    "name": "ipython",
    "version": 3
   },
   "file_extension": ".py",
   "mimetype": "text/x-python",
   "name": "python",
   "nbconvert_exporter": "python",
   "pygments_lexer": "ipython3",
   "version": "3.7.0"
  }
 },
 "nbformat": 4,
 "nbformat_minor": 2
}
