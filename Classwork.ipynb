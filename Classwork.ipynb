{
 "cells": [
  {
   "cell_type": "code",
   "execution_count": null,
   "metadata": {},
   "outputs": [],
   "source": [
    "x = 1\n",
    "y = 2\n",
    "x + y"
   ]
  },
  {
   "cell_type": "code",
   "execution_count": null,
   "metadata": {},
   "outputs": [],
   "source": [
    "x += y"
   ]
  },
  {
   "cell_type": "code",
   "execution_count": null,
   "metadata": {},
   "outputs": [],
   "source": [
    "x"
   ]
  },
  {
   "cell_type": "code",
   "execution_count": null,
   "metadata": {},
   "outputs": [],
   "source": [
    "x += y\n",
    "x"
   ]
  },
  {
   "cell_type": "code",
   "execution_count": null,
   "metadata": {},
   "outputs": [],
   "source": [
    "cats = 7\n",
    "dogs = 5\n",
    "elephants = 3\n",
    "\n",
    "animals = cats + dogs + elephants\n",
    "print(animals)"
   ]
  },
  {
   "cell_type": "code",
   "execution_count": null,
   "metadata": {},
   "outputs": [],
   "source": [
    "domestic_animals = animals - elephants\n",
    "print(domestic_animals)"
   ]
  },
  {
   "cell_type": "code",
   "execution_count": null,
   "metadata": {},
   "outputs": [],
   "source": [
    "zoo_share = animals / 3\n",
    "print(zoo_share)"
   ]
  },
  {
   "cell_type": "code",
   "execution_count": null,
   "metadata": {},
   "outputs": [],
   "source": [
    "print(\"Всего животных: \" + str(animals))"
   ]
  },
  {
   "cell_type": "code",
   "execution_count": null,
   "metadata": {},
   "outputs": [],
   "source": [
    "x = True\n",
    "print(type(x))\n",
    "\n",
    "y = str(x)\n",
    "print(type(y))"
   ]
  },
  {
   "cell_type": "code",
   "execution_count": null,
   "metadata": {},
   "outputs": [],
   "source": [
    "x = 25\n",
    "print(x)\n",
    "print(type(x))\n",
    "\n",
    "y = float(x)\n",
    "print(y)\n",
    "print(type(y))"
   ]
  },
  {
   "cell_type": "code",
   "execution_count": null,
   "metadata": {},
   "outputs": [],
   "source": [
    "sound = \"a\"\n",
    "scream = sound * 10 + \"!\"\n",
    "print(scream)"
   ]
  },
  {
   "cell_type": "code",
   "execution_count": null,
   "metadata": {},
   "outputs": [],
   "source": [
    "1 > -1"
   ]
  },
  {
   "cell_type": "code",
   "execution_count": null,
   "metadata": {},
   "outputs": [],
   "source": [
    "6 > 0"
   ]
  },
  {
   "cell_type": "code",
   "execution_count": null,
   "metadata": {},
   "outputs": [],
   "source": [
    "6 < 0"
   ]
  },
  {
   "cell_type": "code",
   "execution_count": null,
   "metadata": {},
   "outputs": [],
   "source": [
    "\"cat\" == \"dog\""
   ]
  },
  {
   "cell_type": "code",
   "execution_count": null,
   "metadata": {},
   "outputs": [],
   "source": [
    "\"cat\" == \"cat\""
   ]
  },
  {
   "cell_type": "code",
   "execution_count": null,
   "metadata": {},
   "outputs": [],
   "source": [
    "2*2 != 4"
   ]
  },
  {
   "cell_type": "code",
   "execution_count": null,
   "metadata": {},
   "outputs": [],
   "source": [
    "\"python\" == \"python3\""
   ]
  },
  {
   "cell_type": "code",
   "execution_count": null,
   "metadata": {},
   "outputs": [],
   "source": [
    "\"pip\" != \"conda\""
   ]
  },
  {
   "cell_type": "code",
   "execution_count": null,
   "metadata": {},
   "outputs": [],
   "source": [
    "import math\n",
    "math.sqrt(4)"
   ]
  },
  {
   "cell_type": "code",
   "execution_count": null,
   "metadata": {},
   "outputs": [],
   "source": [
    "a = 3\n",
    "b = 7\n",
    "c = 2\n",
    "\n",
    "print( (-b + math.sqrt(b**2 - 4*a*c)) / 2*a)\n"
   ]
  },
  {
   "cell_type": "code",
   "execution_count": null,
   "metadata": {},
   "outputs": [],
   "source": [
    "a = \"кот\"\n",
    "b = \"пёс\"\n",
    "c = \"слон\"\n",
    "\n",
    "print(\"Заходят в бар %s, %s и %s\" % (a, b, c))"
   ]
  },
  {
   "cell_type": "code",
   "execution_count": null,
   "metadata": {},
   "outputs": [],
   "source": [
    "print('fd')"
   ]
  },
  {
   "cell_type": "code",
   "execution_count": null,
   "metadata": {},
   "outputs": [],
   "source": []
  },
  {
   "cell_type": "markdown",
   "metadata": {},
   "source": [
    "Первый элемент в списке — под индексом 0!!!"
   ]
  },
  {
   "cell_type": "code",
   "execution_count": null,
   "metadata": {},
   "outputs": [],
   "source": [
    "sentence = 'i love python'\n",
    "letters = list(sentence)\n",
    "words = sentence.split()\n",
    "\n",
    "print(words)\n",
    "print(letters)"
   ]
  },
  {
   "cell_type": "code",
   "execution_count": null,
   "metadata": {},
   "outputs": [],
   "source": [
    "sentence = 'ilovepython'\n",
    "letters = list(sentence)\n",
    "words = sentence.split()\n",
    "\n",
    "print(words)\n",
    "print(letters)"
   ]
  },
  {
   "cell_type": "code",
   "execution_count": null,
   "metadata": {},
   "outputs": [],
   "source": [
    "sentence = 'i'\n",
    "letters = list(sentence)\n",
    "words = sentence.split()\n",
    "\n",
    "print(words)\n",
    "print(letters)"
   ]
  },
  {
   "cell_type": "code",
   "execution_count": null,
   "metadata": {},
   "outputs": [],
   "source": [
    "sentence = 'i love python'\n",
    "letters = list(sentence)\n",
    "words = sentence.split() # разбивает строку по пробелами. Можно например написать букву или запятую\n",
    "\n",
    "print(words)\n",
    "print(letters)"
   ]
  },
  {
   "cell_type": "code",
   "execution_count": null,
   "metadata": {},
   "outputs": [],
   "source": [
    "sentence = 'the cat is on the mat'\n",
    "letters = list(sentence)\n",
    "words = sentence.split('a')\n",
    "\n",
    "print(words)\n",
    "print(letters)"
   ]
  },
  {
   "cell_type": "code",
   "execution_count": null,
   "metadata": {},
   "outputs": [],
   "source": [
    "new_list = [] # Пустой список\n",
    "print(new_list)"
   ]
  },
  {
   "cell_type": "code",
   "execution_count": null,
   "metadata": {},
   "outputs": [],
   "source": [
    "more_words = words + ['it', 'is', 'sleeping']\n",
    "print(more_words)"
   ]
  },
  {
   "cell_type": "code",
   "execution_count": null,
   "metadata": {},
   "outputs": [],
   "source": [
    "words = sentence.split()"
   ]
  },
  {
   "cell_type": "code",
   "execution_count": null,
   "metadata": {},
   "outputs": [],
   "source": [
    "print(more_words)"
   ]
  },
  {
   "cell_type": "code",
   "execution_count": null,
   "metadata": {},
   "outputs": [],
   "source": [
    "print(words)"
   ]
  },
  {
   "cell_type": "code",
   "execution_count": null,
   "metadata": {},
   "outputs": [],
   "source": [
    "print(more_words)"
   ]
  },
  {
   "cell_type": "code",
   "execution_count": null,
   "metadata": {},
   "outputs": [],
   "source": [
    "words = sentence.split()\n",
    "more_words = words + ['it', 'is', 'sleeping']\n",
    "\n",
    "print(words)\n",
    "print(more_words)"
   ]
  },
  {
   "cell_type": "code",
   "execution_count": null,
   "metadata": {},
   "outputs": [],
   "source": [
    "a = 'abc\"'\n",
    "print(a)"
   ]
  },
  {
   "cell_type": "code",
   "execution_count": null,
   "metadata": {},
   "outputs": [],
   "source": [
    "x = 1\n",
    "x = x + 3\n",
    "print(x)"
   ]
  },
  {
   "cell_type": "code",
   "execution_count": null,
   "metadata": {},
   "outputs": [],
   "source": [
    "vowels = ['a','o','u']\n",
    "vowels += ['e','i']"
   ]
  },
  {
   "cell_type": "code",
   "execution_count": null,
   "metadata": {},
   "outputs": [],
   "source": [
    "print(vowels)"
   ]
  },
  {
   "cell_type": "code",
   "execution_count": null,
   "metadata": {},
   "outputs": [],
   "source": [
    "vowels.append('ae') # Добавление элемента в конец списка\n",
    "print(vowels)"
   ]
  },
  {
   "cell_type": "code",
   "execution_count": null,
   "metadata": {},
   "outputs": [],
   "source": [
    "print(vowels[1])"
   ]
  },
  {
   "cell_type": "code",
   "execution_count": null,
   "metadata": {},
   "outputs": [],
   "source": [
    "print(vowels[-2])"
   ]
  },
  {
   "cell_type": "code",
   "execution_count": null,
   "metadata": {},
   "outputs": [],
   "source": [
    "print(vowels[4])"
   ]
  },
  {
   "cell_type": "code",
   "execution_count": null,
   "metadata": {},
   "outputs": [],
   "source": [
    "print(vowels[-6])"
   ]
  },
  {
   "cell_type": "code",
   "execution_count": null,
   "metadata": {},
   "outputs": [],
   "source": [
    "print(vowels[1:]) # символ, с которого начинаем, включён"
   ]
  },
  {
   "cell_type": "code",
   "execution_count": null,
   "metadata": {},
   "outputs": [],
   "source": [
    "print(vowels[:3]) # символ, до которого выводится массив не включён."
   ]
  },
  {
   "cell_type": "code",
   "execution_count": null,
   "metadata": {},
   "outputs": [],
   "source": [
    "print(vowels[:-2])"
   ]
  },
  {
   "cell_type": "code",
   "execution_count": null,
   "metadata": {},
   "outputs": [],
   "source": [
    "siblings = ('brother', 'sister')\n",
    "print(siblings)"
   ]
  },
  {
   "cell_type": "code",
   "execution_count": null,
   "metadata": {},
   "outputs": [],
   "source": [
    "words = tuple(words)"
   ]
  },
  {
   "cell_type": "code",
   "execution_count": null,
   "metadata": {},
   "outputs": [],
   "source": [
    "print(words)"
   ]
  },
  {
   "cell_type": "code",
   "execution_count": null,
   "metadata": {},
   "outputs": [],
   "source": [
    "letters= tuple(sentence)"
   ]
  },
  {
   "cell_type": "code",
   "execution_count": null,
   "metadata": {},
   "outputs": [],
   "source": [
    "print(letters)"
   ]
  },
  {
   "cell_type": "code",
   "execution_count": null,
   "metadata": {},
   "outputs": [],
   "source": [
    "big_family = siblings * 3"
   ]
  },
  {
   "cell_type": "code",
   "execution_count": null,
   "metadata": {},
   "outputs": [],
   "source": [
    "print(sorted(big_family))"
   ]
  },
  {
   "cell_type": "code",
   "execution_count": null,
   "metadata": {},
   "outputs": [],
   "source": [
    "# Записываем стихотворение в переменную\n",
    "poem = ''' живут на земле\n",
    " существа неземной красоты.\n",
    " я думаю, ты догадался,\n",
    " что это - коты.\n",
    " (да, кошки - хорошее слово, \n",
    " научное слово, но ты,\n",
    " читатель, забудь это слово\n",
    " и помни лишь слово коты!)\n",
    " коты грациозны -\n",
    " какая гимнастка\n",
    " сравнится с котом?\n",
    " взгляни, например,\n",
    " как он лижет себя под хвостом!\n",
    " коты музыкальны -\n",
    " не верь, о читатель,\n",
    " пустым разговорам,\n",
    " что будто кошачий концерт\n",
    " не сравнится с ангельским хором...\n",
    " а впрочем, коты\n",
    " не боятся людской клеветы.\n",
    " коты - они выше мирской суеты.\n",
    " поверь, словно светоч среди темноты,\n",
    " нам посланы свыше коты!..\n",
    " но тот, кто не хочет\n",
    " (а ты ведь не хочешь?)\n",
    " с котами расстаться,\n",
    " тот должен серьёзно\n",
    " (да, очень серьёзно!)\n",
    " с котами считаться.\n",
    " наука открыла:\n",
    " природа не можеть терпеть пустоты.\n",
    " добавлю: особенно -\n",
    " лучшая часть этой самой природы -\n",
    " коты.\n",
    " держать на голодном пайке?\n",
    " говорят,\n",
    " можно так обращаться с людьми...\n",
    " но если ты держишь котов,\n",
    " то корми, и корми, и корми!\n",
    " коты в нашем доме\n",
    " покой и уют создают, -\n",
    " но сами коты\n",
    " тоже любят покой и уют!\n",
    " и если, допустим,\n",
    " внезапно захочешь\n",
    " ударить в тамтам,\n",
    " сначала подумай,\n",
    " приятно ли это котам!\n",
    " а главное - даже не пробуй\n",
    " к котам обращаться \"на ты\",\n",
    " поскольку любой,\n",
    " самый маленький кот -\n",
    " это тоже коты!\n",
    " советую не забывать,\n",
    " что коты -\n",
    " несомненные родичи тигров,\n",
    " и помнить народную мудрость\n",
    " (её я вынес в эпиграф).\n",
    " осталось добавить,\n",
    " что тех, кто не хочет\n",
    " серьёзно считаться с котами,\n",
    " коты (и вполне справедливо!)\n",
    " считают скотами!''' # /n\n",
    "\n",
    "# Создаём массив и разбиваем про пробелам\n",
    "poem_list = list(poem.split())\n",
    "print(poem_list)\n"
   ]
  },
  {
   "cell_type": "code",
   "execution_count": null,
   "metadata": {},
   "outputs": [],
   "source": [
    "# Записываем стихотворение в переменную\n",
    "poem = ''' живут на земле\n",
    " существа неземной красоты.\n",
    " я думаю, ты догадался,\n",
    " что это - коты.\n",
    " (да, кошки - хорошее слово, \n",
    " научное слово, но ты,\n",
    " читатель, забудь это слово\n",
    " и помни лишь слово коты!)\n",
    " коты грациозны -\n",
    " какая гимнастка\n",
    " сравнится с котом?\n",
    " взгляни, например,\n",
    " как он лижет себя под хвостом!\n",
    " коты музыкальны -\n",
    " не верь, о читатель,\n",
    " пустым разговорам,\n",
    " что будто кошачий концерт\n",
    " не сравнится с ангельским хором...\n",
    " а впрочем, коты\n",
    " не боятся людской клеветы.\n",
    " коты - они выше мирской суеты.\n",
    " поверь, словно светоч среди темноты,\n",
    " нам посланы свыше коты!..\n",
    " но тот, кто не хочет\n",
    " (а ты ведь не хочешь?)\n",
    " с котами расстаться,\n",
    " тот должен серьёзно\n",
    " (да, очень серьёзно!)\n",
    " с котами считаться.\n",
    " наука открыла:\n",
    " природа не можеть терпеть пустоты.\n",
    " добавлю: особенно -\n",
    " лучшая часть этой самой природы -\n",
    " коты.\n",
    " держать на голодном пайке?\n",
    " говорят,\n",
    " можно так обращаться с людьми...\n",
    " но если ты держишь котов,\n",
    " то корми, и корми, и корми!\n",
    " коты в нашем доме\n",
    " покой и уют создают, -\n",
    " но сами коты\n",
    " тоже любят покой и уют!\n",
    " и если, допустим,\n",
    " внезапно захочешь\n",
    " ударить в тамтам,\n",
    " сначала подумай,\n",
    " приятно ли это котам!\n",
    " а главное - даже не пробуй\n",
    " к котам обращаться \"на ты\",\n",
    " поскольку любой,\n",
    " самый маленький кот -\n",
    " это тоже коты!\n",
    " советую не забывать,\n",
    " что коты -\n",
    " несомненные родичи тигров,\n",
    " и помнить народную мудрость\n",
    " (её я вынес в эпиграф).\n",
    " осталось добавить,\n",
    " что тех, кто не хочет\n",
    " серьёзно считаться с котами,\n",
    " коты (и вполне справедливо!)\n",
    " считают скотами!''' # /n\n",
    "\n",
    "# Создаём массив и разбиваем про пробелам, считаем количество слов\n",
    "poem_list = list(poem.split())\n",
    "print('Количество слов в стихотворении :', len(poem_list))\n",
    "\n",
    "\n",
    "# Создаём множество из массива и разбиваем по пробелам, считаем количество уникальных слов\n",
    "poem_set = set(poem.split())\n",
    "print('Количество уникальных слов :', len(poem_set))\n",
    "\n",
    "\n",
    "# Считаем количество слова коты\n",
    "print('Количество слова \"коты\" в массиве:', poem_list.count('коты'))\n",
    "\n",
    "\n",
    "# Считаем количество строк в стихотворении\n",
    "poem_strings = list(poem.split('\\n'))\n",
    "print('Количество строк в стихотворении :', len(poem_strings))\n",
    "\n",
    "# Обрезаем пунктуацию\n",
    "from string import punctuation\n",
    "poem_list = [w.strip(punctuation) for w in poem_list]\n",
    "print('Количество слова \"коты\" без пунктуации:', poem_list.count('коты'))\n"
   ]
  },
  {
   "cell_type": "code",
   "execution_count": null,
   "metadata": {},
   "outputs": [],
   "source": [
    "\n",
    "year = input(\"Введите ваш год рождения\\n\")\n",
    "\n",
    "if len(year) != 4:\n",
    "    print(\"Введено неверное число\")\n",
    "else:\n",
    "    year = int(year)\n",
    "    if year <= 0:\n",
    "        print(\"Вы родились до нашей эры?!\")\n",
    "    elif year > 0 and year < 1900:\n",
    "        print(\"Вы родились до XX века?!\")\n",
    "    elif year > 2010:\n",
    "        print(\"Как рано вы научились обращаться с компьютером!\")\n",
    "    else:\n",
    "        age = 2017 - year\n",
    "        print(\"К началу 2018 года вам было\", age)"
   ]
  },
  {
   "cell_type": "code",
   "execution_count": null,
   "metadata": {},
   "outputs": [],
   "source": [
    "new_word = input('Введите любое слово\\n')\n",
    "\n",
    "if poem_list.count(new_word) != 0:\n",
    "    print('Слово \"%s\" встречается %s раз.' % (new_word, poem_list.count(new_word)))\n",
    "else:\n",
    "    poem_list.append(new_word)\n",
    "    print('Слово \"%s\" добавлено.' % new_word)"
   ]
  },
  {
   "cell_type": "markdown",
   "metadata": {},
   "source": [
    "В словаре ключом могут быть либо данные любого типа, либо кортежи. "
   ]
  },
  {
   "cell_type": "code",
   "execution_count": null,
   "metadata": {},
   "outputs": [],
   "source": [
    "squared = {1:1, 2:4, 3:9, 4:16}\n",
    "print(squared)"
   ]
  },
  {
   "cell_type": "code",
   "execution_count": null,
   "metadata": {},
   "outputs": [],
   "source": [
    "squared[5] = 25"
   ]
  },
  {
   "cell_type": "code",
   "execution_count": null,
   "metadata": {},
   "outputs": [],
   "source": [
    "print(squared)"
   ]
  },
  {
   "cell_type": "code",
   "execution_count": null,
   "metadata": {},
   "outputs": [],
   "source": [
    "squared[3]"
   ]
  },
  {
   "cell_type": "code",
   "execution_count": null,
   "metadata": {},
   "outputs": [],
   "source": [
    "print(7 in squared)"
   ]
  },
  {
   "cell_type": "code",
   "execution_count": null,
   "metadata": {},
   "outputs": [],
   "source": [
    "\n",
    "# словарь с годами рождения\n",
    "birthdays = {\"Вася\": 1991, \"Маша\": 1992, \"Петя\": 1992}\n",
    "\n",
    "# ключ есть в словаре\n",
    "birthdays.get(\"Петя\")"
   ]
  },
  {
   "cell_type": "code",
   "execution_count": null,
   "metadata": {},
   "outputs": [],
   "source": [
    "print(birthdays.get('Юля', 1997))"
   ]
  },
  {
   "cell_type": "code",
   "execution_count": null,
   "metadata": {},
   "outputs": [],
   "source": [
    "print(birthdays.get('Алексей', input('Введите год рождения \\n')))"
   ]
  },
  {
   "cell_type": "code",
   "execution_count": null,
   "metadata": {},
   "outputs": [],
   "source": [
    "birthdays = {\"Вася\": 1991, \"Маша\": 1992, \"Петя\": 1992}\n",
    "name = 'Иннокентий'\n",
    "birthdays[name] = birthdays.get(name, int(input('Введите год рождения: ')))"
   ]
  },
  {
   "cell_type": "code",
   "execution_count": null,
   "metadata": {},
   "outputs": [],
   "source": [
    "print(birthdays)"
   ]
  },
  {
   "cell_type": "code",
   "execution_count": null,
   "metadata": {},
   "outputs": [],
   "source": [
    "# определение функции\n",
    "def sounds(sound):\n",
    "    vowels = [\"а\", \"о\", \"и\", \"е\", \"у\", \"ы\"]\n",
    "    if len(sound) != 1:\n",
    "        print(\"Введены неверные данные\")\n",
    "    else:\n",
    "        if sound in vowels:\n",
    "            return \"Это гласная!\"\n",
    "        else:\n",
    "            return \"Это согласная!\"\n"
   ]
  },
  {
   "cell_type": "code",
   "execution_count": null,
   "metadata": {},
   "outputs": [],
   "source": [
    "# вызов функции        \n",
    "sounds(input(\"Введите букву русского алфавита\\n\"))"
   ]
  },
  {
   "cell_type": "code",
   "execution_count": null,
   "metadata": {},
   "outputs": [],
   "source": [
    "def addition(x, y):\n",
    "    return x + y\n",
    "\n",
    "print(addition(548, 943))"
   ]
  },
  {
   "cell_type": "code",
   "execution_count": null,
   "metadata": {},
   "outputs": [],
   "source": [
    "phones = {\"Вася\":89124679822, \"Маша\":89344672548, \"Петя\":89766806493}"
   ]
  },
  {
   "cell_type": "code",
   "execution_count": null,
   "metadata": {},
   "outputs": [],
   "source": [
    "def checkphone(name):\n",
    "\n",
    "    if len(name) <= 0:                 # правильность введённых данных\n",
    "        return 'Введены неверные данные'\n",
    "    else:\n",
    "        if name in phones:             # есть ли имя в словаре\n",
    "            return 'Номер телефона: ', phones.get(name)\n",
    "        else:                          # записать имя и номер в словарь\n",
    "            phones[name] = phones.get(name, (int(input(\"Такого имени нет. Введите номер телефона: \"))))\n",
    "            return phones"
   ]
  },
  {
   "cell_type": "code",
   "execution_count": null,
   "metadata": {},
   "outputs": [],
   "source": [
    "checkphone(input(\"Введите имя: \\n\"))"
   ]
  },
  {
   "cell_type": "code",
   "execution_count": null,
   "metadata": {},
   "outputs": [],
   "source": [
    "word = input('vvedi\\n')"
   ]
  },
  {
   "cell_type": "code",
   "execution_count": null,
   "metadata": {},
   "outputs": [],
   "source": [
    "while len(word) > 0:\n",
    "    print(word)\n",
    "    word = word[:-1]"
   ]
  },
  {
   "cell_type": "code",
   "execution_count": null,
   "metadata": {},
   "outputs": [],
   "source": [
    "capitals = {\"Russia\": \"Moscow\", \"France\": \"Paris\", \"Turkey\": \"Ankara\", \"Georgia\": \"Tbilisi\"}\n",
    "\n",
    "# итерация по ключам словаря\n",
    "for key in capitals.keys():\n",
    "    print(\"I have been to\", key)\n",
    "    \n",
    "# итерация по значениям словаря\n",
    "for value in capitals.values():\n",
    "    print(\"There is a city called\", value)\n",
    "    \n",
    "# итерация по ключам и значениям\n",
    "for k, v in capitals.items():\n",
    "    print(v, \"is the capital of\", k)"
   ]
  },
  {
   "cell_type": "code",
   "execution_count": null,
   "metadata": {},
   "outputs": [],
   "source": [
    "for i in range(10):\n",
    "    print(\"a\" * (i+1), '!', sep=\"\")"
   ]
  },
  {
   "cell_type": "code",
   "execution_count": null,
   "metadata": {},
   "outputs": [],
   "source": [
    "for i in range(3, 30, 5):\n",
    "    print(\"a\" * (i+1), '!', sep=\"\")"
   ]
  },
  {
   "cell_type": "code",
   "execution_count": null,
   "metadata": {},
   "outputs": [],
   "source": [
    "capitals = {\"Russia\": \"Moscow\", \"France\": \"Paris\", \"Turkey\": \"Ankara\", \"Georgia\": \"Tbilisi\", \"Italy\": \"Rome\", \"Great Britain\": \"London\"}\n",
    "for k, v in capitals.items():\n",
    "    if k == 'Italy':\n",
    "        break\n",
    "    print(v, \", \", k, sep='')\n",
    "    "
   ]
  },
  {
   "cell_type": "code",
   "execution_count": null,
   "metadata": {},
   "outputs": [],
   "source": [
    "# текст - список\n",
    "text = 'варкалось хливкие шорьки пырялись по наве и хрюкотали зелюки как мюмзики в мове о бойся бармаглота сын он так свирлеп и дик а в глyще рымит исполин злопастный брандашмыг'.split()\n",
    "for text[0] in text:\n",
    "    print(text[0])\n"
   ]
  },
  {
   "cell_type": "code",
   "execution_count": null,
   "metadata": {},
   "outputs": [],
   "source": [
    "import os\n",
    "print(os.getcwd())"
   ]
  },
  {
   "cell_type": "code",
   "execution_count": null,
   "metadata": {},
   "outputs": [],
   "source": [
    "# а теперь посмотрим список файлов и папок внутри нее\n",
    "\n",
    "for file in os.listdir(): # точка = текущая папка\n",
    "    print(file)"
   ]
  },
  {
   "cell_type": "code",
   "execution_count": null,
   "metadata": {},
   "outputs": [],
   "source": [
    "# создаем папку (если она уже есть, программа выдаст ошибку)\n",
    "os.mkdir('./new')\n",
    "\n",
    "# создаем несколько вложенных папок\n",
    "os.makedirs('./new/texts/poems')\n",
    "\n",
    "# удаляем все пустые папки (начиная с самой внутренней)\n",
    "os.removedirs('./new/texts/poems')\n",
    "\n",
    "# проверяем (подробнее об этом ниже)\n",
    "os.path.exists('./new')"
   ]
  },
  {
   "cell_type": "code",
   "execution_count": null,
   "metadata": {},
   "outputs": [],
   "source": [
    "os.getcwd()\n"
   ]
  },
  {
   "cell_type": "code",
   "execution_count": null,
   "metadata": {},
   "outputs": [],
   "source": [
    "import os"
   ]
  },
  {
   "cell_type": "code",
   "execution_count": null,
   "metadata": {},
   "outputs": [],
   "source": [
    "os.getcwd()"
   ]
  },
  {
   "cell_type": "code",
   "execution_count": null,
   "metadata": {},
   "outputs": [],
   "source": [
    "# Распечатать текущую директорию и список всех файлов и папок в ней. Посчитать и распечатать количество файлов.\n",
    "allfiles = []\n",
    "for root, dirs, files in os.walk('.'):\n",
    "    for name in files:\n",
    "        fullname = os.path.join(root, name)\n",
    "        print(fullname)\n",
    "    allfiles.append(files)\n",
    "print('Количество файлов: ', len(allfiles))"
   ]
  },
  {
   "cell_type": "code",
   "execution_count": null,
   "metadata": {},
   "outputs": [],
   "source": [
    "# Проверить, является ли файлом \"гримм.txt\"   \n",
    "print('\\n', os.path.isfile('./poems/гримм.txt'))\n",
    "\n",
    "\n",
    "# Распечатать содержимое файла \"кот.txt\"\n",
    "with open('./poems/котики/кот.txt', 'r', encoding='utf-8') as f:\n",
    "    kot = f.read()\n",
    "print('\\n', kot)\n",
    "\n",
    "# список строк из файла \"боль.txt\"\n",
    "with open('./poems/боль.txt', 'r', encoding='utf-8') as f:\n",
    "    bol = f.read()\n",
    "    bollist = bol.split('\\n')\n",
    "print('\\n', bollist)\n",
    "\n",
    "# Переименовать файл \"кладь.txt\"\n",
    "os.rename('./poems/кладь.txt', './poems/Кладь.txt')\n",
    "\n",
    "# Удалить файл \"пушок.txt\"\n",
    "os.remove('./poems/котики/пушок.txt')"
   ]
  },
  {
   "cell_type": "code",
   "execution_count": null,
   "metadata": {},
   "outputs": [],
   "source": [
    "# Пройтись циклом по рабочей директории, читая содержимое каждого файла и записывая его в новый файл poems.txt\n",
    "# По завершении цикла должен получиться файл со всеми стихотворениями!"
   ]
  },
  {
   "cell_type": "code",
   "execution_count": null,
   "metadata": {},
   "outputs": [],
   "source": [
    "for root, dirs, files in os.walk('./poems'):\n",
    "    for file0 in files:\n",
    "        with open(os.path.join(root, file0), 'r', encoding='utf-8') as f:\n",
    "            poem = f.read()\n",
    "        with open('./poems/poems.txt', 'a', encoding='utf-8') as f:\n",
    "            f.write(poem + '\\n')\n",
    "            "
   ]
  },
  {
   "cell_type": "code",
   "execution_count": null,
   "metadata": {},
   "outputs": [],
   "source": [
    "poem = \"\"\"\n",
    "Удивительная кошка\n",
    "\n",
    "Несчастная кошка порезала лапу-\n",
    "Сидит, и ни шагу не может ступить.\n",
    "Скорей, чтобы вылечить кошкину лапу\n",
    "Воздушные шарики надо купить!\n",
    "\n",
    "И сразу столпился народ на дороге-\n",
    "Шумит, и кричит, и на кошку глядит.\n",
    "А кошка отчасти идет по дороге,\n",
    "Отчасти по воздуху плавно летит!\n",
    "\"\"\""
   ]
  },
  {
   "cell_type": "code",
   "execution_count": null,
   "metadata": {},
   "outputs": [],
   "source": [
    "len(poem)"
   ]
  },
  {
   "cell_type": "code",
   "execution_count": null,
   "metadata": {},
   "outputs": [],
   "source": [
    "words = [w.strip(\"!?.,-\") for w in poem.split()]\n",
    "print(words)"
   ]
  },
  {
   "cell_type": "markdown",
   "metadata": {},
   "source": [
    "# Регулярные выражения\n",
    "\n",
    "### Квантификаторы  \n",
    "\\* — от нуля до бесконечности   \n",
    "\\+ — од одного до бесконечности"
   ]
  },
  {
   "cell_type": "markdown",
   "metadata": {},
   "source": [
    ".{5} — ровно пять любых  \n",
    ".{10,} — от десяти до бесконечности  \n",
    ".{,10} — от любого до десяти   \n",
    "Эти скобки могут стоять после . | и тд"
   ]
  },
  {
   "cell_type": "raw",
   "metadata": {},
   "source": [
    "? — символ может быть, а может не быть. кот, крот — все найдется при кр?от  \n",
    "это может стоять и после группы. Например ко(мпо)?т найдёт кот и компот.   \n",
    "\n",
    "\n",
    "Диапазоны  \n",
    "чтобы находились только цифры или буквы  \n",
    "\\[а-я] - найти один символ из этого диапазона  \n",
    "Чтобы он нашёл слова, надо написать плюсик (звездочка будет искать нулевые последовательности. Но это найдёт только нижний регистр   \n",
    "\n",
    "Только верхний регистр будет \\[А-Я]  \n",
    "Все кир. символы будет \\[А-Яа-я]  \n",
    "Все кир плюс лат \\[А-Яа-яA-Za-z]  \n",
    "\n",
    "Если надо найти символ который может быть служебным, надо экранировать \\  \n",
    "НАпример чтобы найти два плюсика:   \\+{2}  \n",
    "чтобы найти все что в скобках  \\(.*\\)  - но тогда подсветится длинная последовательность.  \n",
    "чтобы нащлость две последовательность  \\(.*?\\)\n",
    "\n",
    "Чтобы найти цифры: \\d\n",
    "последовательность:  \\d+\n",
    "вск кроме цифр [^0-9]+\n",
    "\n",
    "Набор символов [rln]\n",
    "Все что в квадратных скобках читается как текст! то естьзвездочки и тд не работает. \n",
    "\n",
    "\\w — любой текстовый латинский символ, большие и маленькие буквы, цифра и нижнее подчеркиваения\n",
    "\\W - все кроме того что наверху. \n",
    "\n",
    "^ - перенос строки начало\n",
    "$ - конец строки перед переносом строки\n",
    "\n",
    "\\. ?$ .  - найти все точки перед переносом строки, пробел может быть а может не быть.  \n",
    "\n",
    "\n",
    "Как найти Кьеркегора\n",
    "Кь?(е|и)ркег(о|аа?)рд?[а-я]{,2}\n",
    "\n"
   ]
  },
  {
   "cell_type": "code",
   "execution_count": 1,
   "metadata": {},
   "outputs": [],
   "source": [
    "import re"
   ]
  },
  {
   "cell_type": "code",
   "execution_count": null,
   "metadata": {},
   "outputs": [],
   "source": [
    "p = re.compile('(P(a|á)(d|t)raig)')\n",
    "\n",
    "re.findall(p, 'Patraig Pádraig, Padraig')\n"
   ]
  },
  {
   "cell_type": "code",
   "execution_count": 2,
   "metadata": {},
   "outputs": [],
   "source": [
    "import os\n",
    "import re"
   ]
  },
  {
   "cell_type": "code",
   "execution_count": 3,
   "metadata": {},
   "outputs": [
    {
     "data": {
      "text/plain": [
       "'/Users/yulia/Desktop/python-dh-hw'"
      ]
     },
     "execution_count": 3,
     "metadata": {},
     "output_type": "execute_result"
    }
   ],
   "source": [
    "os.getcwd()"
   ]
  },
  {
   "cell_type": "raw",
   "metadata": {},
   "source": [
    "Открыть файл \"literary_anecdotes.txt\". Посчитать, сколько раз упоминается фамилия \"Гоголь\" в всех формах."
   ]
  },
  {
   "cell_type": "code",
   "execution_count": 12,
   "metadata": {},
   "outputs": [
    {
     "name": "stdout",
     "output_type": "stream",
     "text": [
      "Фамилия Гоголя встречается 31 раз\n"
     ]
    }
   ],
   "source": [
    "with open('/Users/yulia/Desktop/python-dh-hw/literary_anecdotes.txt', 'r', encoding='utf-8') as f:\n",
    "    anecdote = f.read()\n",
    "\n",
    "gogollist = re.findall('(Гогол[а-я]{0,2})', anecdote)\n",
    "print('Фамилия Гоголя встречается', len(gogollist), 'раз')"
   ]
  },
  {
   "cell_type": "raw",
   "metadata": {},
   "source": [
    "Заменить всех Достоевских на Толстых, а Толстых -- на Достоевских, т.е. после замены Лев Толстой во всех формах должен стать Львом Достоевским, а Фёдор Достоевский -- Фёдором Толстым (задание не только на регулярки, но и на сообразительность :)\n",
    "заменить толст на достоевски\n",
    "заменить группы о на и"
   ]
  },
  {
   "cell_type": "code",
   "execution_count": 41,
   "metadata": {},
   "outputs": [
    {
     "data": {
      "text/plain": [
       "'У Вяземского была квартира окнами на Тверской бульвар. Пуш-\\nкин очень любил ходить к нему в гости. Придет - и сразу прыг на\\nподоконник, свесится из окна и смотрит. Чай ему тоже  туда,  на\\nокно, подавали. Иной раз там и заночует. Ему даже матрац купили\\nспециальный,  только  он  его не признавал.\"К чему, - говорит,-\\nтакие роскоши?\". И спихнет матрац с подоконника.  А  потом  всю\\nночь вертится, спать не дает.\\n\\nГоголь  переоделся  Пушкиным,  пришел к Пушкину и позвонил.\\nПушкин открыл ему и кричит: \"Смотри, Арина Родионовна,  я  при-\\nшел!\".\\n\\nЛермонтов хотел у Пушкина жену увести. На Кавказ. Все смот-\\nрел на нее из-за колонн, смотрел... Вдруг устыдился своих жела-\\nний.  \"Пушкин,  -  думает,  -  зеркало русской революции, а я ?\\nсвинья\". Пошел, встал перед ним на колени и  говорит:  \"Пушкин,\\nгде твой кинжал? Вот грудь моя\". Пушкин очень смеялся.\\n\\nОднажды Пушкин стрелялся с Гоголем. Пушкин говорит:\\n- Стреляй первым ты.\\n- Как я? Нет, ты.\\n- Ах, я! Нет, ты!\\nТак и не стали стреляться.\\n\\nЛев Толстой очень любил детей. Однажды он шел по  Тверскому\\nбульвару  и  увидел впереди Пушкина. \"Конечно, это уже не ребе-\\nнок, это уже подросток, - подумал Лев Толстой, - все равно, дай\\nдогоню и поглажу по головке\". И побежал догонять Пушкина.  Пуш-\\nкин  же, не зная толстовских намерений, бросился наутек. Пробе-\\nгая мимо городового, сей страж порядка был возмущен неприличной\\nбыстротою бега в людном месте и бегом устремился вслед с  целью\\nостановить.  Западная пресса потом писала, что в России литера-\\nторы подвергаются преследованиям со стороны властей.\\n\\nОднажды Лермонтов купил яблок, пришел на Тверской бульвар и\\nстал угощать присутствующих дам. Все брали и говорили  \"мерси\".\\nКогда же подошла Наталья Николаевна с сестрой Александриной, от\\nволненья  он так задрожал, что яблоко упало к ее ногам (Натальи\\nНиколаевны, а не Александрины). Одна из собак схватила яблоко и\\nбросилась бежать. Александрина, конечно, побежала за  ней.  Они\\nбыли одни - впервые в жизни (Лермонтов, конечно, а не Александ-\\nрина с собачкой). Кстати, она (Александрина) ее не догнала.\\n\\nОднажды  Пушкин  решил  испугать  Тургенева  и спрятался на\\nТверском бульваре под лавкой. А Гоголь тоже решил в  этот  день\\nиспугать  Тургенева, переоделся Пушкиным и спрятался под другой\\nлавкой. Тут Тургенев идет. Как они оба выскочат!..\\n\\nЛев Толстой очень любил детей. Однажды он играл с ними весь\\nдень и проголодался. \"Сонечка, - говорит, - а, ангелочек,  сде-\\nлай мне тюрьку\". Она возражает: \"Левушка, ты же видишь, я \"Вой-\\nну  и  мир\" переписываю\". \"А-а-а, - возопил он, - так я и знал,\\nчто тебе мой литературный фимиам дороже моего  \"Я\".  И  костыль\\nзадрожал в его судорожной руке.\\n\\nОднажды Пушкин написал письмо Рабиндранату Тагору. \"Дорогой\\nдалекий друг, - писал он, - я Вас не знаю, и Вы меня не знаете.\\nОчень хотелось бы познакомиться. Всего хорошего. Саша\".\\nКогда письмо принесли, Тагор предавался самосозерцанию. Так\\nпогрузился, хоть режь его. Жена толкала, толкала, письмо подсо-\\nвывала  - не видит. Он, правда, по-русски читать не умел. Так и\\nне познакомились.\\n\\nОднажды Федору Михайловичу Толстому, царствие  ему  не-\\nбесное,  исполнилось  150  лет.  Он очень обрадовался и устроил\\nдень рождения. Пришли к нему все писатели, только почему-то все\\nнаголо обритые. У одного Гоголя усы нарисованы. Ну хорошо,  вы-\\nпили,  закусили, поздравили новорожденного, царствие ему небес-\\nное, сели играть в вист. Сдал Лев Толстой - у каждого  по  пять\\nтузов. Что за черт? Так не бывает. \"Сдай-ка, брат Пушкин, лучше\\nты\".  \"Я,  - говорит, - пожалуйста, сдам\". И сдал. У каждого по\\nшесть тузов и по две пиковые дамы. Ну и  дела...  \"Сдай-ка  ты,\\nбрат Гоголь\". Гоголь сдал... Ну, знаете... Даже и нехорошо ска-\\nзать... Как-то получилось так... Нет, право, лучше не надо.\\n\\nОднажды  Федор  Михайлович Толстий, царствие ему небес-\\nное, сидел у окна и курил. Докурил и выбросил окурок  из  окна.\\nПод  окном  у  него была керосиновая лавка. И окурок угодил как\\nраз в бидон с керосином. Пламя, конечно, столбом. В  одну  ночь\\nпол-Петербурга сгорело. Ну, посадили его, конечно. Отсидел, вы-\\nшел,  идет  в  первый же день по Петербургу, навстречу - Петра-\\nшевский. Ничего ему не сказал, только пожал руку и в глаза пос-\\nмотрел. Со значением.\\n\\nСнится однажды Герцену сон. Будто иммигрировал он в  Лондон\\nи живется ему там очень хорошо. Купил он, будто, собаку бульдо-\\nжей породы. И до того злющий пес - сил нет. Кого увидит, на то-\\nго  бросается.  И  уж  если догонит, вцепится мертвой хваткой ?\\nвсе, можешь бежать заказывать панихиду. И вдруг, будто  он  уже\\nне  в  Лондоне,  а в Москве. Идет по Тверскому бульвару, чудище\\nсвое на поводке держит, а навстречу Лев Толстой. И надо же, тут\\nна самом интересном месте пришли декабристы и разбудили.\\n\\nГоголь только под конец жизни о душе задумался, а смолоду у\\nнего вовсе совести не было. Однажды невесту в карты проиграл  и\\nне отдал.\\n\\nЛев  Толстой жил на площади Пушкина, а Герцен - у Никитских\\nворот. Обоим по литературным делам часто приходилось бывать  на\\nТверском  быльваре.  И уж если встретятся - беда: погонится Лев\\nТолстой и хоть раз, да врежет костылем по  башке.  А  бывало  и\\nтак,  что  впятером  оттаскивали,  а Герцена из фонтана водой в\\nчувство приводили. Вот почему Пушкин к  Вяземскому-то  в  гости\\nходил,  на  окошке  сидел.  Так этот дом потом и назвался - дом\\nГерцена.\\n\\nОднажды Гоголь шел по Тверскому бульвару (в своем  виде)  и\\nвстретил  Пушкина. \"Здравствуй, Пушкин, - говорит, - что ты все\\nстихи да стихи пишешь? Давай  вместе  прозу  напишем\".  \"Прозой\\nтолько ............ хорошо\", - возразил Пушкин.\\n\\nОднажды  Гоголь переоделся Пушкиным и пришел в гости к Май-\\nкову. Майков усадил его в кресло и угощает пустым чаем.  \"Пове-\\nрите  ли, - говорит, - Александр Сергеевич, куска сахару в доме\\nнет. Давеча Гоголь приходил и все съел\". Гоголь ему  ничего  не\\nсказал.\\n\\nЛев  Толстой  очень  любил играть на балалайке (и, конечно,\\nдетей), но не умел. Бывало, пишет роман \"Война и  мир\",  а  сам\\nдумает: \"Тень-дер-день-тер-тер-день-день-день\". Или: \"Брам-пам-\\nдам-дарарам-пам-пам\".\\n\\nЛермонтов любил собак. Еще он любил Наталью Николаевну Пуш-\\nкину.  Только  больше  всего он любил самого Пушкина. Читал его\\nстихи и всегда плакал. Поплачет, а потом вытащит саблю и  давай\\nрубить  подушки.  Тут и любимая собачка не попадайся под руку -\\nштук десять так-то зарубил. А Пушкин ни от каких не плакал.  Ни\\nза что.\\n\\nОднажды  Гоголь переоделся Пушкиным, напялил сверху львиную\\nшкуру и поехал в маскарад. Федор Михайлович Толстий, царст-\\nвие ему небесное, увидел его и кричит:  \"Спорим,  Лев  Толстой!\\nСпорим, Лев Толстой!\"\\n\\nОднажды  Чернышевский  увидел  из  окна своей мансарды, как\\nЛермонтов вскочил на коня и крикнул: \"В пассаж!\" \"Ну и что же?-\\nподумал Чернышевский, - вот, бог даст, революция будет, тогда и\\nя так крикну\". И стал репетировать перед зеркалом, повторяя  на\\nразные манеры: \"В пассаж. В пассажж. В пассажжж. В па-а-ссажжж.\\nВ ПАССА-А-А-А-АЖЖЖ!!!\"\\n\\nЛев Толстой очень любил детей. Утром проснется, поймает ко-\\nго-нибудь и гладит по головке, пока не позовут завтракать.\\n\\nОднажды  у Толстого засорилась ноздря. Стал продувать -\\nлопнула перепонка в ухе. Заткнул пробкой  -  оказалась  велика,\\nчереп треснул... Связал веревочкой - смотрит, рот не открывает-\\nся. Тут он проснулся в недоумении, царствие ему небесное.\\n\\nГоголь  читал драму Пушкина \"Борис Годунов\" и приговаривал:\\n\"Ай да Пушкин, действительно, сукин сын\".\\n\\nФедор Михайлович Толстий страстно любил жизнь, царствие\\nему небесное. Она его, однако, не баловала,  поэтому  он  часто\\nгрустил. Те же, кому жизнь улыбалась (например, Лев Толстой) не\\nценили  это, постоянно отвлекаясь на другие предметы. Например,\\nЛев Толстой очень любил детей. Они же его боялись.  Они  прята-\\nлись  от  него под лавку и шушукались там: \"Робя, вы этого бой-\\nтесь - еще как трахнет костылем!\" Дети любили Пушкина. Они  го-\\nворили: \"Он веселый. Смешной такой.\" И гонялись за ним стайкой.\\nНо  Пушкину  было  не  до  детей. Он любил один дом на Тверском\\nбульваре, одно окно в этом доме. Он мог часами сидеть на  широ-\\nком  подоконнике,  пить чай, смотреть на бульвар. Однажды, нап-\\nравляясь к этому дому, он поднял глаза и  на  своем  окне  уви-\\nдел...  себя. С бакенбардами, с перстнем на большом пальце. Он,\\nконечно, понял, кто это. А вы?\\n\\nОднажды Лев Толстой спросил Толстого, царствие ему  не-\\nбесное: \"Правда, Пушкин - плохой поэт?\" \"Неправда\", - хотел от-\\nветить  Толстий, но вспомнил, что у него не открывается рот\\nс тех пор, как он перевязал свой треснувший череп, и промолчал.\\n\"Молчание - знак согласия\", - сказал Лев Толстой  и  ушел.  Тут\\nФедор  Михайлович, царствие ему небесное, вспомнил, что все это\\nему снилось во сне, но было уже поздно.\\n\\nЛев Толстой очень любил детей. Бывало, приведет  в  кабинет\\nштук  шесть,  всех оделяет. И надо же: вечно Герцену не везло -\\nто вшивый достанется, то кусачий. А попробуй поморщиться - хва-\\nтит костылем.\\n\\nОднажды Гоголь переоделся Пушкиным и пришел в гости  к  Вя-\\nземскому. Выглянул в окно и видит: Толстой Герцена костылем лу-\\nпит, а кругом детишки стоят, смеются. Он пожалел Герцена и зап-\\nлакал. Тогда Вяземский понял, что перед ним не Пушкин.\\n\\nЛев  Толстой очень любил детей, и все ему было мало. Приве-\\nдет полную комнату, шагу ступить негде, а он все кричит:  \"Еще!\\nЕще!\"\\n\\nПушкин часто бывал у Вяземского, подолгу сидел на окне. Все\\nвидел и все знал. Он знал, что Лермонтов любит его жену. Поэто-\\nму он считал не вполне уместным передать ему лиру. Думал Тютче-\\nву послать за границу - не пустили, сказали, не подлежит, имеет\\nхудожественную  ценность. А Некрасов ему как человек не нравил-\\nся. Вздохнул и оставил лиру у себя.\\n\\nОднажды во время обеда Софья Андреевна подала на стол блюдо\\nпышных, горячих, ароматных котлеток. Лев Толстой как  разозлит-\\nся:  \"Я, - кричит, занимаюсь самусовершенствованием. Я не кушаю\\nбольше рисовых котлеток\". Пришлось эту пищу богов скормить  лю-\\nдям.\\n\\nПушкин  был  не то что ленив, а склонен к мечтательному со-\\nзерцанию. Тургенев же, хлопотун ужасный, вечно  одержим  жаждой\\nдеятельности.  Пушкин этим частенько злоупотреблял. Бывало, ле-\\nжит на диване, входит Тургенев. Пушкин ему: \"Иван Сергеевич, не\\nв службу, а в дружбу - за пивом не сбегаешь?\" И тут же спокойно\\nзасыпает обратно. Знает: не было случая, чтоб Тургенев  вернул-\\nся. То забежит куда-нибудь петицию подписать, то на гражданскую\\nпанихиду.  А  то  испугается чего-нибудь и уедет в Баден-Баден.\\nБез пива же Пушкин остаться не боялся. Слава  богу,  крепостные\\nбыли. Было, кого послать.\\n\\nТургенев  мало того, что от природы был робок, его еще Пуш-\\nкин с Гоголем совсем затюкали: проснется ночью и  кричит:  \"Ма-\\nма!\" Особенно под старость.\\n\\nПушкин  шел по Тверскому бульвару и встретил красивую даму.\\nПодмигнул ей, а она как захохочет: \"Не обманывайте, -  говорит,\\n- Николай Васильевич, лучше отдайте три рубля, что давеча в бу-\\nриме проиграли\". Пушкин сразу догадался, в чем дело. \"Не отдам,\\n- говорит,-  дура\". Показал язык и убежал. Что потом Гоголю бы-\\nло...\\n\\nЛев Толстой очень любил детей, а взрослых терпеть  не  мог,\\nособенно  Герцена. Как увидит, так и бросается с костылем и все\\nв глаз норовит, в глаз. А тот делает вид, что не замечает.  Го-\\nворит: \"Ох, Толстой, ох, Толстой...\"\\n\\nОднажды  Гоголь переоделся Пушкиным, а сверху нацепил маску\\nи поехал на бал-маскарад. Тут к нему подпорхнула прелестная да-\\nма, одетая баядерой, и сунула ему записочку.  Гоголь  читает  и\\nдумает:  \"Если это мне, как Гоголю, что, спрашивается, я должен\\nделать? Если это мне как Пушкину, как  человек  порядочный,  не\\nмогу  воспользоваться.  А  что, если это всего лишь шутка юного\\nсоздания, избалованного всеобщим поклонением? А ну ее.\" И  бро-\\nсил записку в помойку.\\n\\nОднажды  Гоголь переоделся Пушкиным и пришел в гости к Дер-\\nжавину Гавриле Романовичу. Старик, уверенный, что перед  ним  и\\nвпрямь Пушкин, сходя в гроб, благословил его.\\n\\nТургенев хотел стать храбрым как Лермонтов и пошел покупать\\nсаблю.  Пушкин проходил мимо магазина и увидел его в окно. Взял\\nи закричал нарочно: \"Смотри-ка, Гоголь (а никакого Гоголя с ним\\nне было), смотри, смотри-ка, Тургенев саблю покупает, давай  мы\\nс тобой ружье купим\". Тургенев испугался и в ту же ночь уехал в\\nБаден-Баден.\\n\\nЛев  Толстой  и  Федор Михайлович Толстий, царствие ему\\nнебесное, поспорили, кто лучше роман напишет. Судить пригласили\\nТургенева. Толстой прибежал домой, заперся в кабинете  и  начал\\nскорее  роман  писать - про детей, конечно (он их очень любил).\\nТолстий сидит у себя и думает: \"Тургенев - человек  робкий.\\nОн  сейчас  сидит у себя и думает: \"Толстий - человек нерв-\\nный, если я скажу, что его роман хуже, он  и  зарезать  может.\"\\nЧто  же  мне  стараться?  Все рано денежки мои будут.\" (Это уже\\nТолстий думает). На сто рублей спорили. А Тургенев сидит  в\\nэто время у себя и думает: \"Толстий - человек нервный. Если\\nя скажу, что его роман хуже, он и зарезать может. С другой сто-\\nроны,  Толстой  - граф. Тоже лучше не связываться. А ну их сов-\\nсем.\" И в ту же ночь уехал в Баден-Баден.\\n\\nФедор Михайлович Толстий, царствие ему  небесное,  тоже\\nочень  любил  собак,  но был болезненно самолюбив и это скрывал\\n(насчет собак), чтобы никто не мог сказать,  что  он  подражает\\nЛермонтову. Про него и так уж много чего говорили.\\n\\nОднажды  Федор  Михайлович Толстий, царствие ему небес-\\nное, поймал на улице кота. Ему надо было живого кота для  рома-\\nна.  Бедное животное пищало, визжало, хрипело и закатывало гла-\\nза, а потом притворилось мертвым. Тут он его отпустил. Обманщик\\nукусил в свою очередь бедного писателя за ногу и скрылся. Так и\\nостался невоплощенным лучший роман Федора  Михайловича  \"Бедные\\nживотные\". Про котов.\\n\\nЛев  Толстой очень любил детей и писал про них стихи. Стихи\\nэти списывал в отдельную тетрадку.  Однажды  после  чаю  подает\\nтетрадь  жене:  \"Гляньте, Софи, правда, лучше Пушкина?\" - а сам\\nсзади костыль держит. Она прочла и говорит: \"Нет, Левушка,  го-\\nраздо хуже. А чье это?\" Тут он ее по башке - трах! С тех пор он\\nвсегда полагался на ее литературный вкус.\\n\\nОднажды  Гоголь написал роман. Сатирический. Про одного хо-\\nрошего человека, попавшего в лагерь на Колыму. Начальника лаге-\\nря зовут Николай Павлович (намек на царя). И вот он  с  помощью\\nуголовников  травит  этого  хорошего  человека и доводит его до\\nсмерти. Гоголь назвал роман \"Герой нашего времени\". Подписался:\\n\"Пушкин.\" И отнес Тургеневу, чтобы напечатать в журнале. Турге-\\nнев был человек робкий. Он прочитал рукопись и покрылся  холод-\\nным  потом.  Решил скорее ее отредактировать. И отредактировал.\\nМесто действия перенес на Кавказ. Заключенного  заменил  офице-\\nром. Вместо уголовников у него стали красивые девушки, и не они\\nобижают  героя,  а  он  их. Николая Павловича он переименовал в\\nМаксима Максимовича. Зачеркнул \"Пушкин\" и написал  \"Лермонтов\".\\nПоскорее отправил рукопись в редакцию, отер холодный пот со лба\\nи  лег  спать.  Вдруг среди сладкого сна его пронзила кошмарная\\nмысль. Название. Название-то он не изменил! Тут  же,  почти  не\\nодеваясь, он уехал в Баден-Баден.\\n\\nШел  Пушкин  по  Тверскому бульвару и увидел Чернышевского.\\nПодкрался и идет сзади. Мимо идущие литераторы кланяются Пушки-\\nну, А Чернышевский думает - ему; радуется. Толстий прошел -\\nпоклонился, Помяловский, Григорович - поклон, Гоголь  прошел  -\\nзасмеялся и ручкой сделал привет - тоже приятно, Тургенев - ре-\\nверанс. Потом Пушкин ушел к Вяземскому чай пить. А тут навстре-\\nчу  Толстой, молодой еще был, без бороды, в эполетах. И не пос-\\nмотрел даже. Чернышевский потом писал в дневнике: \"Все писатили\\nхарошии, а Толстой - хамм. Патамушто графф.\"\\n\\nЛермонтов был влюблен в Наталью Николаевну Пушкину,  но  не\\nразговаривал  с  ней ни разу. Однажды он вывел всех своих собак\\nна Тверской бульвар. Ну, они, натурально, визжат,  кусают  его,\\nвсего  испачкали.  А тут она навстречу с сестрой Александриной.\\n\"Посмотри, - говорит, - охота некоторым жизнь  себе  осложнять.\\nЛучше уж детей держать побольше.\" Лермонтов аж плюнул про себя.\\n\"Ну  и  дура, мне такую и даром не надо!\" С тех пор и не мечтал\\nбольше увезти ее на Кавказ.\\n\\nНиколай I написал стихотворение на именины императрицы. На-\\nчинается так: \"Я помню чудное  мгновенье...\"  И  тому  подобное\\nдальше. Тут к нему пришел Пушкин и прочитал. А вечером в салоне\\nЗинаиды  Волконской имел через эти стихи большой успех, выдавая\\nих, как всегда, за свои. Что значит профессиональная  память  у\\nчеловека  была!  И  вот  рано утром, когда Александра Федоровна\\nпьет кофе, царь-супруг ей свою бумажку подсовывает под  блюдеч-\\nко.  Она  прочитала ее и говорит: \"Ах, как мило. Где ты достал?\\nЭто же свежий Пушкин!\"\\n\\nСчастливо избежав однажды встречи со  Львом  Толстым,  идет\\nГерцен  по  Тверскому  бульвару  и думает: \"Все же жизнь иногда\\nпрекрасна.\" Тут ему под ноги огромный котище. Черный. Враз сби-\\nвает с ног. Только встал, отряхивает с  себя  прах  -  налетает\\nсвора черных собак, бегущих за этим котом, и вновь повергает на\\nземлю.  Вновь  поднялся  будущий  издатель  \"Колокола\" и видит:\\nнавстречу на вороном коне гарцует сам владелец собак -  поручик\\nЛермонтов.  \"Конец\",  -  мыслит автор \"Былого и дум\", - \"сейчас\\nони все разбегутся и...\" Ничуть не бывало. Сдержанный привычной\\nрукой, конь строевым шагом проходит мимо и, только  он  миновал\\nГерцена, размахивается хвостом и - хрясть по морде. Очки, нату-\\nрально,  летят  в кусты. \"Ну, это еще полбеды,\" - думает бывший\\nавтор \"Сороки-воровки\", отыскивает очки, водружает себе на  нос\\nи  что  же  видит посреди куста?.. Ехидно улыбающееся лицо Льва\\nТолстого. Но Толстой ведь не изверг был. \"Проходи,  -  говорит,\\nбедолага,\" - и погладил по головке.\\n\\nТолстий пришел в гости к Гоголю. Позвонил. Ему открыли.\\n\"Что Вы, - говорят, Федор Михайлович, Николай Васильевич уж лет\\nпятьдесят  как умер\". Ну, что же, - подумал Толстий, царст-\\nвие ему небесное, я ведь тоже когда-нибудь умру\".\\n\\nЛев Толстой очень любил детей. За столом он им  все  сказки\\nрассказывал, да истории с моралью для поучения.\\n\\nОднажды Гоголю подарили канделябр. Он сразу нацепил на него\\nбакенбарды и стал дразниться: \"Эх ты, лира недоделанная!\"\\n\\nОднажды  Гоголь переоделся Пушкиным и задумался о душе. Что\\nуж он там надумал, так никто и не узнал. Только на другой  день\\nФедор  Михайлович  Толстий, царствие ему небесное, встретил\\nГоголя на улице и отшатнулся. \"Что с Вами, - воскликнул  он,  -\\nНиколай Васильевич? У Вас вся голова седая!\"\\n\\nОднажды  Пушкин переоделся Гоголем и пришел в гости ко Льву\\nТолстому. Никто не удивился, потому что в это  время  Достоевс-\\nкий, царствие ему небесное...\\n\\nПушкин сидит у себя и думает: \"Я гений, и ладно. Гоголь то-\\nже  гений. Но ведь и Толстой гений, и Толстий, царствие ему\\nнебесное, гений. Когда же это кончится?\" Тут все и кончилось.\\n'"
      ]
     },
     "execution_count": 41,
     "metadata": {},
     "output_type": "execute_result"
    }
   ],
   "source": [
    "with open('/Users/yulia/Desktop/python-dh-hw/literary_anecdotes.txt', 'r', encoding='utf-8') as f:\n",
    "    anecdote = f.read()\n",
    "   \n",
    "re.sub('Достоевск', 'Толст', anecdote)"
   ]
  },
  {
   "cell_type": "markdown",
   "metadata": {},
   "source": [
    "# NLP  \n",
    "\n",
    "Чтобы узнать частотность — делим то сколько раз встречается слово/биграмма/триграмма на то, сколько в тексте этих элементов! То есть если делим слово, то на кол-во слов. Если биграмма — на кол-во слов минус 1.  \n",
    "\n",
    "Лемма — словарная форма слова.  \n",
    "\n"
   ]
  },
  {
   "cell_type": "raw",
   "metadata": {},
   "source": []
  },
  {
   "cell_type": "code",
   "execution_count": 4,
   "metadata": {},
   "outputs": [
    {
     "name": "stdout",
     "output_type": "stream",
     "text": [
      "<class 'list'>\n",
      "на бледно-голубой эмаль,\n",
      "какой мыслимый в апрель,\n",
      "береза ветвь подымать\n",
      "и незаметно вечерель\n",
      "\n"
     ]
    }
   ],
   "source": [
    "#лемматизация\n",
    "from pymystem3 import Mystem\n",
    "\n",
    "text = \"\"\"На бледно-голубой эмали,\n",
    "Какая мыслима в апреле,\n",
    "Березы ветви поднимали\n",
    "И незаметно вечерели\"\"\"\n",
    "\n",
    "m = Mystem() # типа запускаем майстем, обязательно с большой буквы и со скобками\n",
    "lemmas = m.lemmatize(text)\n",
    "\n",
    "print(type(lemmas)) # функция возвращает список\n",
    "print(''.join(lemmas))"
   ]
  },
  {
   "cell_type": "markdown",
   "metadata": {},
   "source": [
    "Задание\n",
    "1. текст \"Капитанской дочки\" или любого другого большого произведения на русском языке, сохранить в файле формата .txt и затем в программе прочитать текст из файла. Очистить текст от пунктуации. Обратите внимание, что типичная для русского языка пунктуация вроде кавычек-ёлочек и длинных тире должна быть удалена, а дефисы между словами должны остаться. Подсказка: первое действие -- удалить всю \"приклеенную\" к словам пункуацию, второе действие -- удалить тире.\n",
    "2. Лемматизировать все слова в тексте с помощью pymystem3.\n",
    "3. Создать частотный список лемм в тексте. Совпадают ли первые 50-100 слов в нем с верхушкой частотного словаря НКРЯ в целом? А если посмотреть подкорпус художественной литературы?\n",
    "4. Избавиться от стоп-слов и снова посмотреть частотный список. Напечатать 100 самых частотных слов (слово и его частота). Говорят ли они нам что-нибудь о тексте? Можем ли мы определить тему текста, не читая его? А стиль? Или что-нибудь еще?\n",
    "\n",
    "5. Разбить текст на биграммы, создать частотный список биграмм, напечатать первые 100. Дают ли они нам какую-нибудь дополнительную информацию по сравнению с униграммами? Заметили ли вы в них что-нибудь странное? Почему так получилось?\n",
    "\n",
    "6. Посчитать количество слов (униграмм) в тексте. Посчитать, сколько слов имеют частоту < 6 и какой это процент от общего числа слов. Напечатать 10 слов с частотой 1, 10 слов с частотой 2 -- и так до частоты 5, а затем выбросить все низкочастотные слова (с частотой меньше 6). Сохранить получившийся после всех этих манипуляций (лемматизация + удаление стоп-слов + удаление низкочастотного хвоста) в новый файл."
   ]
  },
  {
   "cell_type": "code",
   "execution_count": 55,
   "metadata": {},
   "outputs": [],
   "source": [
    "import os\n",
    "import re\n",
    "from pymystem3 import Mystem"
   ]
  },
  {
   "cell_type": "code",
   "execution_count": 18,
   "metadata": {},
   "outputs": [],
   "source": [
    "with open('capitans_daughter.txt', 'r', encoding='utf-8') as f:\n",
    "    text = f.read()\n",
    "    \n",
    "# Очистка от пунктуация\n",
    "text_halfclean = [w.strip(\"!\\\"#$%&'()*+,./:;<=>?@[\\]^_`{|}~„“«»†*—/\\-—\") for w in text.split()] # очищаем от пунктуации\n",
    "text_clean = [w for w in text_halfclean if len(w) != 0] # очищаем от пустых элементов\n",
    "\n",
    "# соединяем в строку\n",
    "text_string = ' '.join(text_clean)"
   ]
  },
  {
   "cell_type": "code",
   "execution_count": 56,
   "metadata": {},
   "outputs": [],
   "source": [
    "# 2. Лемматизация\n",
    "m = Mystem()\n",
    "lemmas = m.lemmatize(text_string)\n",
    "text_lemma = ''.join(lemmas) # соединяем в строку"
   ]
  },
  {
   "cell_type": "raw",
   "metadata": {},
   "source": [
    "создать пуст словарь\n",
    "цикл\n",
    "для каждого слова в тексте по пробелам проверь есть ли это слово в словаре как слов, если нет то добавь слово и присвой значение единичну. если есть то обнови значение +1"
   ]
  },
  {
   "cell_type": "code",
   "execution_count": 33,
   "metadata": {},
   "outputs": [],
   "source": [
    "# Counter\n",
    "from collections import Counter\n",
    "counts = Counter(text_lemma.split())"
   ]
  },
  {
   "cell_type": "code",
   "execution_count": 9,
   "metadata": {},
   "outputs": [],
   "source": [
    "# Очищаем от стоп слов\n",
    "with open('rus_stopwords.txt', 'r', encoding='utf-8') as f:\n",
    "    stopwords = f.read()\n",
    "\n",
    "stopwords = stopwords.split('\\n') # делаем список по переносу строки\n",
    "newlist = [w for w in lemmas if w not in stopwords] # цикл для того, чтобы добавить в новый список все слова, кроме стоп слов\n",
    "test = ' '.join(newlist) # соединяем список в строку по пробелам"
   ]
  },
  {
   "cell_type": "code",
   "execution_count": 10,
   "metadata": {},
   "outputs": [],
   "source": [
    "newcounts = Counter(test.split())"
   ]
  },
  {
   "cell_type": "code",
   "execution_count": 14,
   "metadata": {},
   "outputs": [
    {
     "name": "stdout",
     "output_type": "stream",
     "text": [
      "Counter({'пугачев': 148, 'марья': 137, 'ивановна': 136, 'савельич': 111, 'крепость': 96, 'иван': 95, 'становиться': 94, 'бог': 89, 'батюшка': 88, 'человек': 82, '-': 80, 'швабрин': 80, 'рука': 74, 'комендант': 73, 'петр': 67, 'ваш': 65, 'знать': 61, 'увидеть': 60, 'минута': 60, 'спрашивать': 59, 'дело': 58, 'отец': 56, 'кузмич': 56, 'слово': 55, 'твой': 54, 'андреич': 53, 'матушка': 51, 'давать': 50, 'другой': 48, 'время': 44, 'какой': 43, 'самый': 43, 'день': 43, 'стоять': 43, 'василиса': 43, 'егоровна': 43, 'год': 42, 'пойти': 42, 'узнавать': 42, 'голова': 42, 'выходить': 41, 'лошадь': 41, 'казак': 39, 'злодей': 39, 'ничто': 37, 'дорога': 37, 'вид': 37, 'голос': 37, 'взять': 37, 'дверь': 36, 'глаз': 36, 'час': 36, 'входить': 35, 'лицо': 35, 'сторона': 35, 'оставаться': 35, 'бедный': 34, 'письмо': 34, 'останавливаться': 34, 'добрый': 33, 'ехать': 33, 'оренбург': 33, 'старик': 33, 'старый': 33, 'государь': 33, 'зурин': 32, 'велеть': 32, 'сидеть': 32, 'казаться': 32, 'игнатьич': 32, 'дом': 32, 'генерал': 31, 'мысль': 31, 'офицер': 31, 'изволить': 31, 'находиться': 31, 'взглядывать': 31, 'маша': 31, 'служба': 30, 'швабрина': 30, 'садиться': 29, 'отправляться': 29, 'смотреть': 28, 'оставлять': 28, 'просить': 28, 'приводить': 27, 'белогорский': 27, 'сердце': 27, 'самозванец': 27, 'объявлять': 26, 'родитель': 26, 'два': 26, 'благородие': 26, 'молодой': 26, 'иметь': 25, 'подавать': 25, 'начинать': 24, 'ожидать': 24, 'прощать': 24, 'приказывать': 24, 'сей': 24, 'принимать': 24, 'комната': 23, 'писать': 23, 'товарищ': 23, 'господин': 23, 'ямщик': 23, 'первый': 23, 'услышать': 23, 'слава': 22, 'решаться': 22, 'двор': 22, 'кибитка': 22, 'тулуп': 22, 'разбойник': 22, 'место': 22, 'продолжать': 22, 'сметь': 22, 'жена': 22, 'глава': 21, 'обращаться': 21, 'добро': 21, 'прерывать': 21, 'стол': 21, 'должный': 21, 'глядеть': 21, 'хорошо': 21, 'закричать': 21, 'идти': 21, 'народ': 21, 'солдат': 20, 'получать': 20, 'довольно': 20, 'крыльцо': 20, 'виноватый': 20, 'успевать': 20, 'являться': 20, 'попадья': 20, 'урядник': 20, 'алексей': 20, 'комендантша': 20, 'дочь': 19, 'нога': 19, 'бумага': 19, 'показываться': 19, 'сударь': 19, 'приходить': 19, 'мужик': 19, 'толпа': 19, 'капитан': 18, 'гринев': 18, 'деньги': 18, 'сделать': 18, 'образ': 18, 'находить': 18, 'повторять': 18, 'жизнь': 18, 'рассказывать': 18, 'воля': 18, 'подходить': 18, 'держать': 18, 'отводить': 18, 'милость': 17, 'всякий': 17, 'более': 17, 'друг': 17, 'проходить': 17, 'кроме': 17, 'сын': 17, 'готовый': 17, 'белый': 17, 'степь': 17, 'иваныч': 17, 'надобно': 16, 'жить': 16, 'беда': 16, 'слеза': 16, 'мнение': 16, 'начальник': 16, 'утро': 16, 'встречать': 16, 'легко': 16, 'воротиться': 16, 'чувство': 16, 'имя': 16, 'шпага': 16, 'вопрос': 16, 'совет': 16, 'требовать': 16, 'пугачева': 16, 'государыня': 16, 'виселица': 16, 'деревня': 15, 'сильно': 15, 'приезжать': 15, 'каждый': 15, 'судьба': 15, 'девка': 15, 'стена': 15, 'читать': 15, 'поехать': 15, 'прочитывать': 15, 'высокий': 15, 'посылать': 15, 'вставать': 15, 'гость': 15, 'слушать': 15, 'пушка': 15, 'башкирец': 15, 'анбар': 15, 'крик': 15, 'соглашаться': 14, 'сильный': 14, 'поражать': 14, 'надеяться': 14, 'барин': 14, 'рубль': 14, 'бежать': 14, 'хозяин': 14, 'ворота': 14, 'изба': 14, 'миронов': 14, 'окружать': 14, 'улица': 14, 'никто': 14, 'герасим': 14, 'город': 14, 'шайка': 14, 'комендантский': 14, 'девушка': 14, 'посмотреть': 14, 'раздаваться': 14, 'андрей': 13, 'служить': 13, 'пора': 13, 'дядька': 13, 'душа': 13, 'случай': 13, 'ответ': 13, 'оба': 13, 'заячий': 13, 'большой': 13, 'долг': 13, 'песня': 13, 'чувствовать': 13, 'шапка': 13, 'слышать': 13, 'ступать': 13, 'состояние': 13, 'войско': 13, 'мера': 13, 'муж': 13, 'дама': 13, 'замечать': 13, 'долго': 13, 'счастие': 13, 'караул': 13, 'умирать': 12, 'пожаловать': 12, 'выражение': 12, 'палашка': 12, 'ухо': 12, 'стараться': 12, 'забывать': 12, 'последний': 12, 'ночь': 12, 'странный': 12, 'из-за': 12, 'сделаться': 12, 'господи': 12, 'возражать': 12, 'свет': 12, 'тихо': 12, 'лежать': 12, 'прямо': 12, 'сейчас': 12, 'видно': 12, 'мать': 12, 'вечер': 12, 'правда': 12, 'запирать': 12, 'военный': 12, 'юлай': 12, 'бунтовщик': 12, 'жениться': 11, 'полк': 11, 'понимать': 11, 'радость': 11, 'придворный': 11, 'петруша': 11, 'полно': 11, 'полагать': 11, 'отправлять': 11, 'произносить': 11, 'молчать': 11, 'чай': 11, 'подумать': 11, 'потому': 11, 'вероятно': 11, 'барский': 11, 'прощаться': 11, 'живой': 11, 'приносить': 11, 'три': 11, 'свидетель': 11, 'максимыч': 11, 'квартира': 11, 'семейство': 11, 'верить': 11, 'разве': 11, 'молить': 11, 'бледный': 11, 'молча': 11, 'ум': 11, 'оренбургский': 11, 'кой': 11, 'мятежник': 11, 'сабля': 11, 'ужасный': 11, 'гвардия': 10, 'дворянин': 10, 'спать': 10, 'надежда': 10, 'играть': 10, 'плечо': 10, 'описывать': 10, 'воображать': 10, 'совершенно': 10, 'размышление': 10, 'бывать': 10, 'следующий': 10, 'глубокий': 10, 'снег': 10, 'край': 10, 'ходить': 10, 'должно': 10, 'почитать': 10, 'благословение': 10, 'огонь': 10, 'разговор': 10, 'слишком': 10, 'бояться': 10, 'берег': 10, 'представлять': 10, 'старичок': 10, 'сходить': 10, 'акулина': 10, 'памфиловна': 10, 'случаться': 10, 'счастливый': 10, 'бросаться': 10, 'житель': 10, 'отпускать': 10, 'очутиться': 10, 'против': 10, 'караульный': 10, 'капитанский': 9, 'честь': 9, 'петрович': 9, 'брат': 9, 'кончаться': 9, 'отдавать': 9, 'вино': 9, 'главный': 9, 'целый': 9, 'желать': 9, 'давно': 9, 'намерение': 9, 'сюда': 9, 'внимание': 9, 'вместо': 9, 'наказывать': 9, 'вести': 9, 'крайний': 9, 'известие': 9, 'выезжать': 9, 'увидеться': 9, 'вожатый': 9, 'конь': 9, 'признаваться': 9, 'обстоятельство': 9, 'поцеловать': 9, 'догадываться': 9, 'полтина': 9, 'положение': 9, 'анна': 9, 'река': 9, 'четыре': 9, 'инвалид': 9, 'дома': 9, 'угол': 9, 'опасность': 9, 'великий': 9, 'показывать': 9, 'вскричать': 9, 'никакой': 9, 'хороший': 9, 'упасть': 9, 'любовь': 9, 'красный': 9, 'схватывать': 9, 'ребята': 9, 'возвращаться': 9, 'действие': 9, 'движение': 9, 'палаш': 9, 'называть': 9, 'последовать': 9, 'спокойно': 9, 'сирота': 9, 'князь': 8, 'бопер': 8, 'дитя': 8, 'будто': 8, 'малый': 8, 'любить': 8, 'обыкновенно': 8, 'докладывать': 8, 'висеть': 8, 'однажды': 8, 'окно': 8, 'всегда': 8, 'производить': 8, 'иногда': 8, 'месяц': 8, 'дрожать': 8, 'любопытство': 8, 'кончать': 8, 'снимать': 8, 'дорожный': 8, 'благословлять': 8, 'трактир': 8, 'пять': 8, 'черный': 8, 'часто': 8, 'охота': 8, 'много': 8, 'поход': 8, 'стакан': 8, 'сто': 8, 'помиловать': 8, 'проклятый': 8, 'выдавать': 8, 'заплакать': 8, 'приятный': 8, 'согласие': 8, 'печальный': 8, 'нетерпение': 8, 'авось': 8, 'правый': 8, 'ибо': 8, 'несмотря': 8, 'освещать': 8, 'борода': 8, 'сила': 8, 'казацкий': 8, 'волос': 8, 'вынимать': 8, 'мимо': 8, 'бунт': 8, 'полный': 8, 'жаловать': 8, 'ради': 8, 'владыко': 8, 'почти': 8, 'довольный': 8, 'досада': 8, 'превосходительство': 8, 'конечно': 8, 'также': 8, 'сегодня': 8, 'строгий': 8, 'обо': 8, 'невеста': 8, 'мошенник': 8, 'проводить': 8, 'отворяться': 8, 'поединок': 8, 'смеяться': 8, 'уходить': 8, 'объяснять': 8, 'обыкновенный': 8, 'туда': 8, 'вспомнить': 8, 'домой': 8, 'конец': 8, 'каков': 8, 'милый': 8, 'важный': 8, 'нежели': 8, 'весть': 8, 'казнить': 8, 'отставать': 8, 'площадь': 8, 'казнь': 8, 'племянница': 8, 'осада': 8, 'поводить': 8, 'спасать': 8, 'гусар': 8, 'власьевна': 8, 'гребец': 8, 'дочка': 7, 'кажется': 7, 'прекрасный': 7, 'кривой': 7, 'потребовать': 7, 'сон': 7, 'пьяный': 7, 'итак': 7, 'назначать': 7, 'накануне': 7, 'поклониться': 7, 'петербург': 7, 'знак': 7, 'верно': 7, 'платье': 7, 'снова': 7, 'надевать': 7, 'шуба': 7, 'нужный': 7, 'водка': 7, 'продолжаться': 7, 'предлагать': 7, 'иванович': 7, 'совершенный': 7, 'успех': 7, 'покамест': 7, 'грех': 7, 'просыпаться': 7, 'вчерашний': 7, 'чашка': 7, 'андреевич': 7, 'что-то': 7, 'советовать': 7, 'послушать': 7, 'точно': 7, 'оборачиваться': 7, 'ветер': 7, 'указывать': 7, 'небо': 7, 'темный': 7, 'постоялый': 7, 'навстречу': 7, 'беспокойство': 7, 'больной': 7, 'тело': 7, 'страшный': 7, 'господь': 7, 'подозрение': 7, 'путь': 7, 'рад': 7, 'спасибо': 7, 'мундир': 7, 'речь': 7, 'обнимать': 7, 'причина': 7, 'вал': 7, 'взятие': 7, 'угодно': 7, 'капитанша': 7, 'старуха': 7, 'обедать': 7, 'двадцать': 7, 'родной': 7, 'дабы': 7, 'песенка': 7, 'искать': 7, 'карман': 7, 'кровь': 7, 'труд': 7, 'выслушивать': 7, 'противный': 7, 'помощь': 7, 'расставаться': 7, 'уверенный': 7, 'гнусный': 7, 'грудь': 7, 'ранить': 7, 'рана': 7, 'посадить': 7, 'принуждать': 7, 'признавать': 7, 'способ': 7, 'порог': 7, 'подымать': 7, 'дождаться': 7, 'приступ': 7, 'неприятель': 7, 'изменник': 7, 'вор': 7, 'готовиться': 7, 'императрица': 7, 'чиновник': 7, 'ба': 7, 'слобода': 7, 'хлопуша': 7, 'отряд': 7, 'сержант': 6, 'завтра': 6, 'записывать': 6, 'москва': 6, 'лишний': 6, 'мусие': 6, 'привыкать': 6, 'кровать': 6, '1': 6, 'несчастный': 6, 'никогда': 6, 'попадаться': 6, 'изредка': 6, 'поручик': 6, 'старинный': 6, 'несчастие': 6, 'слушаться': 6, 'тридцать': 6, 'длинный': 6, 'усердие': 6, 'пьяница': 6, 'вон': 6, 'вчера': 6, 'изумление': 6, 'написать': 6, 'боже': 6, 'милостивый': 6, 'врать': 6, 'доказывать': 6, 'молодец': 6, 'облучок': 6, 'обижать': 6, 'обещаться': 6, 'приближаться': 6, 'буран': 6, 'поскакать': 6, 'въезжать': 6, 'тихий': 6, 'читатель': 6, 'значить': 6, 'овладевать': 6, 'помогать': 6, 'чистый': 6, 'род': 6, 'сорок': 6, 'рост': 6, 'исполнять': 6, 'дух': 6, 'благодарить': 6, 'оказывать': 6, 'чрезвычайно': 6, 'век': 6, 'значит': 6, 'обходиться': 6, 'хлеб': 6, 'вода': 6, 'гарнизонный': 6, 'таков': 6, 'капрал': 6, 'занимать': 6, 'знакомый': 6, 'де': 6, 'ждать': 6, 'крестьянин': 6, 'голубушка': 6, 'удаваться': 6, 'заставать': 6, 'никак': 6, 'подле': 6, 'разговаривать': 6, 'смущаться': 6, 'присутствие': 6, 'суд': 6, 'заставлять': 6, 'открывать': 6, 'столь': 6, 'задумываться': 6, 'замок': 6, 'немедленно': 6, 'грозно': 6, 'лист': 6, 'верный': 6, 'командир': 6, 'успокаивать': 6, 'прежде': 6, 'перемена': 6, 'собирать': 6, 'нападение': 6, 'повеление': 6, 'обманывать': 6, 'судья': 6, 'шея': 6, 'пустой': 6, 'жар': 6, 'головушка': 6, 'выступать': 6, 'кафтан': 6, 'бросать': 6, 'старшина': 6, 'повесить': 6, 'поставлять': 6, 'ударять': 6, 'светлица': 6, 'прибегать': 6, 'избавлять': 6, 'орел': 6, 'истина': 6, 'пугачевский': 6, 'секретарь': 6, 'наступательный': 6, 'здравствовать': 6, 'комиссия': 6, 'гринева': 6, 'лодка': 6, 'земский': 6, 'послужить': 5, 'девица': 5, 'авдотья': 5, 'васильевна': 5, 'ребенок': 5, 'следовать': 5, 'смерть': 5, 'русский': 5, 'отечество': 5, 'охать': 5, 'кинуться': 5, 'приниматься': 5, 'ворот': 5, 'календарь': 5, 'чтение': 5, 'волнение': 5, 'обычай': 5, 'бывало': 5, 'вполголоса': 5, 'скорый': 5, 'переменять': 5, 'перо': 5, 'нахмуриться': 5, 'паспорт': 5, 'мучить': 5, 'подзывать': 5, 'помнить': 5, 'здоровье': 5, 'халат': 5, 'выпивать': 5, 'пока': 5, 'поглядеть': 5, 'звать': 5, 'пить': 5, 'прийти': 5, 'громко': 5, 'беспокоиться': 5, 'держаться': 5, 'хрыч': 5, 'каково': 5, 'записка': 5, 'умничать': 5, 'жаль': 5, 'незнакомый': 5, 'помириться': 5, 'мало-помалу': 5, 'овраг': 5, 'покрывать': 5, 'крестьянский': 5, 'добираться': 5, 'буря': 5, 'утихать': 5, 'далее': 5, 'божий': 5, 'посреди': 5, 'неудовольствие': 5, 'позабывать': 5, 'извинять': 5, 'предаваться': 5, 'страх': 5, 'тихонько': 5, 'колено': 5, 'мертвый': 5, 'ласково': 5, 'ужас': 5, 'тесный': 5, 'яицкий': 5, 'поп': 5, 'бродяга': 5, 'селение': 5, 'нельзя': 5, 'ложиться': 5, 'заснуть': 5, 'позвать': 5, 'распоряжение': 5, 'провожать': 5, 'совсем': 5, 'воин': 5, 'быстро': 5, 'покойный': 5, 'рукавица': 5, 'прочий': 5, 'гарнизон': 5, 'картечь': 5, 'верста': 5, 'киргизский': 5, 'арест': 5, 'солома': 5, 'отворять': 5, 'передняя': 5, 'посуда': 5, 'кликнуть': 5, 'кум': 5, 'благополучно': 5, 'баня': 5, 'семья': 5, 'состоять': 5, 'окошко': 5, 'вторично': 5, 'сопровождать': 5, 'спешивать': 5, 'собираться': 5, 'страшно': 5, 'тронуться': 5, 'важно': 5, 'неделя': 5, 'простой': 5, 'собственный': 5, 'нравиться': 5, 'спокойствие': 5, 'скрывать': 5, 'удерживать': 5, 'негодование': 5, 'третий': 5, 'расходиться': 5, 'доносить': 5, 'испугаться': 5, 'ссора': 5, 'недавно': 5, 'вольный': 5, 'осматривать': 5, 'повиноваться': 5, 'свидание': 5, 'оглянуться': 5, 'опоминаться': 5, 'слабый': 5, 'замалчивать': 5, 'некоторый': 5, 'хорошенько': 5, 'тронуть': 5, 'освобождать': 5, 'изъявлять': 5, 'оскорблять': 5, 'трепет': 5, 'царь': 5, 'приказание': 5, 'доживать': 5, 'седой': 5, 'слышно': 5, 'неожиданный': 5, 'множество': 5, 'происходить': 5, 'луна': 5, 'из-под': 5, 'везде': 5, 'усмехаться': 5, 'крепко': 5, 'допрос': 5, 'прекращать': 5, 'башкирцев': 5, 'предводитель': 5, 'новый': 5, 'потолковать': 5, 'ключ': 5, 'встревожить': 5, 'бунтовать': 5, 'изображать': 5, 'уезжать': 5, 'кричать': 5, 'поле': 5, 'перекладина': 5, 'миловать': 5, 'избавление': 5, 'порядок': 5, 'шум': 5, 'священник': 5, 'пощада': 5, 'подвластный': 5, 'отворачиваться': 5, 'пускаться': 5, 'издали': 5, 'городской': 5, 'оборонительный': 5, 'прапорщик': 5, 'улыбка': 5, 'плакать': 5, 'покидать': 5, 'слух': 5, 'вахмистр': 5, 'оправдание': 5, 'волга': 5, 'беречь': 4, 'пословица': 4, 'молодость': 4, 'майор': 4, 'симбирский': 4, 'окончание': 4, 'поведение': 4, 'нанимать': 4, 'выписывать': 4, 'пол': 4, 'нежность': 4, 'сутки': 4, 'обед': 4, 'учитель': 4, 'предпочитать': 4, 'пример': 4, 'учить': 4, 'кое-как': 4, 'заниматься': 4, 'короткий': 4, 'разбудить': 4, 'мальчишка': 4, 'перемениться': 4, 'удивительный': 4, 'выпускать': 4, 'погружаться': 4, 'предвещать': 4, 'разлука': 4, 'верхом': 4, 'человеческий': 4, 'отъезд': 4, 'намерен': 4, 'карлович': 4, 'начальство': 4, 'веселый': 4, 'восторг': 4, 'спорить': 4, 'поутру': 4, 'укладывать': 4, 'погребец': 4, 'присягать': 4, 'симбирск': 4, 'трубка': 4, 'биллиард': 4, 'по-видимому': 4, 'приглашать': 4, 'поневоле': 4, 'уметь': 4, 'учение': 4, 'ободрять': 4, 'привычка': 4, 'попробовать': 4, 'послушаться': 4, 'поминутно': 4, 'отроду': 4, 'происшествие': 4, 'рано': 4, 'качать': 4, 'брать': 4, 'стыдно': 4, 'строка': 4, 'любезный': 4, 'изумленный': 4, 'больший': 4, 'слуга': 4, 'доставлять': 4, 'бодрость': 4, 'напрасно': 4, 'вперед': 4, 'вздох': 4, 'кругом': 4, 'вздумать': 4, 'тюрьма': 4, 'успокаиваться': 4, 'узкий': 4, 'вишь': 4, 'облачко': 4, 'изъяснять': 4, 'поглядывать': 4, 'слезать': 4, 'твердый': 4, 'ночевать': 4, 'презрение': 4, 'мыслие': 4, 'невольный': 4, 'недоумение': 4, 'татарский': 4, 'желание': 4, 'штоф': 4, 'печь': 4, 'поздно': 4, 'сиять': 4, 'обыкновение': 4, 'приходиться': 4, 'обещание': 4, 'одевать': 4, 'замечание': 4, 'фельдмаршал': 4, 'сие': 4, 'честный': 4, 'заводить': 4, 'лютый': 4, 'крутой': 4, 'грустно': 4, 'часть': 4, 'мало': 4, 'будущий': 4, 'начало': 4, 'смеркаться': 4, 'деревушка': 4, 'сени': 4, 'офицерский': 4, 'хозяйка': 4, 'пустяк': 4, 'закалывать': 4, 'пускать': 4, 'перегородка': 4, 'передо': 4, 'свинья': 4, 'прибавлять': 4, 'накрывать': 4, 'взгляд': 4, 'слышь': 4, 'богатый': 4, 'сказывать': 4, 'ружье': 4, 'стихотворец': 4, 'избегать': 4, 'действовать': 4, 'объясняться': 4, 'миронова': 4, 'усмешка': 4, 'обрадоваться': 4, 'брань': 4, 'уведомлять': 4, 'здоровый': 4, 'подоспевать': 4, 'затягивать': 4, 'дружески': 4, 'относить': 4, 'чулан': 4, 'супруга': 4, 'дерзость': 4, 'преследовать': 4, 'удобный': 4, 'смело': 4, 'воспользоваться': 4, 'опасный': 4, 'память': 4, 'объяснение': 4, 'сомневаться': 4, 'надлежать': 4, 'искренно': 4, 'самолюбие': 4, 'великодушно': 4, 'губерния': 4, 'пес': 4, 'очередь': 4, 'здешний': 4, 'сначала': 4, 'встречаться': 4, 'немой': 4, 'мрачный': 4, 'возмущение': 4, 'правительство': 4, 'повиновение': 4, 'таковой': 4, 'поминать': 4, 'выводить': 4, 'тайна': 4, 'появление': 4, 'какой-то': 4, 'захотеть': 4, 'приказ': 4, 'неужто': 4, 'толпиться': 4, 'показание': 4, 'представляться': 4, 'ужо': 4, 'допрашивать': 4, 'оный': 4, 'сверкать': 4, 'подсылать': 4, 'нижнеозерный': 4, 'участь': 4, 'пуля': 4, 'могила': 4, 'медлить': 4, 'молитва': 4, 'поспешно': 4, 'разъезжать': 4, 'частокол': 4, 'пристально': 4, 'вооруженный': 4, 'назад': 4, 'земля': 4, 'вылазка': 4, 'миг': 4, 'государев': 4, 'присяга': 4, 'жертва': 4, 'подхватывать': 4, 'погодить': 4, 'целовать': 4, 'беглый': 4, 'татарин': 4, 'побежать': 4, 'усаживаться': 4, 'пощадить': 4, 'покровитель': 4, 'рассматривать': 4, 'широкий': 4, 'решать': 4, 'невозможно': 4, 'обрадовать': 4, 'скакать': 4, 'пазуха': 4, 'тележка': 4, 'останавливать': 4, 'ай': 4, 'оказываться': 4, 'торжествовать': 4, 'решение': 4, 'рассевать': 4, 'просьба': 4, 'дубина': 4, 'дворец': 4, 'белобородов': 4, 'сдаваться': 4, 'губить': 4, 'совесть': 4, 'тройка': 4, 'ворон': 4, 'дозволять': 4, 'спокойный': 4, 'война': 4, 'казань': 4, 'ужасно': 4, 'оправдываться': 4, 'неправда': 4, 'карета': 4, 'плот': 4, 'рогатка': 4, 'телега': 4, 'отпирать': 4, 'пистолет': 4, 'пушкин': 3, 'пусть': 3, 'армия': 3, 'пускай': 3, 'княжнин': 3, 'тамошний': 3, 'семеновский': 3, 'родственник': 3, 'надзор': 3, 'француз': 3, 'приезд': 3, 'понравиться': 3, 'ворчать': 3, 'тратить': 3, 'крайность': 3, 'страсть': 3, 'враг': 3, 'по-русски': 3, 'разлучать': 3, 'преступный': 3, 'слабость': 3, 'урок': 3, 'невинность': 3, 'работа': 3, 'осыпать': 3, 'семь': 3, 'приподымать': 3, 'прогнать': 3, 'неописанный': 3, 'осень': 3, 'гостиная': 3, 'книга': 3, 'влияние': 3, 'особенный': 3, 'пожимать': 3, 'рота': 3, 'диван': 3, 'задумчивость': 3, 'бегать': 3, 'сливаться': 3, 'свобода': 3, 'благополучие': 3, 'откладывать': 3, 'стать': 3, 'вручать': 3, 'батюшкин': 3, 'двигаться': 3, 'очки': 3, 'чайный': 3, 'поручать': 3, 'лавка': 3, 'бродить': 3, 'маркер': 3, 'лезть': 3, 'игра': 3, 'отказываться': 3, 'сожаление': 3, 'разговориться': 3, 'гусарский': 3, 'отобедать': 3, 'валяться': 3, 'вызываться': 3, 'бить': 3, 'даром': 3, 'уговаривать': 3, 'бранить': 3, 'проигрывать': 3, 'смущать': 3, 'извиняться': 3, 'подождать': 3, 'отужинать': 3, 'ахнуть': 3, 'ахти': 3, 'мудрено': 3, 'тяжело': 3, 'кушать': 3, 'мальчик': 3, 'нужда': 3, 'белье': 3, 'всевозможный': 3, 'ладно': 3, 'решительный': 3, 'последствие': 3, 'гордо': 3, 'сплескивать': 3, 'сердито': 3, 'строго': 3, 'горесть': 3, 'поспешить': 3, 'вывозить': 3, 'раскаяние': 3, 'зайти': 3, 'тогдашний': 3, 'непременно': 3, 'эх': 3, 'утешать': 3, 'вокруг': 3, 'простираться': 3, 'солнце': 3, 'след': 3, 'подыматься': 3, 'сперва': 3, 'отдаленный': 3, 'слыхать': 3, 'метель': 3, 'туча': 3, 'исчезать': 3, 'свирепый': 3, 'шаг': 3, 'шевелиться': 3, 'предмет': 3, 'толк': 3, 'погода': 3, 'проворно': 3, 'чужой': 3, 'недалече': 3, 'дым': 3, 'близко': 3, 'сметливость': 3, 'опускать': 3, 'задремать': 3, 'опыт': 3, 'свирепствовать': 3, 'возвращение': 3, 'родительский': 3, 'постель': 3, 'весело': 3, 'спина': 3, 'спотыкаться': 3, 'кликать': 3, 'вводить': 3, 'горница': 3, 'свежий': 3, 'готовить': 3, 'полати': 3, 'армяк': 3, 'таить': 3, 'самовар': 3, 'широкоплечий': 3, 'кружок': 3, 'эхо': 3, 'мигнуть': 3, 'значительно': 3, 'клевать': 3, 'кузов': 3, 'захрапеть': 3, 'запрягать': 3, 'выручать': 3, 'что-нибудь': 3, 'собака': 3, 'кабак': 3, 'сердитый': 3, 'черновой': 3, 'тулупчик': 3, 'окаянный': 3, 'обращать': 3, 'напоминать': 3, 'распечатывать': 3, 'дисциплина': 3, 'гм': 3, 'проказа': 3, 'ешов': 3, 'невинный': 3, 'позволять': 3, 'чин': 3, 'перевести': 3, 'настоящий': 3, 'царствовать': 3, 'фортеций': 3, 'заряжать': 3, 'солдатский': 3, 'волна': 3, 'чернеть': 3, 'грозный': 3, 'видать': 3, 'сено': 3, 'выстраивать': 3, 'зеленый': 3, 'платок': 3, 'пятый': 3, 'разбирать': 3, 'половина': 3, 'распоряжаться': 3, 'отходить': 3, 'занемогать': 3, 'познакомиться': 3, 'вытерпеть': 3, 'глупый': 3, 'общество': 3, 'румяный': 3, 'гореть': 3, 'молиться': 3, 'умолкать': 3, 'триста': 3, 'покраснеть': 3, 'киргизец': 3, 'проучивать': 3, 'десять': 3, 'завидеть': 3, 'визг': 3, 'замирать': 3, 'баба': 3, 'выдумывать': 3, 'ин': 3, 'почтенный': 3, 'благоразумный': 3, 'добиваться': 3, 'сочинение': 3, 'шутка': 3, 'колкий': 3, 'известно': 3, 'маленький': 3, 'тетрадка': 3, 'достойный': 3, 'любовный': 3, 'вырывать': 3, 'угроза': 3, 'сдерживать': 3, 'нежный': 3, 'нрав': 3, 'бешенство': 3, 'секундант': 3, 'дурак': 3, 'драться': 3, 'надлежащий': 3, 'придавать': 3, 'худой': 3, 'ссориться': 3, 'грубый': 3, 'горький': 3, 'обнажать': 3, 'торжество': 3, 'важность': 3, 'подвергать': 3, 'дурь': 3, 'прощение': 3, 'выведывать': 3, 'впрочем': 3, 'хозяйство': 3, 'выговаривать': 3, 'обмирать': 3, 'свататься': 3, 'поцеловаться': 3, 'повод': 3, 'обдумывать': 3, 'помешать': 3, 'некогда': 3, 'живостия': 3, 'лишаться': 3, 'замуж': 3, 'буде': 3, 'плохой': 3, 'очнуться': 3, 'кто-то': 3, 'перервать': 3, 'закрывать': 3, 'касаться': 3, 'почувствовать': 3, 'природа': 3, 'сердечный': 3, 'родные': 3, 'блажь': 3, 'таки': 3, 'хлебный': 3, 'далеко': 3, 'жестокий': 3, 'глубоко': 3, 'ужасать': 3, 'известный': 3, 'благодаря': 3, 'зарыдать': 3, 'старость': 3, 'донос': 3, 'шпион': 3, 'посторонний': 3, 'господский': 3, 'заботиться': 3, 'следствие': 3, 'возвращать': 3, 'кланяться': 3, 'упрямство': 3, 'тягостно': 3, '1773': 3, 'обширный': 3, 'безопасность': 3, 'прибытие': 3, 'рассказ': 3, 'поздороваться': 3, 'новость': 3, 'разорять': 3, 'оное': 3, 'вверять': 3, 'ночной': 3, 'пуще': 3, 'содержать': 3, 'рассуждать': 3, 'отсутствие': 3, 'приготавливаться': 3, 'топить': 3, 'язык': 3, 'захватить': 3, 'поручение': 3, 'необыкновенный': 3, 'кучка': 3, 'употреблять': 3, 'пожалуй': 3, 'то-то': 3, 'батька': 3, 'какой-нибудь': 3, 'постоять': 3, 'уводить': 3, 'уничтожать': 3, 'преступник': 3, 'доказательство': 3, 'ныне': 3, 'жалеть': 3, 'необходимость': 3, 'тощий': 3, 'раздевать': 3, 'управляться': 3, 'второй': 3, 'каменный': 3, 'ангел': 3, 'крепостной': 3, 'откуда': 3, 'отрезать': 3, 'плохо': 3, 'расстояние': 3, 'верх': 3, 'детушки': 3, 'наездник': 3, 'ускакивать': 3, 'высота': 3, 'стрелять': 3, 'окровавленный': 3, 'убивать': 3, 'удаляться': 3, 'кивнуть': 3, 'барабан': 3, 'связывать': 3, 'потащить': 3, 'приближиваться': 3, 'противиться': 3, 'мрачно': 3, 'махнуть': 3, 'веревка': 3, 'мятежный': 3, 'вешать': 3, 'петля': 3, 'искренний': 3, 'спасение': 3, 'унижение': 3, 'шептать': 3, 'седло': 3, 'таскать': 3, 'лестница': 3, 'горько': 3, 'барышня': 3, 'пировать': 3, 'неизъяснимый': 3, 'стаскивать': 3, 'изумляться': 3, 'осаждать': 3, 'объявление': 3, 'отдыхать': 3, 'холодный': 3, 'оспоривать': 3, 'собеседник': 3, 'детинушка': 3, 'скрываться': 3, 'недруг': 3, 'власть': 3, 'немного': 3, 'взор': 3, 'злоба': 3, 'притворный': 3, 'придумывать': 3, 'обер': 3, 'волновать': 3, 'устрашать': 3, 'воображение': 3, 'средство': 3, 'кляча': 3, 'сад': 3, 'бездельник': 3, 'законный': 3, 'оружие': 3, 'коллежский': 3, 'советник': 3, 'тактика': 3, 'секретный': 3, 'густой': 3, 'артиллерия': 3, 'заключение': 3, 'история': 3, 'голод': 3, 'бедствие': 3, 'ежедневно': 3, 'вспыхивать': 3, 'как-нибудь': 3, 'доходить': 3, 'привозить': 3, 'осведомляться': 3, 'очищать': 3, 'потуплять': 3, 'отчаяние': 3, 'пропадать': 3, 'нынешний': 3, 'пожалеть': 3, 'пропустить': 3, 'подъезжать': 3, 'жалобный': 3, 'темнота': 3, 'вступать': 3, 'голубой': 3, 'ноздря': 3, 'сибирский': 3, 'благополучный': 3, 'мертвечина': 3, 'повинный': 3, 'лес': 3, 'енарал': 3, 'обратиться': 3, 'загреметь': 3, 'избавитель': 3, 'настаивать': 3, 'ворона': 3, 'оттого': 3, 'питаться': 3, 'дремать': 3, 'подошед': 3, 'кумушка': 3, 'благодетель': 3, 'везти': 3, 'пропуск': 3, 'сношение': 3, 'просто': 3, 'предположение': 3, 'соединять': 3, 'хозяюшка': 3, 'высокоблагородие': 3, 'плен': 3, 'пропускать': 3, 'сообщать': 3, 'соединяться': 3, 'удар': 3, 'злодействовать': 3, 'переправляться': 3, 'повсюду': 3, 'помещик': 3, 'отдельный': 3, '—': 3, 'цепь': 3, 'гвардейский': 3, 'марш': 3, 'село': 3, 'так-с': 3, 'камер-лакей': 3, 'перевоз': 3, 'полковник': 3, 'андрюшка': 3, 'раненый': 3, 'РВБ': 2, '10': 2, 'т': 2, 'смолоду': 2, 'близкий': 2, 'отпуск': 2, 'наука': 2, 'выучиваться': 2, 'грамота': 2, 'судить': 2, 'кобель': 2, 'запас': 2, 'беспутный': 2, 'слабостия': 2, 'подаваться': 2, 'настойка': 2, 'полезный': 2, 'поладить': 2, 'по-французски': 2, 'наскоро': 2, 'рябой': 2, 'как-то': 2, 'жаловаться': 2, 'шутить': 2, 'занятый': 2, 'карта': 2, 'пользоваться': 2, 'подбегать': 2, 'смятение': 2, 'недоросль': 2, 'дворовый': 2, 'перечитывать': 2, 'участие': 2, 'зато': 2, 'российский': 2, 'швырнуть': 2, 'сколько': 2, 'трудно': 2, 'петербургский': 2, 'будущее': 2, 'научаться': 2, 'потянуть': 2, 'понюхать': 2, 'порох': 2, 'пашпорт': 2, 'сводить': 2, 'медленно': 2, 'пакет': 2, 'скука': 2, 'глухой': 2, 'подвозить': 2, 'узел': 2, 'пирог': 2, 'ласка': 2, 'отговариваться': 2, 'сверху': 2, 'лисий': 2, 'обливаться': 2, 'пробыть': 2, 'вещь': 2, 'кий': 2, 'выигрыш': 2, 'рюмка': 2, 'проигрыш': 2, 'четверинка': 2, 'прогулка': 2, 'прием': 2, 'стоить': 2, 'смех': 2, 'приятель': 2, 'необходимо': 2, 'служивый': 2, 'дивиться': 2, 'быстрый': 2, 'пунш': 2, 'летать': 2, 'считать': 2, 'ведать': 2, 'словом': 2, 'вырываться': 2, 'незаметно': 2, 'немножко': 2, 'аринушка': 2, 'полночь': 2, 'отвозить': 2, 'несомненный': 2, 'признак': 2, 'запинаться': 2, 'припоминать': 2, 'гулять': 2, 'рот': 2, 'мадам': 2, 'ву': 2, 'собачий': 2, 'поди': 2, 'чаять': 2, 'унимать': 2, 'развертывать': 2, 'услуга': 2, 'равнодушный': 2, 'остолбенеть': 2, 'уморить': 2, 'печаль': 2, 'неспокойный': 2, 'совестие': 2, 'проститься': 2, 'когда-нибудь': 2, 'II': 2, 'ль': 2, 'завозить': 2, 'молодецкий': 2, 'напроказить': 2, 'умный': 2, 'сердиться': 2, 'попутать': 2, 'кума': 2, 'впредь': 2, 'располагать': 2, 'копейка': 2, 'назначение': 2, 'пустыня': 2, 'посматривать': 2, 'ненадежный': 2, 'восток': 2, 'ясный': 2, 'занести': 2, 'согласно': 2, 'заблаговременно': 2, 'станция': 2, 'повалить': 2, 'завыть': 2, 'снежный': 2, 'море': 2, 'мрак': 2, 'заступаться': 2, 'почивать': 2, 'спешить': 2, 'свадьба': 2, 'сугроб': 2, 'вздрагивать': 2, 'различать': 2, 'эй': 2, 'воз': 2, 'дерево': 2, 'волк': 2, 'подвигаться': 2, 'гей': 2, 'мужичок': 2, 'взяться': 2, 'доводить': 2, 'знакомая': 2, 'проясниваться': 2, 'звезда': 2, 'хладнокровие': 2, 'недалеко': 2, 'вправо': 2, 'небось': 2, 'похожий': 2, 'бок': 2, 'уступать': 2, 'неясный': 2, 'ослушание': 2, 'выпрыгивать': 2, 'спальня': 2, 'слабо': 2, 'постел': 2, 'болезнь': 2, 'устремлять': 2, 'равный': 2, 'посаженый': 2, 'ручка': 2, 'вскакивать': 2, 'выхватывать': 2, 'топор': 2, 'махать': 2, 'скользить': 2, 'наткнуться': 2, 'забор': 2, 'темно': 2, 'шестьдесят': 2, 'бодрый': 2, 'хлопотать': 2, 'прозябнуть': 2, 'закладывать': 2, 'мороз': 2, 'наружность': 2, 'замечательный': 2, 'обстригать': 2, 'шаровары': 2, 'подносить': 2, 'огород': 2, 'бабушка': 2, 'камушек': 2, 'черт': 2, 'грибок': 2, 'заткнуть': 2, 'перекрещиваться': 2, 'воровской': 2, '1772': 2, 'далече': 2, 'продолжение': 2, 'убираться': 2, 'убитый': 2, 'расплачиваться': 2, 'нахмуриваться': 2, 'хладнокровно': 2, 'пропивать': 2, 'старинушка': 2, 'обирать': 2, 'автограф': 2, 'напяливать': 2, 'нести': 2, 'новешенький': 2, 'нитка': 2, 'подарок': 2, 'низкий': 2, 'добродетель': 2, 'мужчина': 2, 'сгорбленный': 2, 'немецкий': 2, 'фремя': 2, 'ежовый': 2, 'отписывать': 2, 'терять': 2, 'команда': 2, 'рассеяние': 2, 'втроем': 2, 'трапеза': 2, 'отчасти': 2, 'поспешный': 2, 'удаление': 2, 'III': 2, 'задавать': 2, 'яик': 2, 'замерзать': 2, 'безделица': 2, 'видный': 2, 'скирда': 2, 'лубочный': 2, 'крыло': 2, 'удивление': 2, 'деревянный': 2, 'домик': 2, 'церковь': 2, 'убирать': 2, 'по-старинному': 2, 'диплом': 2, 'стекло': 2, 'рамка': 2, 'старушка': 2, 'перебивать': 2, 'одинокий': 2, 'неприличный': 2, 'смертоубийство': 2, 'статный': 2, 'полежаев': 2, 'прохоров': 2, 'устинья': 2, 'разделять': 2, 'узенький': 2, 'наискось': 2, 'дружелюбный': 2, 'ужин': 2, 'увещание': 2, 'барыня': 2, 'одеваться': 2, 'проживать': 2, 'веселостия': 2, 'чинить': 2, 'коса': 2, 'шляпа': 2, 'впереди': 2, 'ласковый': 2, 'командовать': 2, 'вслед': 2, 'гладко': 2, 'щи': 2, 'приданое': 2, 'веник': 2, 'напугать': 2, 'рысий': 2, 'засвидетельствовать': 2, 'палить': 2, 'управлять': 2, 'крепостия': 2, 'незаметный': 2, 'привязываться': 2, 'связь': 2, 'левый': 2, 'многий': 2, 'ошибаться': 2, 'крест': 2, 'французский': 2, 'литература': 2, 'стих': 2, 'разумеется': 2, 'видеться': 2, 'менее': 2, 'всегдашний': 2, 'насчет': 2, 'мир': 2, 'александр': 2, 'сумароков': 2, 'благосклонный': 2, 'слушатель': 2, 'произведение': 2, 'стишок': 2, 'пленять': 2, 'покой': 2, 'напасть': 2, 'похвала': 2, 'изъясняться': 2, 'догадка': 2, 'скромный': 2, 'дружеский': 2, 'подарить': 2, 'лгать': 2, 'пройти': 2, 'стискивать': 2, 'растерзывать': 2, 'гриб': 2, 'зима': 2, 'единственный': 2, 'побранить': 2, 'ближний': 2, 'похоже': 2, 'рассуждение': 2, 'поколебать': 2, 'разуметь': 2, 'швед': 2, 'турку': 2, 'насмотреться': 2, 'должность': 2, 'вмешиваться': 2, 'насилу': 2, 'умиление': 2, 'трогательный': 2, 'скирд': 2, 'седьмой': 2, 'сущий': 2, 'любимый': 2, 'рассудить': 2, 'пришед': 2, 'противник': 2, 'шагать': 2, 'провозглашать': 2, 'совестно': 2, 'вполне': 2, 'приговаривать': 2, 'запрещать': 2, 'засмеяться': 2, 'сохранять': 2, 'уважение': 2, 'единый': 2, 'зевать': 2, 'разный': 2, 'каяться': 2, 'повертывать': 2, 'наедине': 2, 'биться': 2, 'жизнить': 2, 'беспокоить': 2, 'заикаться': 2, 'прошлый': 2, 'многое': 2, 'склонность': 2, 'непристойный': 2, 'насмешка': 2, 'клевета': 2, 'дерзкий': 2, 'дожидаться': 2, 'недолго': 2, 'ожидание': 2, 'постучаться': 2, 'тропинка': 2, 'вред': 2, 'кольнуть': 2, 'разум': 2, 'народный': 2, 'бережно': 2, 'затрепетать': 2, 'усилие': 2, 'изображаться': 2, 'ангельский': 2, 'выражать': 2, 'сладостный': 2, 'прильнуть': 2, 'щека': 2, 'пробежать': 2, 'открываться': 2, 'поберечь': 2, 'наполнять': 2, 'лечить': 2, 'цирюльник': 2, 'лекарь': 2, 'ускорять': 2, 'выздоровление': 2, 'ухаживать': 2, 'чистосердечный': 2, 'убедительный': 2, 'надуматься': 2, 'отвергать': 2, 'выздоравливать': 2, 'перебираться': 2, 'заглушать': 2, 'предчувствие': 2, 'предложение': 2, 'удивлять': 2, 'заранее': 2, 'приписывать': 2, 'расположение': 2, 'черта': 2, 'брак': 2, '15': 2, 'недостойный': 2, 'защита': 2, 'куда-нибудь': 2, 'исправляться': 2, 'г': 2, 'чувствование': 2, 'упоминать': 2, 'взад': 2, 'изводить': 2, 'приставлять': 2, 'пасть': 2, 'получение': 2, 'упрек': 2, 'неутешный': 2, 'научать': 2, 'железный': 2, 'выгода': 2, 'побледнеть': 2, 'будить': 2, 'жестокосердый': 2, 'умолять': 2, 'полюбить': 2, 'погружать': 2, 'гневаться': 2, 'глубина': 2, 'оказия': 2, 'укор': 2, 'ссылать': 2, 'боярский': 2, 'рабски': 2, 'архип': 2, 'улыбаться': 2, 'всячески': 2, 'редко': 2, 'утверждать': 2, 'несносный': 2, 'впадать': 2, 'бездействие': 2, 'потерять': 2, 'потрясение': 2, 'приступать': 2, 'жестокость': 2, 'непрестанный': 2, 'долженствовать': 2, 'городок': 2, 'предпринимать': 2, 'траубенберг': 2, 'варварский': 2, 'наказание': 2, 'поверять': 2, 'мнимый': 2, 'лукавый': 2, 'октябрь': 2, 'осенний': 2, 'озабоченный': 2, 'убегать': 2, 'непростительный': 2, 'император': 2, 'злодейский': 2, 'убийство': 2, 'уничтожение': 2, 'учреждать': 2, 'вычищать': 2, 'раздавать': 2, 'насвистывать': 2, 'чудный': 2, 'скучно': 2, 'совещание': 2, 'нимало': 2, 'сожительница': 2, 'вытаскивать': 2, 'сор': 2, 'ребятишки': 2, 'приготовление': 2, 'касательно': 2, 'усыплять': 2, 'осторожность': 2, 'помолчать': 2, 'вздыхать': 2, 'заговаривать': 2, 'неведомый': 2, 'побояться': 2, 'заметно': 2, 'калмык': 2, 'донесение': 2, 'явный': 2, 'предлог': 2, 'воззвание': 2, 'впечатление': 2, 'знамя': 2, 'плеть': 2, 'перепугаться': 2, 'счастливо': 2, 'пытка': 2, 'старина': 2, 'признание': 2, 'здравый': 2, 'подсудимый': 2, 'шагнуть': 2, 'колодка': 2, 'семьдесят': 2, 'нос': 2, 'торчать': 2, 'али': 2, 'полосатый': 2, 'поймать': 2, 'застонать': 2, 'кивать': 2, 'правило': 2, 'защищать': 2, 'женщина': 2, 'свободный': 2, 'надежный': 2, 'достигать': 2, 'залетать': 2, 'отсиживаться': 2, 'сикурс': 2, 'подействовать': 2, 'крестный': 2, 'конвой': 2, 'предчувствовать': 2, 'ровно': 2, 'выслуживать': 2, 'шелковый': 2, 'уныние': 2, 'насильно': 2, 'лететь': 2, 'перетаскивать': 2, 'одушевлять': 2, 'бодростия': 2, 'съезжаться': 2, 'ядро': 2, 'опустеть': 2, 'невольно': 2, 'рыцарь': 2, 'доверенность': 2, 'конный': 2, 'копье': 2, 'обнаженный': 2, 'подскакивать': 2, 'чрез': 2, 'залп': 2, 'зашататься': 2, 'уздцы': 2, 'приготовляться': 2, 'стрела': 2, 'бабий': 2, 'живот': 2, 'трепещущий': 2, 'изменяться': 2, 'прощай': 2, 'выпаливать': 2, 'середина': 2, 'ворваться': 2, 'ослушник': 2, 'колокольный': 2, 'звон': 2, 'кресло': 2, 'золотой': 2, 'воздух': 2, 'дядюшка': 2, 'накинуть': 2, 'притаскивать': 2, 'бось': 2, 'палач': 2, 'сожалеть': 2, 'протягивать': 2, 'подлый': 2, 'упрямиться': 2, 'плюнуть': 2, 'резать': 2, 'подводить': 2, 'женский': 2, 'растрепывать': 2, 'душегрейка': 2, 'сундук': 2, 'исступление': 2, 'штык': 2, 'прусский': 2, 'турецкий': 2, 'незваный': 2, 'неизвестность': 2, 'шкап': 2, 'уцелеть': 2, 'мелькнуть': 2, 'легкий': 2, 'нетерпеливо': 2, 'опрометью': 2, 'пояс': 2, 'нож': 2, 'расхлопотаться': 2, 'разграбить': 2, 'атаман': 2, 'бестия': 2, 'детский': 2, 'потрясать': 2, 'государство': 2, 'покушать': 2, 'пошарить': 2, 'предвидеть': 2, 'трепетать': 2, 'приход': 2, 'персона': 2, 'царский': 2, 'скатерть': 2, 'разгорячать': 2, 'блистать': 2, 'сосед': 2, 'стройный': 2, 'кулак': 2, 'правильный': 2, 'граф': 2, 'утренний': 2, 'бедственный': 2, 'братец': 2, 'тонкий': 2, 'голосок': 2, 'мешать': 2, 'воровать': 2, 'разбой': 2, 'надежа': 2, 'православный': 2, 'столб': 2, 'унылый': 2, 'выразительный': 2, 'молчание': 2, 'насмешливость': 2, 'забавный': 2, 'малодушие': 2, 'погибель': 2, 'колебаться': 2, 'федорович': 2, 'удача': 2, 'гришка': 2, 'отрепьев': 2, 'иной': 2, 'твердостия': 2, 'природный': 2, 'ярко': 2, 'несказанный': 2, 'поужинать': 2, 'голый': 2, 'херасков': 2, 'порода': 2, 'прикрывать': 2, 'метать': 2, 'подбирать': 2, 'присоветовать': 2, 'делаться': 2, 'око': 2, 'вслух': 2, 'громогласно': 2, 'шесть': 2, 'штаны': 2, 'рубаха': 2, 'манжета': 2, 'реестр': 2, 'дочитывать': 2, 'крытый': 2, 'огненный': 2, 'вечно': 2, 'польза': 2, 'неуместный': 2, 'удерживаться': 2, 'горячка': 2, 'злобный': 2, 'бессилие': 2, 'предводительствовать': 2, 'ненависть': 2, 'освобождение': 2, 'утешение': 2, 'конский': 2, 'башкирский': 2, 'овчинный': 2, 'примолвить': 2, 'растеривать': 2, 'косо': 2, 'проворчать': 2, 'побрякивать': 2, 'бессовестный': 2, 'присылать': 2, 'благодарный': 2, 'луг': 2, 'вершина': 2, 'град': 2, 'повелеть': 2, 'обезображивать': 2, 'щипцы': 2, 'укрепление': 2, 'кирпич': 2, 'дыхание': 2, 'расспрашивать': 2, 'сухой': 2, 'высылать': 2, 'покачать': 2, 'недоверчивость': 2, 'директор': 2, 'глазетовый': 2, 'обличать': 2, 'ясно': 2, 'истребление': 2, 'безопасно': 2, 'подкупательный': 2, 'благоразумно': 2, 'обещать': 2, 'неверность': 2, 'подобный': 2, 'открытый': 2, 'пепел': 2, 'согласный': 2, 'основывать': 2, 'набивать': 2, 'ответственность': 2, 'провинция': 2, 'число': 2, 'принадлежать': 2, 'семейственный': 2, 'вкратце': 2, 'претерпевать': 2, 'привлекать': 2, 'наездничество': 2, 'перестрелка': 2, 'сытый': 2, 'одолевать': 2, 'удачно': 2, 'осторожностия': 2, 'благоразумие': 2, 'слагать': 2, 'обман': 2, 'милосердие': 2, 'пришпоривать': 2, 'прискакивать': 2, 'вбегать': 2, 'отказывать': 2, 'полсотни': 2, 'коммуникация': 2, 'победа': 2, 'расстреливать': 2, 'терпение': 2, 'сыскиваться': 2, 'вдовушка': 2, 'нався': 2, 'все-таки': 2, 'утаивать': 2, 'твердо': 2, 'хромой': 2, 'бердский': 2, 'пристанище': 2, 'крупный': 2, 'едва': 2, 'бес': 2, 'обух': 2, 'засверкать': 2, 'сумрак': 2, 'узда': 2, 'отбегать': 2, 'вязать': 2, 'креститься': 2, 'впускать': 2, 'подбочиться': 2, 'подобострастие': 2, 'поживать': 2, 'лента': 2, 'серый': 2, 'рыжий': 2, 'лоб': 2, 'исключительно': 2, 'нечаянно': 2, 'пугать': 2, 'наговор': 2, 'порядком': 2, 'приказный': 2, 'чей': 2, 'смущение': 2, 'уверять': 2, 'грешный': 2, 'христианский': 2, 'рваный': 2, 'благоприятный': 2, 'попировать': 2, 'противуречивать': 2, 'колокольчик': 2, 'полететь': 2, 'свидеться': 2, 'гладкий': 2, 'соединение': 2, 'зависеть': 2, 'ей-богу': 2, 'доселе': 2, 'сказка': 2, 'отчего': 2, 'клюнуть': 2, 'затейливый': 2, 'качаться': 2, 'четверть': 2, 'снаряжать': 2, 'некого': 2, 'недовольный': 2, 'предупреждать': 2, 'умолк': 2, 'вина': 2, 'убийца': 2, 'по-твоему': 2, 'застава': 2, 'прочее': 2, 'прежний': 2, 'застенчивость': 2, 'нестись': 2, 'повозка': 2, 'торопливый': 2, 'услужливость': 2, 'острог': 2, 'заупрямиться': 2, 'убеждать': 2, 'запрос': 2, 'февраль': 2, 'наносить': 2, 'отряжать': 2, 'утешаться': 2, 'отбирать': 2, 'правление': 2, 'укрываться': 2, 'самовластный': 2, 'пожар': 2, 'бессмысленный': 2, 'беспощадный': 2, 'михельсон': 2, 'разбитие': 2, 'поимка': 2, 'столько': 2, 'тревожить': 2, 'емеля': 2, 'относиться': 2, 'сохраняться': 2, 'см': 2, 'стр': 2, '401': 2, '388': 2, 'путешествие': 2, 'наголо': 2, 'молва': 2, 'посереди': 2, 'внутренний': 2, 'начинаться': 2, 'сурово': 2, 'обвинение': 2, 'измена': 2, 'знакомство': 2, 'замешать': 2, 'отвращение': 2, 'очный': 2, 'ставка': 2, 'вывести': 2, 'присутствовать': 2, 'обласкивать': 2, 'замысел': 2, 'постигать': 2, 'участвовать': 2, 'изменять': 2, 'людской': 2, 'жених': 2, 'замышлять': 2, 'потомство': 2, 'аллея': 2, 'памятник': 2, 'скамейка': 2, 'почтительно': 2, 'приставать': 2, 'вредный': 2, 'встреча': 2, 'радостный': 2, 'рукопись': 2, 'староста': 2, 'буланин': 2, 'плыть': 2, 'вниз': 2, 'облако': 2, 'плывучий': 2, 'парус': 2, 'мачта': 2, 'озарять': 2, 'багор': 2, 'ванька': 2, 'выборный': 2, 'выскочить': 2, 'буянить': 2, 'отверстие': 2, 'прорубать': 2, 'прижимать': 2, 'выдерживать': 2, 'выстреливать': 2, 'проклятие': 2, 'дряхлый': 2, 'погоня': 2, 'ива': 2, 'XVIII': 1, 'XIX': 1, 'XX': 1, 'собр': 1, 'соч': 1, 'тт': 1, '5': 1, 'I': 1, 'изрядно': 1, 'потужить': 1, 'графа': 1, 'миних': 1, 'отставка': 1, 'премьер': 1, '17': 1, 'ю': 1, 'девять': 1, 'сестра': 1, 'младенчество': 1, 'брюхатый': 1, 'паче': 1, 'чаяние': 1, 'рожать': 1, 'неявиться': 1, 'считаться': 1, 'воспитываться': 1, 'нонешний': 1, 'пятилетний': 1, 'возраст': 1, 'стремянный': 1, 'трезвый': 1, 'двенадцатый': 1, 'здраво': 1, 'свойство': 1, '286': 1, 'борзой': 1, 'мосье': 1, 'годовой': 1, 'прованский': 1, 'масло': 1, 'умывать': 1, 'причесывать': 1, 'накормить': 1, 'парикмахер': 1, 'пруссия': 1, 'россия': 1, 'pour': 1, 'être': 1, 'outchitel1': 1, 'значение': 1, 'ветреный': 1, 'нередко': 1, 'толчок': 1, 'бутылка': 1, 'е': 1, 'хлебнуть': 1, 'рюмочка': 1, 'причем': 1, 'обносить': 1, 'желудок': 1, 'контракт': 1, 'обязывать': 1, 'по-немецки': 1, 'болтать': 1, 'ментор': 1, 'прачка': 1, 'толстый': 1, 'коровница': 1, 'акулька': 1, 'виниться': 1, 'плач': 1, 'обольщать': 1, 'неопытность': 1, 'пожаловаться': 1, 'расправа': 1, 'каналья': 1, 'географический': 1, 'франц': 1, '287': 1, 'употребление': 1, 'соблазнять': 1, 'ширина': 1, 'доброта': 1, 'змея': 1, 'прилаживать': 1, 'мочальный': 1, 'хвост': 1, 'мыс': 1, 'упражнение': 1, 'география': 1, 'дернуть': 1, 'неосторожно': 1, 'укоризна': 1, 'привставать': 1, 'мертво': 1, 'выталкивать': 1, 'воспитание': 1, 'гонять': 1, 'голубь': 1, 'чехарда': 1, 'минуть': 1, 'шестнадцать': 1, 'варить': 1, 'медовый': 1, 'варение': 1, 'облизываться': 1, 'кипучий': 1, 'пенка': 1, 'ежегодно': 1, 'желчь': 1, 'наизусть': 1, 'свычай': 1, 'засовывать': 1, 'подалее': 1, 'случайно': 1, 'орден': 1, 'кавалер': 1, 'семнадцатый': 1, 'годок': 1, 'рождаться': 1, 'окриветь': 1, 'тетушка': 1, 'настасья': 1, 'гарасимовна': 1, '288': 1, 'девичий': 1, 'лазить': 1, 'голубятня': 1, 'уронить': 1, 'ложка': 1, 'кастрюлька': 1, 'потечь': 1, 'напротив': 1, 'восхищение': 1, 'удовольствие': 1, 'исполнение': 1, 'дескать': 1, 'вздор': 1, 'петрушин': 1, 'мотать': 1, 'повесничать': 1, 'лямка': 1, 'шаматон': 1, 'отыскивать': 1, 'храниться': 1, 'шкатулка': 1, 'сорочка': 1, 'крестить': 1, 'запечатывать': 1, '289': 1, 'р': 1, 'блестящий': 1, 'рушиться': 1, 'отдалять': 1, 'тяжкий': 1, 'чемодан': 1, 'прибор': 1, 'булка': 1, 'домашний': 1, 'баловство': 1, 'гоняться': 1, 'напрашиваться': 1, 'закупка': 1, 'соскучий': 1, 'грязный': 1, 'переулок': 1, 'вошед': 1, 'биллиардный': 1, 'ус': 1, 'зуб': 1, 'долее': 1, 'надгробный': 1, 'сыграть': 1, 'партия': 1, 'неумение': 1, '290': 1, 'ротмистр': 1, 'полка': 1, 'рекрут': 1, 'по-солдатски': 1, 'потчевать': 1, 'армейский': 1, 'анекдот': 1, 'выучивать': 1, 'например': 1, 'местечко': 1, 'жид': 1, 'убежденный': 1, 'прилежание': 1, 'грош': 1, 'скверный': 1, 'прихлебывать': 1, 'отважный': 1, 'шар': 1, 'борт': 1, 'горячиться': 1, 'умножать': 1, 'часы': 1, 'беспутно': 1, 'подливать': 1, '291': 1, 'жалкий': 1, 'нагружаться': 1, 'головной': 1, 'боль': 1, 'смутно': 1, 'дедушка': 1, 'квас': 1, 'антипиевна': 1, 'забегать': 1, 'водкю': 1, 'наставлять': 1, 'басурман': 1, 'отвертываться': 1, 'проповедь': 1, 'подгуливать': 1, 'головка': 1, 'хотеться': 1, 'годный': 1, 'огуречный': 1, 'рассол': 1, 'мед': 1, 'опохмеляться': 1, 'полстаканчик': 1, 'пожалуйста': 1, 'рачитель': 1, '292': 1, 'холодностия': 1, 'задолжать': 1, 'переспоривать': 1, 'упрямый': 1, 'освобождаться': 1, 'опека': 1, 'вздуматься': 1, 'пошутить': 1, 'водиться': 1, 'крепко-накрепко': 1, 'заказывать': 1, 'окром': 1, 'орех': 1, 'взашей': 1, 'безмолвный': 1, 'сторонушка': 1, 'прытость': 1, 'хмелинушка': 1, 'кабацкий': 1, 'цена': 1, 'немаловажный': 1, 'глупо': 1, 'угрюмо': 1, 'отворотиться': 1, 'покрякивать': 1, '294': 1, 'забредать': 1, 'дьячиха': 1, 'повидаться': 1, 'так-то': 1, 'засаживаться': 1, 'пересеченный': 1, 'холм': 1, 'пролагать': 1, 'сани': 1, 'слегка': 1, 'сметать': 1, 'пороша': 1, 'кнут': 1, 'холмик': 1, 'обоз': 1, 'понадеяться': 1, 'дружно': 1, 'расти': 1, 'постепенно': 1, 'облегать': 1, 'мелкий': 1, 'хлопья': 1, '295': 1, 'мгновение': 1, 'смешаться': 1, 'выглядывать': 1, 'вихорь': 1, 'выть': 1, 'выразительностия': 1, 'одушевленный': 1, 'засыпать': 1, 'невесть': 1, 'заезжать': 1, 'мгла': 1, 'накушаться': 1, 'право': 1, 'валить': 1, 'понурить': 1, 'улаживать': 1, 'упряжь': 1, 'мутный': 1, 'кружение': 1, 'чернеться': 1, 'всматриваться': 1, 'поравняться': 1, 'полоса': 1, 'ночлег': 1, 'исходить': 1, 'изъездить': 1, 'вдоль': 1, 'поперек': 1, 'сбиваться': 1, 'пережидать': 1, '296': 1, 'предавать': 1, 'сворачивать': 1, 'хомут': 1, 'погонять': 1, 'оттоле': 1, 'пахнуть': 1, 'тонкость': 1, 'чутье': 1, 'изумлять': 1, 'обрушаться': 1, 'переваливаться': 1, 'плавание': 1, 'судно': 1, 'бурный': 1, 'толкаться': 1, 'циновка': 1, 'закутываться': 1, 'убаюкивать': 1, 'пение': 1, 'качка': 1, 'езда': 1, 'присниться': 1, 'нечто': 1, 'пророческий': 1, 'соображать': 1, 'сродный': 1, 'суеверие': 1, 'предрассудок': 1, 'существенность': 1, 'мечтание': 1, 'видение': 1, 'первосония': 1, 'блуждать': 1, 'усадьба': 1, 'опасение': 1, 'прогневаться': 1, 'кровля': 1, 'умышленный': 1, 'огорчение': 1, '297': 1, 'полог': 1, 'наполняться': 1, 'кровавый': 1, 'лужа': 1, 'бойся': 1, 'дергать': 1, 'протирать': 1, 'обогреваться': 1, 'меньший': 1, 'выкалывать': 1, 'фонарь': 1, 'пола': 1, 'лучина': 1, 'винтовка': 1, 'вносить': 1, '298': 1, 'сверкающий': 1, 'худенький': 1, 'вечор': 1, 'целовальник': 1, 'кипеть': 1, 'средний': 1, 'худощавый': 1, 'проседь': 1, 'плутовской': 1, 'оборванный': 1, 'отведывать': 1, 'поморщиться': 1, 'поднести': 1, 'питие': 1, 'ставец': 1, 'отколе': 1, 'поговорка': 1, 'конопля': 1, 'иносказательный': 1, 'вечерня': 1, 'звонить': 1, 'погост': 1, 'дядя': 1, 'дождик': 1, 'лесничий': 1, 'усмирять': 1, '299': 1, 'умет': 1, 'походить': 1, 'разбойнический': 1, 'пристань': 1, 'забавлять': 1, 'располагаться': 1, 'ослепительный': 1, 'пелена': 1, 'необозримый': 1, 'умеренный': 1, 'плата': 1, 'заспорить': 1, 'торговаться': 1, 'изглаживаться': 1, 'голодать': 1, 'досадно': 1, 'отблагодарить': 1, 'неприятный': 1, 'холопий': 1, 'смыслить': 1, 'простота': 1, '300': 1, '1834': 1, 'плечище': 1, 'простонать': 1, 'оголелый': 1, 'примеривать': 1, 'вырастать': 1, 'умудряться': 1, 'распор': 1, 'шов': 1, 'затрещать': 1, 'поклон': 1, 'награждать': 1, 'вьюга': 1, 'старостия': 1, 'полинялый': 1, 'иоанновна': 1, 'отзываться': 1, 'выговор': 1, 'пожа': 1, 'тавный': 1, 'уш': 1, 'молотце': 1, 'серемония': 1, 'фуй': 1, 'софестно': 1, 'перво': 1, 'камрад': 1, 'мина': 1, 'каролинка': 1, 'брудер': 1, 'повеса': 1, 'русска': 1, 'поговорк': 1, '302': 1, 'дершать': 1, 'вредно': 1, 'утроба': 1, 'граница': 1, 'киргиз': 1, 'кайсацкий': 1, 'адъютант': 1, 'экономия': 1, 'холостой': 1, 'пирушка': 1, 'свинцовый': 1, 'однообразный': 1, 'привлекательность': 1, 'сажать': 1, '304': 1, 'бастион': 1, 'башня': 1, 'бревенчатый': 1, 'полузанесенный': 1, 'скривиться': 1, 'мельница': 1, 'лениво': 1, 'чугунный': 1, 'близ': 1, 'нашивать': 1, 'синий': 1, 'заплата': 1, 'локоть': 1, 'чистенький': 1, 'комнатка': 1, 'шкаф': 1, 'красоваться': 1, 'картинка': 1, 'кистрина': 1, 'очаков': 1, 'выбор': 1, 'погребение': 1, 'кот': 1, 'телогрейка': 1, 'разматывать': 1, 'распяливать': 1, 'занятие': 1, 'затверживать': 1, 'удовлетворять': 1, '305': 1, 'переходить': 1, 'чаятельный': 1, 'поступок': 1, 'неутомимый': 1, 'вопрошатель': 1, 'уставать': 1, 'печалиться': 1, 'упекать': 1, 'захолустье': 1, 'стерпеться': 1, 'слюбляться': 1, 'пырять': 1, 'мастер': 1, 'чисто': 1, 'помещать': 1, 'тесно': 1, 'отчество': 1, 'семен': 1, 'подраться': 1, 'негулина': 1, 'горячий': 1, 'откланиваться': 1, 'семя': 1, 'опрятный': 1, 'надвое': 1, '306': 1, 'избушка': 1, 'курица': 1, 'корыто': 1, 'хрюканье': 1, 'осуждать': 1, 'тоска': 1, 'сокрушение': 1, 'невысокий': 1, 'смуглый': 1, 'отменно': 1, 'некрасивый': 1, 'церемония': 1, 'острый': 1, 'занимательный': 1, 'площадка': 1, 'старенький': 1, 'треугольный': 1, 'фрунт': 1, 'колпак': 1, 'китайчатый': 1, '307': 1, 'запросто': 1, 'радушно': 1, 'заучиваться': 1, 'осьмнадцати': 1, 'круглолицый': 1, 'светло-русый': 1, 'зачесывать': 1, 'предубеждение': 1, 'дурочка': 1, 'шить': 1, 'простыть': 1, 'накричаться': 1, 'кушанье': 1, 'давным-давно': 1, 'дозваться': 1, 'солдатушка': 1, 'даваться': 1, 'дорогой': 1, 'всего-то': 1, 'помаленьку': 1, 'выданье': 1, 'частый': 1, 'гребень': 1, 'алтын': 1, 'вековечный': 1, 'капнуть': 1, 'тарелка': 1, 'некстати': 1, 'нападать': 1, '308': 1, 'сунуться': 1, 'насовываться': 1, 'острастка': 1, 'угомонять': 1, 'подверженный': 1, 'переводить': 1, 'нехристь': 1, 'заслышать': 1, 'рыскать': 1, 'прехрабрый': 1, 'робкий': 1, 'десяток': 1, 'трусиха': 1, 'выстрел': 1, 'затрепетаться': 1, 'именины': 1, 'IV': 1, 'позитура': 1, 'прокалывать': 1, 'фигура': 1, 'сносный': 1, 'необразованный': 1, 'согласоваться': 1, 'беспечностия': 1, 'хозяйский': 1, 'домком': 1, 'переставать': 1, 'дичиться': 1, 'чувствительный': 1, 'непозволительный': 1, 'тень': 1, 'правдоподобие': 1, 'отягощать': 1, 'богоспасаемый': 1, 'смотр': 1, 'караулов': 1, '310': 1, 'оборот': 1, 'класть': 1, 'знамение': 1, 'пробуждаться': 1, 'упражняться': 1, 'перевод': 1, 'остаток': 1, 'вечерок': 1, 'вестовщица': 1, 'околоток': 1, 'беседа': 1, 'особенно': 1, 'предсказание': 1, 'возмущаться': 1, 'незапный': 1, 'междуусобие': 1, 'изрядный': 1, 'похвалять': 1, 'сочинитель': 1, 'требование': 1, 'переписывать': 1, 'понести': 1, 'оценивать': 1, 'предисловие': 1, 'любовна': 1, 'истреблять': 1, 'тщиться': 1, 'мышль': 1, 'вольность': 1, 'мя': 1, 'всеминутный': 1, 'предо': 1, 'сокрушать': 1, '311': 1, 'сжалиться': 1, 'зря': 1, 'дань': 1, 'следуемый': 1, 'снисходительный': 1, 'решительно': 1, 'нехороший': 1, 'василье': 1, 'кирилович': 1, 'тредьяковский': 1, 'куплетец': 1, 'немилосердный': 1, 'стихать': 1, 'издеваться': 1, 'посмеяться': 1, 'графинчик': 1, 'ого': 1, 'самолюбивый': 1, 'любовник': 1, 'раздражать': 1, 'ежели': 1, 'сумерки': 1, 'пара': 1, 'серьга': 1, 'закипать': 1, '312': 1, 'адский': 1, 'мерзавец': 1, 'бесстыдный': 1, 'сатисфакция': 1, 'иголка': 1, 'препоручение': 1, 'нанизывать': 1, 'сушение': 1, 'поссориться': 1, 'вытаращить': 1, 'затевать': 1, 'побраниться': 1, 'виснуть': 1, 'выругать': 1, 'рыло': 1, 'помирить': 1, 'охотник': 1, 'просверливать': 1, 'невидальщина': 1, '313': 1, 'умышляться': 1, 'злодействие': 1, 'казенный': 1, 'интерес': 1, 'благоугодно': 1, 'отступаться': 1, 'докучный': 1, 'хвалиться': 1, 'сухо': 1, 'уславливаться': 1, 'проболтаться': 1, 'нечестный': 1, 'гадать': 1, 'вслушиваться': 1, 'одобрять': 1, 'мировой': 1, 'поспорить': 1, 'крупно': 1, '314': 1, 'сочинять': 1, 'запевать': 1, 'разладица': 1, 'рассердиться': 1, 'петь': 1, 'бесстыдство': 1, 'взбесить': 1, 'обиняк': 1, 'стихотворство': 1, 'несносно': 1, 'камзол': 1, 'появляться': 1, 'важностия': 1, 'торжественно': 1, '315': 1, 'душегубство': 1, 'веровать': 1, 'формально': 1, 'воинский': 1, 'артикул': 1, 'предоставлять': 1, 'плоть': 1, 'рассаживать': 1, 'налагать': 1, 'эпитимия': 1, 'примирять': 1, 'святой': 1, 'ведомо': 1, '316': 1, 'присматривать': 1, 'притворяться': 1, 'возвратиться': 1, 'подсаживаться': 1, 'нежностия': 1, 'причинять': 1, 'резаться': 1, 'жертвовать': 1, 'зачинщик': 1, 'насмешник': 1, 'странно': 1, 'фамилия': 1, 'венец': 1, 'упорный': 1, 'злоречие': 1, 'взаимный': 1, 'отвлекать': 1, '317': 1, 'злоязычник': 1, 'элегия': 1, 'грызть': 1, 'рифма': 1, 'опуститься': 1, 'искусно': 1, 'monsieur': 1, 'фехтование': 1, 'примести': 1, 'ослабевать': 1, 'наступать': 1, 'загнать': 1, 'сбегать': 1, 'нагорный': 1, 'низко': 1, 'V': 1, 'племя': 1, 'накоплять': 1, 'приданов': 1, 'воспомянуть': 1, 'свечка': 1, 'развивать': 1, 'перевязь': 1, 'стягивать': 1, 'скрыпнуть': 1, 'пошепту': 1, 'наклоняться': 1, '319': 1, 'притворять': 1, 'волноваться': 1, 'заматывать': 1, 'забываться': 1, 'приветствовать': 1, 'обливать': 1, 'отрывать': 1, 'губка': 1, 'жаркий': 1, 'поцелуй': 1, 'отнимать': 1, 'оставить': 1, 'упоение': 1, 'воскрешать': 1, 'существование': 1, 'полковой': 1, 'терпеливый': 1, 'жеманство': 1, '320': 1, 'препятствие': 1, 'матушкин': 1, 'красноречиво': 1, 'доверчивостия': 1, 'магазин': 1, 'раскаиваться': 1, 'хранить': 1, 'неприязненный': 1, 'злопамятный': 1, 'соперник': 1, '321': 1, 'адрес': 1, 'приуготовлять': 1, 'торжественный': 1, 'надпись': 1, 'почерк': 1, 'угадывать': 1, 'содержание': 1, 'иванова': 1, 'го': 1, 'путем': 1, 'носить': 1, 'дуель': 1, 'сорванец': 1, 'возбуждать': 1, 'поскупиться': 1, 'пренебрежение': 1, 'несправедливый': 1, '322': 1, 'переведение': 1, 'огорчать': 1, 'негодовать': 1, 'гроб': 1, 'гром': 1, 'заслонять': 1, 'небесный': 1, 'невзирая': 1, 'утайка': 1, 'потворство': 1, 'поправляться': 1, 'именно': 1, 'залечивать': 1, 'очевидно': 1, 'дослуживаться': 1, 'свинопас': 1, '323': 1, 'тыкаться': 1, 'вертел': 1, 'притопывать': 1, 'тыкание': 1, 'топание': 1, 'уберегаться': 1, 'злой': 1, 'рапортовать': 1, 'теряться': 1, 'разрыв': 1, 'господний': 1, 'гордец': 1, 'обвенчаться': 1, 'покоряться': 1, 'суженая': 1, 'владеть': 1, 'исписывать': 1, 'доносчик': 1, '324': 1, 'помутить': 1, 'писание': 1, 'раб': 1, 'усердно': 1, 'испужать': 1, 'понапрасну': 1, 'испуг': 1, 'слегать': 1, 'здоровая': 1, 'косточка': 1, 'полтора': 1, 'вершок': 1, 'степан': 1, 'парамонов': 1, 'быль': 1, 'холоп': 1, 'савельев': 1, 'достаточный': 1, 'постынуть': 1, 'приучаться': 1, 'пенять': 1, '325': 1, 'неохотно': 1, 'скрытый': 1, 'неприязнь': 1, 'питать': 1, 'одиночество': 1, 'разгораться': 1, 'уединение': 1, 'словесность': 1, 'ударяться': 1, 'распутство': 1, 'благой': 1, 'VI': 1, 'пугачевщина': 1, 'описание': 1, 'обитаемый': 1, 'полудикий': 1, 'владычество': 1, 'поминутный': 1, 'непривычка': 1, 'закон': 1, 'гражданский': 1, 'легкомыслие': 1, 'удержание': 1, 'заселять': 1, 'давнишний': 1, 'обладатель': 1, 'охранять': 1, 'подданный': 1, 'генерал-майор': 1, 'убиение': 1, '327': 1, 'своевольный': 1, 'управление': 1, 'усмирение': 1, 'злобствовать': 1, 'втайне': 1, 'выжидать': 1, 'возобновление': 1, 'беспорядок': 1, 'вой': 1, 'усадить': 1, 'секрет': 1, 'извещать': 1, 'донской': 1, 'раскольник': 1, 'емельян': 1, 'учинить': 1, 'принятие': 1, 'грабеж': 1, 'смертный': 1, 'отражение': 1, 'попечение': 1, '328': 1, 'складывать': 1, 'исправный': 1, 'дозор': 1, 'преждевременно': 1, 'распускать': 1, 'ария': 1, 'предосторожность': 1, 'разнестись': 1, 'уважать': 1, 'искусный': 1, 'выпроваживать': 1, 'подслушивать': 1, 'бодро': 1, 'любопытный': 1, '329': 1, 'хворост': 1, 'валежник': 1, 'просиживать': 1, 'приготавливать': 1, 'запутываться': 1, 'пробормотать': 1, 'нескладный': 1, 'коварство': 1, 'соленый': 1, 'огурец': 1, 'приготовлять': 1, 'обедня': 1, 'тряпичка': 1, 'щепка': 1, 'бабка': 1, 'запихать': 1, 'дамский': 1, 'судия': 1, 'начинающий': 1, 'ответчик': 1, 'отпор': 1, 'съедать': 1, 'проговариваться': 1, 'закусывать': 1, '330': 1, 'корова': 1, 'толки': 1, 'различный': 1, 'разведывать': 1, 'соседний': 1, 'положительный': 1, 'драгун': 1, 'лазутчик': 1, 'крещеный': 1, 'ложный': 1, 'допускать': 1, 'роптать': 1, 'исполнитель': 1, 'крыса': 1, 'арестант': 1, 'единомышленник': 1, 'усиливать': 1, 'возмутительный': 1, 'удалять': 1, 'благовидный': 1, 'прямодушный': 1, '331': 1, 'правдивый': 1, 'единожды': 1, 'покашливать': 1, 'емельяна': 1, 'лихо': 1, 'вытаращивать': 1, 'хитрить': 1, 'полуграмотный': 1, 'увещевать': 1, 'супротивляться': 1, 'угрожать': 1, 'восклицать': 1, 'завладевать': 1, 'охотница': 1, 'розыск': 1, '332': 1, 'укоренять': 1, 'судопроизводство': 1, 'благодетельный': 1, 'указ': 1, 'обличение': 1, 'неосновательный': 1, 'юридический': 1, 'смысл': 1, 'отрицание': 1, 'приематься': 1, 'виновность': 1, 'невольник': 1, 'содрогаться': 1, 'выбривать': 1, 'сгорбить': 1, 'примета': 1, '1741': 1, 'побывать': 1, 'капкан': 1, 'впервой': 1, 'выстрагивать': 1, 'башка': 1, 'бессмыслие': 1, 'бельмес': 1, 'по-вашему': 1, '333': 1, 'якши': 1, 'сымить': 1, 'дурацкий': 1, 'выстрачивать': 1, 'оглядываться': 1, 'зверок': 1, 'замахиваться': 1, 'умоляющий': 1, 'обрубок': 1, 'кроткий': 1, 'царствование': 1, 'просвещение': 1, 'распространение': 1, 'человеколюбие': 1, 'прочный': 1, 'изменение': 1, 'улучшение': 1, 'насильственный': 1, 'задыхаться': 1, 'работник': 1, 'оттуда': 1, 'перевешать': 1, 'проезжать': 1, '334': 1, 'живо': 1, 'издыхание': 1, 'подале': 1, 'чрезвычайный': 1, 'гож': 1, 'сторонка': 1, '335': 1, 'дурно': 1, 'мешаться': 1, 'нарочно': 1, 'желанный': 1, 'рыдать': 1, 'VII': 1, 'послуживый': 1, 'корысть': 1, 'ранг': 1, 'столбик': 1, 'перекладинка': 1, 'кленовый': 1, 'петелька': 1, 'раздеваться': 1, 'заря': 1, 'гораздо': 1, 'грустие': 1, 'нетерпеливый': 1, 'благородный': 1, 'честолюбие': 1, '337': 1, 'наставление': 1, 'рассветать': 1, 'догонять': 1, 'пугач': 1, 'возвышение': 1, 'образованный': 1, 'укреплять': 1, 'расхаживать': 1, 'малочисленный': 1, 'строй': 1, 'близость': 1, 'дальний': 1, 'казалось': 1, 'распознавать': 1, 'колчан': 1, 'обходить': 1, 'бравый': 1, 'присяжный': 1, 'заметать': 1, 'толковать': 1, 'наводить': 1, 'фитиль': 1, 'зажужжать': 1, 'пролететь': 1, 'рассеяться': 1, 'баталья': 1, 'папенька': 1, '338': 1, 'рукоять': 1, 'жаждать': 1, 'полверста': 1, 'усеваться': 1, 'сайдак': 1, 'отделяться': 1, 'опор': 1, 'втыкать': 1, 'стряхивать': 1, 'перекидывать': 1, 'сваливаться': 1, 'оглушать': 1, 'разрывать': 1, 'клочок': 1, 'видимо': 1, 'свистать': 1, 'втыкаться': 1, 'присмиреть': 1, '339': 1, 'перекрещивать': 1, 'трижды': 1, 'досаждать': 1, 'сарафан': 1, 'вослед': 1, 'устремляться': 1, 'бегом': 1, 'подпускать': 1, 'хватить': 1, 'отхлынуть': 1, 'попятиться': 1, 'возобновляться': 1, 'обробелый': 1, 'набегать': 1, 'сшибать': 1, '340': 1, 'дюжий': 1, 'кушак': 1, 'соль': 1, 'пленный': 1, 'погнать': 1, 'обшивать': 1, 'галун': 1, 'соболий': 1, 'кисть': 1, 'надвигать': 1, 'предстоящий': 1, 'ставить': 1, 'разгонять': 1, 'наставать': 1, 'тишина': 1, 'изнемогать': 1, 'изувечивать': 1, 'вздернутый': 1, 'феодорович': 1, 'повисать': 1, 'великодушный': 1, '341': 1, 'среди': 1, 'прегрешение': 1, 'близкие': 1, 'губитель': 1, 'вправду': 1, 'выкуп': 1, 'развязывать': 1, 'смутный': 1, 'жилистый': 1, 'толкать': 1, 'злод': 1, 'тьфу': 1, 'одуревать': 1, 'комедия': 1, 'распятие': 1, 'ротный': 1, 'портной': 1, 'тупой': 1, 'ножницы': 1, 'отряхиваться': 1, 'сопровождение': 1, '342': 1, 'украшать': 1, 'сбруя': 1, 'донага': 1, 'наряжаться': 1, 'перина': 1, 'рухлядь': 1, 'покаяние': 1, 'удалой': 1, 'бой': 1, 'сгинуть': 1, 'каторжник': 1, 'ведьма': 1, 'ступень': 1, 'VIII': 1, 'спрятаться': 1, 'надежно': 1, 'убежище': 1, 'тревожный': 1, 'пусто': 1, 'стул': 1, 'переломать': 1, 'растаскивать': 1, 'взбегать': 1, 'постилать': 1, 'перерыть': 1, 'разламывать': 1, 'ограбить': 1, 'лампадка': 1, 'теплиться': 1, 'опустелый': 1, 'кивот': 1, 'зеркальце': 1, 'простенок': 1, 'смиренный': 1, 'девический': 1, 'келья': 1, 'сжиматься': 1, 'послышаться': 1, 'денек': 1, '344': 1, 'спрятать': 1, 'хохот': 1, 'вызывать': 1, 'стрясаться': 1, 'бедняжка': 1, 'захворать': 1, 'екнуть': 1, 'смочь': 1, 'отдергивать': 1, 'занавес': 1, 'ястребиный': 1, 'вынести': 1, 'мученический': 1, 'праздник': 1, 'остригаться': 1, 'проворный': 1, '345': 1, 'насквозь': 1, 'попойка': 1, 'тесниться': 1, 'сапог': 1, 'повешенный': 1, 'порыв': 1, 'бесполезность': 1, 'заступление': 1, 'грабить': 1, 'пьянствовать': 1, 'выманивать': 1, 'распарывать': 1, 'сходство': 1, 'разительный': 1, 'удостоверяться': 1, 'подивиться': 1, 'сцепление': 1, 'шататься': 1, 'неизменный': 1, 'изготавливать': 1, '346': 1, 'затруднительный': 1, 'защитник': 1, 'знатный': 1, 'скушать': 1, 'жареный': 1, 'поросенок': 1, 'париться': 1, 'жарко': 1, 'тарас': 1, 'курочкин': 1, 'фомка': 1, 'бикбаев': 1, 'откачаться': 1, 'двуглавый': 1, 'величина': 1, 'пятак': 1, 'предугадывать': 1, 'хладнокровный': 1, 'нежно': 1, 'картина': 1, 'установленный': 1, '347': 1, 'цветной': 1, 'рубашка': 1, 'рожа': 1, 'новобраный': 1, 'потесниться': 1, 'красивый': 1, 'наливать': 1, 'сборище': 1, 'облокачиваться': 1, 'подпирать': 1, 'пятьдесят': 1, 'тимофеич': 1, 'величать': 1, 'предпочтение': 1, 'хвастать': 1, 'свободно': 1, 'увенчиваться': 1, 'завтрашний': 1, 'грясти': 1, 'чумаков': 1, 'заунывный': 1, 'бурлацкий': 1, 'хор': 1, 'шуметь': 1, 'мати': 1, 'дубровушка': 1, 'дума': 1, 'думати': 1, 'заутра': 1, 'четверо': 1, 'булатный': 1, '348': 1, 'четвертый': 1, 'тугой': 1, 'лук': 1, 'рассыльщик': 1, 'каленый': 1, 'возговаривать': 1, 'исполать': 1, 'середи': 1, 'хоромы': 1, 'простонародный': 1, 'распевать': 1, 'обреченный': 1, 'пиитический': 1, 'переговаривать': 1, 'обоюдный': 1, 'прищуривать': 1, 'плутовство': 1, 'непритворный': 1, 'струшивать': 1, 'овчинка': 1, 'покачаться': 1, 'уметать': 1, 'таинственный': 1, '349': 1, 'обманщик': 1, 'пыл': 1, 'бесполезный': 1, 'хвастливостия': 1, 'самодовольствие': 1, 'восторжествовать': 1, 'смышленый': 1, 'лукавствовать': 1, 'разумение': 1, 'удалый': 1, 'вера': 1, 'понадобиться': 1, 'искренность': 1, 'ударь': 1, '350': 1, 'дрема': 1, 'клонить': 1, 'морозный': 1, 'светиться': 1, 'запоздалый': 1, 'гуляка': 1, 'ставня': 1, 'горевать': 1, 'кое-что': 1, 'заготавливать': 1, 'христос': 1, 'пазушка': 1, 'аппетит': 1, 'утомленный': 1, 'душевно': 1, 'физически': 1, 'IX': 1, 'сладко': 1, 'спознаваться': 1, 'сборный': 1, 'строиться': 1, 'развеваться': 1, 'походный': 1, 'лафет': 1, 'рогожа': 1, 'мешок': 1, 'медный': 1, 'пригоршня': 1, 'увечье': 1, 'сообщник': 1, '352': 1, 'губернатор': 1, 'любовия': 1, 'послушание': 1, 'подсаживать': 1, 'значительный': 1, 'светлый': 1, 'капральский': 1, 'любопытствовать': 1, 'склад': 1, 'миткалевый': 1, 'сукно': 1, 'суконный': 1, 'двенадцать': 1, 'полотняный': 1, 'голландский': 1, '353': 1, 'вранье': 1, 'крякнуть': 1, 'раскрадывать': 1, 'обмолвиться': 1, 'порастаскать': 1, 'гневеться': 1, 'одеяло': 1, 'ситцевый': 1, 'тафтяной': 1, 'хлопчатый': 1, 'алый': 1, 'ратин': 1, '40': 1, 'сверкнуть': 1, 'выхватить': 1, 'экий': 1, 'кожа': 1, 'сдирать': 1, 'подневольный': 1, 'припадок': 1, 'великодушие': 1, 'отъезжать': 1, '354': 1, 'мудрый': 1, 'сызнова': 1, 'заводиться': 1, 'смешно': 1, 'бред': 1, 'беззащитный': 1, 'терзать': 1, 'облеченный': 1, 'властие': 1, 'торопить': 1, 'возможность': 1, 'содействовать': 1, 'орошать': 1, 'вышед': 1, 'топот': 1, '355': 1, 'привязывать': 1, 'смутиться': 1, 'бренчать': 1, 'уздечка': 1, 'спор': 1, 'растерянный': 1, 'постараться': 1, 'возвратный': 1, 'недаром': 1, 'челобитье': 1, 'долговязый': 1, 'украсть': 1, 'пригождаться': 1, 'лихой': 1, 'шерсть': 1, 'клок': 1, 'х': 1, 'гора': 1, 'стан': 1, 'сооружать': 1, 'раскат': 1, 'перуны': 1, 'нощь': 1, 'привесть': 1, 'колодник': 1, 'обривать': 1, 'работать': 1, 'ров': 1, 'лопатка': 1, 'копать': 1, 'каменщик': 1, 'часовой': 1, 'яблоня': 1, 'помощию': 1, 'садовник': 1, 'укутывать': 1, 'теплый': 1, 'добродушие': 1, 'отрезывать': 1, 'ветвь': 1, 'повесть': 1, '357': 1, 'майстерица': 1, 'солить': 1, 'полагаться': 1, 'замедлять': 1, 'сведение': 1, 'хозяйничать': 1, 'преминуть': 1, 'помниться': 1, 'таможня': 1, 'толстой': 1, 'дополнительный': 1, 'нравоучительный': 1, 'сведущий': 1, 'искусство': 1, 'обнаруживать': 1, 'разнести': 1, 'излагать': 1, 'пространный': 1, 'невыгода': 1, '358': 1, 'младший': 1, 'утвердительно': 1, 'устаивать': 1, 'принятый': 1, 'неблагосклонностия': 1, 'опрометчивость': 1, 'подниматься': 1, 'ропот': 1, 'явственно': 1, 'молокосос': 1, 'собирание': 1, 'допивать': 1, 'разбавлять': 1, 'ром': 1, 'хе-хе': 1, 'допускаться': 1, 'сумма': 1, 'таможенный': 1, 'баран': 1, 'скованный': 1, '359': 1, 'ненадежность': 1, 'прикрытие': 1, 'крепкий': 1, 'испытывать': 1, 'вытряхивать': 1, 'перешептываться': 1, 'струя': 1, 'табачный': 1, 'императорский': 1, 'величество': 1, 'всемилостивый': 1, 'большинство': 1, 'внутри': 1, 'возможный': 1, 'отражать': 1, 'насмешливо': 1, 'наперекор': 1, 'убеждение': 1, 'несведущий': 1, 'неопытный': 1, 'спустя': 1, 'знаменитый': 1, 'вдесятеро': 1, 'увеличиваться': 1, 'покорять': 1, '360': 1, 'долговременный': 1, 'неосторожность': 1, 'местный': 1, 'гибельный': 1, 'дороговизна': 1, 'общий': 1, 'нестерпимый': 1, 'развлечение': 1, 'делиться': 1, 'скудный': 1, 'пища': 1, 'перестреливаться': 1, 'перевес': 1, 'доброконный': 1, 'городовой': 1, 'конница': 1, 'голодный': 1, 'пехота': 1, 'рассеянный': 1, 'тщетно': 1, 'греметь': 1, 'вязнуть': 1, 'изнурение': 1, 'наезжать': 1, '361': 1, 'письмецо': 1, 'бумажка': 1, 'лишать': 1, 'родня': 1, 'застращивать': 1, 'жестоко': 1, 'грозиться': 1, 'одумываться': 1, 'лагерь': 1, 'лизавета': 1, 'харлова': 1, 'выд': 1, 'упрашивать': 1, 'покорный': 1, '362': 1, 'курить': 1, 'пенковый': 1, 'заботливо': 1, 'ручаться': 1, 'стратегический': 1, 'пункт': 1, 'пресекать': 1, 'завлекать': 1, 'превеликий': 1, 'Schelm1': 1, 'плут': 1, '363': 1, 'парапет': 1, 'вне': 1, 'протекция': 1, 'женишок': 1, 'миленький': 1, 'влюбленный': 1, 'экспедиция': 1, 'неблагоразумный': 1, 'романист': 1, 'XI': 1, 'лев': 1, 'вертеп': 1, 'переведываться': 1, 'ровный': 1, 'шарить': 1, 'вязаный': 1, 'кошелек': 1, 'серебро': 1, 'остальное': 1, 'никуда': 1, 'проезд': 1, '365': 1, 'маленько': 1, 'перелавливать': 1, 'тужить': 1, 'совеститься': 1, 'скупиться': 1, 'покупать': 1, 'втридорога': 1, 'дарить': 1, 'пешком': 1, 'полчаса': 1, 'кормить': 1, 'прямой': 1, 'обновлять': 1, 'рысь': 1, 'клячонка': 1, 'долгоногий': 1, 'пир': 1, 'погубить': 1, 'естественный': 1, 'моление': 1, 'объехать': 1, 'передовой': 1, '366': 1, 'окликать': 1, 'пароль': 1, 'проехать': 1, 'удостовериться': 1, 'задерживать': 1, 'поворотить': 1, 'перекресток': 1, 'винный': 1, 'бочка': 1, 'сальный': 1, 'свеча': 1, '367': 1, 'оклеивать': 1, 'рукомойник': 1, 'веревочка': 1, 'полотенце': 1, 'гвоздь': 1, 'ухват': 1, 'шесток': 1, 'уставлять': 1, 'горшок': 1, 'пробуждать': 1, 'поддельный': 1, 'наперсник': 1, 'тщедушный': 1, 'бородка': 1, 'ввек': 1, 'дородный': 1, 'красноватый': 1, 'пятно': 1, 'афанасий': 1, 'соколов': 1, 'прозывать': 1, 'ссыльный': 1, 'рудник': 1, 'развлекать': 1, '368': 1, 'провидение': 1, 'действо': 1, 'пядень': 1, 'неволя': 1, 'своевольничать': 1, 'молвить': 1, 'хриплый': 1, 'поторопиться': 1, 'торопиться': 1, 'сказнить': 1, 'худо': 1, 'управа': 1, 'сегодняшний': 1, 'супостат': 1, 'запаливать': 1, 'огонек': 1, 'логика': 1, 'ась': 1, 'подмигивать': 1, '369': 1, 'поступать': 1, 'мереть': 1, 'беглец': 1, 'мор': 1, 'вдоволь': 1, 'завидно': 1, 'противоречить': 1, 'наумыч': 1, 'душить': 1, 'богатырь': 1, 'угодник': 1, 'жалость': 1, 'сжинать': 1, 'костливый': 1, 'засучий': 1, 'рукав': 1, 'косматый': 1, 'проливать': 1, 'супротивник': 1, 'перепутье': 1, 'кистень': 1, 'бородишка': 1, '370': 1, 'дрыгать': 1, 'меж': 1, 'перегрызться': 1, 'невыгодный': 1, 'уловка': 1, 'развеселяться': 1, 'платеж': 1, 'мигать': 1, 'прищуриваться': 1, 'зазноба': 1, 'женить': 1, 'казачок': 1, 'уха': 1, 'пиво': 1, 'оргия': 1, 'хмель': 1, 'взаперти': 1, '371': 1, 'улечься': 1, 'стоя': 1, 'править': 1, 'забиваться': 1, 'мошна': 1, 'призрить': 1, 'рассердить': 1, 'расслыхать': 1, 'пренебрегать': 1, 'намек': 1, 'помчаться': 1, '372': 1, 'стечение': 1, 'таинственно': 1, 'связанный': 1, 'вспоминать': 1, 'опрометчивый': 1, 'кровожадный': 1, 'озлоблять': 1, 'проведывать': 1, 'статься': 1, 'холод': 1, 'пробегать': 1, 'дыбом': 1, 'пытать': 1, 'понижать': 1, 'кровопийца': 1, 'слаживать': 1, 'трудновато': 1, 'воевать': 1, 'сражение': 1, '373': 1, 'юзеева': 1, 'полон': 1, 'король': 1, 'потягаться': 1, 'хвастливость': 1, 'фридерик': 1, 'федор': 1, 'бивать': 1, 'срок': 1, 'востро': 1, 'неудача': 1, 'выкупать': 1, 'помилование': 1, 'поцарствовать': 1, 'выбрасывать': 1, 'зарезать': 1, 'сжигать': 1, 'дикий': 1, 'вдохновение': 1, 'ребячество': 1, 'калмычка': 1, 'птица': 1, 'палый': 1, 'спускаться': 1, 'похваливать': 1, '374': 1, 'падаль': 1, 'напиваться': 1, 'калмыцкий': 1, 'погрузиться': 1, 'зимний': 1, 'колокольня': 1, 'XII': 1, 'яблонька': 1, 'верхушка': 1, 'отросточек': 1, 'княгинюшка': 1, 'нету': 1, 'свадебный': 1, 'отращивать': 1, 'вылезать': 1, 'оправляться': 1, 'заныть': 1, 'эпитафия': 1, 'ворчание': 1, 'попотчевать': 1, 'поднос': 1, '376': 1, 'трусить': 1, 'неприятельский': 1, 'неожиданно': 1, 'властный': 1, 'женатый': 1, 'готовясти': 1, 'ломаться': 1, 'прерываться': 1, 'бредить': 1, 'толкнуть': 1, 'отскочить': 1, 'оборвать': 1, 'кувшин': 1, 'ломоть': 1, '377': 1, 'лазарет': 1, 'провиниться': 1, 'гнев': 1, 'омерзение': 1, 'смягчаться': 1, 'припоминаться': 1, 'даровать': 1, 'втираться': 1, 'трое': 1, 'обвенчать': 1, 'дружка': 1, 'закутить': 1, 'запивать': 1, 'опасаться': 1, 'солгать': 1, '378': 1, 'омрачаться': 1, 'рассуживать': 1, 'загрызать': 1, 'заплатить': 1, 'противно': 1, 'довершать': 1, 'суровый': 1, 'красавица': 1, 'остолбенелый': 1, 'назваться': 1, 'переодеваться': 1, '379': 1, 'выбегать': 1, 'натерпеться': 1, 'укокошить': 1, 'несть': 1, 'глаголание': 1, 'видаться': 1, 'угощать': 1, 'бойкий': 1, 'плясать': 1, 'дудка': 1, 'промчать': 1, 'гусь': 1, 'по-прежнему': 1, 'мило': 1, 'вымолвить': 1, 'полнота': 1, 'наговориться': 1, 'испытание': 1, '380': 1, 'управляемый': 1, 'неблагорасположение': 1, 'вменять': 1, 'обязанность': 1, 'заслуженный': 1, 'погибать': 1, 'неразрывный': 1, 'отговорка': 1, 'иначе': 1, 'горячо': 1, 'подписывать': 1, 'каракулек': 1, 'изверг': 1, 'сочувствие': 1, 'влечь': 1, 'пламенно': 1, 'среда': 1, 'высказывать': 1, 'погрозить': 1, 'палец': 1, 'бердо': 1, 'высовываться': 1, '381': 1, 'похоронить': 1, 'забираться': 1, 'сокол': 1, 'стоящий': 1, 'навек': 1, 'XIII': 1, 'мучительно': 1, 'сновидение': 1, 'задумчивостия': 1, 'утомлять': 1, 'неприметный': 1, 'скорость': 1, 'каковой': 1, 'брадатый': 1, 'болтливость': 1, 'временщик': 1, 'бородатый': 1, '383': 1, 'усастый': 1, 'поговаривать': 1, 'полымя': 1, 'банк': 1, 'обыгрывать': 1, 'возможно': 1, 'здорово': 1, 'карточка': 1, '384': 1, 'подцеплять': 1, 'эге': 1, 'засвистать': 1, 'захохотать': 1, 'перепугать': 1, 'недоразумение': 1, 'вдвоем': 1, 'похождение': 1, 'нехорошо': 1, 'женитьба': 1, 'возиться': 1, 'нянчиться': 1, 'развязываться': 1, 'безопасный': 1, 'незачем': 1, 'вряд': 1, 'отделываться': 1, '385': 1, 'вознамериваться': 1, 'искренностия': 1, 'прислуга': 1, 'нуждаться': 1, 'ходатай': 1, 'раненько': 1, 'задумывать': 1, 'взволновать': 1, 'разбалтываться': 1, 'охотно': 1, 'бессвязный': 1, 'присвистывать': 1, '386': 1, 'увидаться': 1, 'грустный': 1, 'молчаливый': 1, 'развеселять': 1, 'шумно': 1, 'буйно': 1, 'затруднять': 1, 'дружный': 1, 'содействие': 1, 'гнездо': 1, 'голицын': 1, 'татищева': 1, 'разбивать': 1, 'рассеиваться': 1, 'увидать': 1, 'весна': 1, 'речка': 1, 'разливаться': 1, 'непроходимый': 1, 'прекращение': 1, 'скучный': 1, 'мелочный': 1, 'дикарь': 1, 'завод': 1, 'распространяться': 1, 'разорение': 1, 'беспечно': 1, 'презренный': 1, '387': 1, 'Волгу1': 1, 'короче': 1, 'прыгать': 1, 'несдобровать': 1, 'отравлять': 1, 'обрызгивать': 1, 'кровие': 1, 'подвертываться': 1, 'неразлучный': 1, 'марь': 1, 'гроза': 1, 'отбрасывать': 1, '411': 1, 'выезд': 1, 'денщик': 1, 'неприятность': 1, 'арестовывать': 1, 'следственный': 1, 'выпадать': 1, 'унывать': 1, 'отсрочивать': 1, 'сладкий': 1, 'XIV': 1, 'мирской': 1, 'морской': 1, 'самовольный': 1, 'обвинять': 1, 'излишний': 1, 'запальчивость': 1, 'приятельский': 1, 'подозрительный': 1, 'размышлять': 1, 'опустошенный': 1, 'погорелый': 1, 'наместо': 1, 'груда': 1, 'уголь': 1, 'закоптелый': 1, 'крыша': 1, 'сгорать': 1, 'сдавать': 1, 'кузнец': 1, 'заковывать': 1, 'наглухо': 1, 'конурка': 1, '390': 1, 'окошечко': 1, 'загораживать': 1, 'решетка': 1, 'скорбеть': 1, 'впервые': 1, 'вкушать': 1, 'сладость': 1, 'излиянна': 1, 'растерзанный': 1, 'тюремный': 1, 'сторож': 1, 'зала': 1, 'пожилой': 1, 'осьмить': 1, 'ловкий': 1, 'обращение': 1, 'особый': 1, 'наклонясь': 1, 'звание': 1, 'тяготеть': 1, 'уверенность': 1, 'вострый': 1, 'допросчик': 1, 'злодейски': 1, 'умертвлять': 1, '391': 1, 'дружба': 1, 'посовеститься': 1, 'ссылаться': 1, 'якобы': 1, 'недозволенный': 1, '24': 1, 'отлучаться': 1, 'перебежчик': 1, 'ездить': 1, 'непреодолимый': 1, 'впутывать': 1, 'извет': 1, 'заминаться': 1, 'спутываться': 1, 'благосклонностия': 1, '392': 1, 'предубеждать': 1, 'доноситель': 1, 'обвинитель': 1, 'смоль': 1, 'поседеть': 1, 'всклокочивать': 1, 'смелый': 1, 'передавать': 1, 'письменный': 1, 'явно': 1, 'передаваться': 1, 'награда': 1, 'страдать': 1, 'таиться': 1, 'искра': 1, 'утверждаться': 1, 'опровергать': 1, 'опережать': 1, 'подробность': 1, 'врезаться': 1, 'невидимый': 1, '393': 1, 'радушие': 1, 'отличать': 1, 'благодать': 1, 'приютить': 1, 'цель': 1, 'ниспровержение': 1, 'престол': 1, 'дворянский': 1, 'емелька': 1, 'клясться': 1, 'слыхивать': 1, 'степень': 1, 'одарять': 1, 'скромностия': 1, 'основательный': 1, 'примерный': 1, 'заслуга': 1, 'преклонный': 1, 'лета': 1, 'позорный': 1, 'сибирь': 1, 'вечный': 1, 'поселение': 1, 'твердость': 1, 'изливаться': 1, 'жалоба': 1, 'праведный': 1, '394': 1, 'пращур': 1, 'лобный': 1, 'отстаивать': 1, 'святыня': 1, 'пострадать': 1, 'волынский': 1, 'хрущев': 1, 'холопья': 1, 'стыд': 1, 'срам': 1, 'испугать': 1, 'шаткость': 1, 'мучиться': 1, 'виновница': 1, 'страдание': 1, 'перевертывать': 1, 'шерстяной': 1, 'фуфайка': 1, 'капать': 1, 'огорчаться': 1, 'покровительство': 1, 'пострадавший': 1, 'верность': 1, 'преступление': 1, 'помеха': 1, 'ошельмовывать': 1, '395': 1, 'насильственно': 1, 'нареченный': 1, 'прибывать': 1, 'софия': 1, 'почтовый': 1, 'уголок': 1, 'смотритель': 1, 'истопник': 1, 'посвящать': 1, 'таинство': 1, 'кофей': 1, 'прогуливаться': 1, 'вельможа': 1, 'страница': 1, 'исторический': 1, 'драгоценный': 1, 'мостик': 1, 'нагуляться': 1, 'липа': 1, 'пожелтеть': 1, 'озеро': 1, 'неподвижно': 1, 'лебедь': 1, 'выплывать': 1, 'куст': 1, 'осенять': 1, 'недавний': 1, 'александрович': 1, 'румянцев': 1, 'собачка': 1, 'английский': 1, 'залаять': 1, 'укусить': 1, 'косвенный': 1, '396': 1, 'чепец': 1, 'прелесть': 1, 'несправедливость': 1, 'обида': 1, 'правосудие': 1, 'неизвестный': 1, 'внушать': 1, 'покровительница': 1, 'внимательный': 1, '397': 1, 'невежество': 1, 'легковерие': 1, 'безнравственный': 1, 'негодяй': 1, 'вскрикивать': 1, 'подвергаться': 1, 'запутывать': 1, 'ранний': 1, 'бесконечный': 1, 'предостерегать': 1, 'повивальный': 1, 'желтый': 1, 'роброн': 1, '398': 1, 'настежь': 1, 'ряд': 1, 'великолепный': 1, 'уборная': 1, 'туалет': 1, 'откровенно': 1, 'потрудиться': 1, 'свекор': 1, 'устраивать': 1, 'беспамятство': 1, 'провинциальный': 1, 'полюбопытствовать': 1, 'обратно': 1, '399': 1, 'прекращаться': 1, 'предание': 1, '1774': 1, 'именной': 1, 'благоденствовать': 1, 'десятеро': 1, 'флигель': 1, 'собственноручный': 1, 'екатерина': 1, 'внук': 1, 'дед': 1, 'разрешение': 1, 'издавать': 1, 'особо': 1, 'приискивать': 1, 'приличный': 1, 'эпиграф': 1, '19': 1, 'окт': 1, '1836': 1, 'издатель': 1, 'приложение': 1, 'взбунтоваться': 1, 'перевозчик': 1, 'рыболов': 1, 'беречься': 1, 'опасно': 1, '50': 1, 'гусаров': 1, 'отчаливать': 1, 'весло': 1, 'плавно': 1, 'мечта': 1, 'получас': 1, 'шептаться': 1, 'включать': 1, 'окончательный': 1, 'редакция': 1, 'текст': 1, 'именоваться': 1, 'смотря': 1, 'направление': 1, 'призрак': 1, 'неясно': 1, 'зрелище': 1, 'болезненный': 1, 'висельник': 1, 'зацеплять': 1, 'толкнуться': 1, 'яркий': 1, 'чуваш': 1, '20': 1, 'ти': 1, 'восклицание': 1, 'глупость': 1, 'прибивать': 1, 'доска': 1, 'буква': 1, 'равнодушно': 1, 'поплыть': 1, 'причаливать': 1, 'щедро': 1, 'грубо': 1, 'суровость': 1, 'остановлена': 1, '402': 1, 'противудействие': 1, 'еловый': 1, 'роща': 1, 'мчаться': 1, 'остановя': 1, 'разъяренный': 1, 'караулить': 1, 'почесываться': 1, 'замирание': 1, 'андрюха': 1, 'колодки': 1, 'отворачивать': 1, 'треснуть': 1, 'отодвигать': 1, 'попытаться': 1, 'сбивать': 1, 'выламывать': 1, 'дубовый': 1, 'огромный': 1, 'несокрушимый': 1, 'надменный': 1, '403': 1, 'афанасьевич': 1, 'отеческий': 1, 'потолок': 1, 'заливаться': 1, 'разрезать': 1, 'выбираться': 1, 'трудиться': 1, 'таковский': 1, 'лазейка': 1, '404': 1, 'проказить': 1, 'перебеситься': 1, 'честной': 1, 'обязанный': 1, 'вдвое': 1, 'приятно': 1, 'полдень': 1, 'необычайный': 1, 'умножаться': 1, 'набат': 1, 'просовываться': 1, 'нелегкий': 1, 'побрать': 1, 'ненавистный': 1, 'всплескивать': 1, 'неподвижный': 1, 'кто-нибудь': 1, 'прислоняться': 1, 'взводить': 1, 'курок': 1, 'заграждать': 1, 'вход': 1, '405': 1, 'заряд': 1, 'изрубать': 1, 'смельчак': 1, 'соваться': 1, 'по-пустому': 1, 'поджигать': 1, 'дон': 1, 'кишот': 1, 'досуг': 1, 'потемки': 1, 'учинять': 1, 'озлобленный': 1, 'обожать': 1, 'строгость': 1, 'справедливый': 1, 'истинный': 1, 'заблуждение': 1, 'мгновенный': 1, 'пьянство': 1, 'изъявление': 1, 'вероятный': 1, 'развратный': 1, '406': 1, 'умерщвлять': 1, 'завидовать': 1, 'досадовать': 1, 'ругаться': 1, 'стращать': 1, 'истязание': 1, 'смертие': 1, 'отдаваться': 1, 'добровольно': 1, 'пробиваться': 1, 'щель': 1, 'бесчестие': 1, 'переживать': 1, 'призревать': 1, 'сиротство': 1, 'сумасшедший': 1, 'изжарить': 1, 'морщина': 1, 'оживлять': 1, 'бровь': 1, '407': 1, 'взвиваться': 1, 'бревно': 1, 'законопачивать': 1, 'мох': 1, 'пылать': 1, 'прострелить': 1, 'ободряться': 1, 'угождать': 1, 'трава': 1, 'поддерживать': 1, 'мучение': 1, 'невнятный': 1, 'разбегаться': 1, 'эскадрон': 1, 'утекать': 1, 'рубить': 1, 'хватать': 1, 'соскакивать': 1, 'кстати': 1, 'тронутый': 1, 'гордость': 1, 'отомщать': 1, '408': 1, 'перевязывать': 1, 'зеница': 1, 'казанский': 1, 'томный': 1, 'физический': 1, 'мука': 1, 'плащ': 1, 'младенческий': 1, 'бесчестный': 1, 'корыстолюбие': 1, 'радоваться': 1, 'тревога': 1, 'конюшня': 1, 'оседлывать': 1, 'суматоха': 1, 'сю': 1, 'скомандовать': 1, 'галоп': 1, 'вовремя': 1, 'выставлять': 1, 'шест': 1, 'достопамятный': 1, 'отдых': 1, 'минувший': 1, 'разливать': 1, 'благосклонно': 1, 'отношение': 1, 'воспоминание': 1, '409': 1, 'меч': 1, 'сечь': 1, 'ведро': 1, 'дурачье': 1, 'наряжать': 1, 'поголовно': 1, 'сенокос': 1, 'ильин': 1, 'копна': 1, 'барщина': 1, 'смертельный': 1, 'влюбляться': 1, 'распроститься': 1, '410': 1, 'супруг': 1, 'сельский': 1, 'миноваться': 1, 'чуять': 1, 'всюду': 1, 'астрахань': 1, 'безвинный': 1, 'невозможный': 1, 'переворот': 1, 'полушка': 1, 'шейка': 1, 'омрачать': 1, 'воспроизводиться': 1, 'издание': 1, 'собрание': 1, 'м': 1, 'гихла': 1, '1959': 1, '1962': 1, '4': 1, 'евгений': 1, 'онегин': 1, 'драматический': 1, '©': 1, 'электронный': 1, 'публикация': 1, '2000': 1, '2017': 1, 'версия': 1, '5.0': 1, 'декабрь': 1, '2016': 1})\n"
     ]
    }
   ],
   "source": [
    "print(newcounts)"
   ]
  },
  {
   "cell_type": "code",
   "execution_count": 22,
   "metadata": {},
   "outputs": [
    {
     "name": "stdout",
     "output_type": "stream",
     "text": [
      "[('пугачев', 148), ('марья', 137), ('ивановна', 136), ('савельич', 111), ('крепость', 96), ('иван', 95), ('становиться', 94), ('бог', 89), ('батюшка', 88), ('человек', 82), ('-', 80), ('швабрин', 80), ('рука', 74), ('комендант', 73), ('петр', 67), ('ваш', 65), ('знать', 61), ('увидеть', 60), ('минута', 60), ('спрашивать', 59), ('дело', 58), ('отец', 56), ('кузмич', 56), ('слово', 55), ('твой', 54), ('андреич', 53), ('матушка', 51), ('давать', 50), ('другой', 48), ('время', 44), ('какой', 43), ('самый', 43), ('день', 43), ('стоять', 43), ('василиса', 43), ('егоровна', 43), ('год', 42), ('пойти', 42), ('узнавать', 42), ('голова', 42), ('выходить', 41), ('лошадь', 41), ('казак', 39), ('злодей', 39), ('ничто', 37), ('дорога', 37), ('вид', 37), ('голос', 37), ('взять', 37), ('дверь', 36), ('глаз', 36), ('час', 36), ('входить', 35), ('лицо', 35), ('сторона', 35), ('оставаться', 35), ('бедный', 34), ('письмо', 34), ('останавливаться', 34), ('добрый', 33), ('ехать', 33), ('оренбург', 33), ('старик', 33), ('старый', 33), ('государь', 33), ('зурин', 32), ('велеть', 32), ('сидеть', 32), ('казаться', 32), ('игнатьич', 32), ('дом', 32), ('генерал', 31), ('мысль', 31), ('офицер', 31), ('изволить', 31), ('находиться', 31), ('взглядывать', 31), ('маша', 31), ('служба', 30), ('швабрина', 30), ('садиться', 29), ('отправляться', 29), ('смотреть', 28), ('оставлять', 28), ('просить', 28), ('приводить', 27), ('белогорский', 27), ('сердце', 27), ('самозванец', 27), ('объявлять', 26), ('родитель', 26), ('два', 26), ('благородие', 26), ('молодой', 26), ('иметь', 25), ('подавать', 25), ('начинать', 24), ('ожидать', 24), ('прощать', 24), ('приказывать', 24)]\n"
     ]
    }
   ],
   "source": [
    "# Самые частотные слова\n",
    "print(newcounts.most_common(100))"
   ]
  },
  {
   "cell_type": "code",
   "execution_count": 39,
   "metadata": {},
   "outputs": [
    {
     "name": "stdout",
     "output_type": "stream",
     "text": [
      "[('я', 1477), ('и', 1307), ('в', 771), ('он', 637), ('не', 634), ('быть', 506), ('что', 504), ('на', 477), ('с', 456), ('ты', 346), ('мой', 337), ('она', 286), ('мы', 254), ('сказать', 253), ('к', 240), ('а', 236), ('за', 203), ('свой', 194), ('как', 186), ('то', 153), ('они', 148), ('пугачев', 147), ('но', 144), ('по', 141), ('который', 140), ('у', 138), ('его', 136), ('марья', 136), ('ивановна', 136), ('вы', 135), ('да', 134), ('из', 132), ('от', 129), ('о', 118), ('отвечать', 118), ('савельич', 111), ('себя', 108), ('весь', 107), ('мочь', 103), ('это', 103), ('так', 98), ('же', 96), ('крепость', 96), ('наш', 94), ('становиться', 94), ('иван', 94), ('все', 91), ('ли', 90), ('бог', 89), ('один', 88), ('ни', 88), ('батюшка', 87), ('этот', 83), ('человек', 82), ('швабрин', 80), ('еще', 74), ('рука', 74), ('комендант', 73), ('бы', 72), ('петр', 67), ('ваш', 65), ('тот', 62), ('со', 62), ('знать', 61), ('увидеть', 60), ('минута', 60), ('дело', 58), ('спрашивать', 58), ('несколько', 57), ('отец', 56), ('кузмич', 56), ('слово', 55), ('твой', 54), ('андреич', 53), ('под', 52), ('говорить', 52), ('давать', 50), ('матушка', 49), ('хотеть', 49), ('ее', 49), ('другой', 48), ('где', 47), ('во', 47), ('до', 47), ('кто', 46), ('видеть', 45), ('при', 44), ('время', 44), ('такой', 44), ('какой', 43), ('самый', 43), ('день', 43), ('стоять', 43), ('егоровна', 43), ('год', 42), ('пойти', 42), ('узнавать', 42), ('голова', 42), ('василиса', 42), ('выходить', 41)]\n"
     ]
    }
   ],
   "source": [
    "print(counts.most_common(100))"
   ]
  },
  {
   "cell_type": "code",
   "execution_count": 28,
   "metadata": {},
   "outputs": [],
   "source": [
    "lemtext = text_lemma.split() # СПИСОК ЛЕММ ЧИСТЫЙ ПО ПРОБЕЛАМ со стоп словами"
   ]
  },
  {
   "cell_type": "code",
   "execution_count": 31,
   "metadata": {},
   "outputs": [
    {
     "name": "stdout",
     "output_type": "stream",
     "text": [
      "[(('марья', 'ивановна'), 133), (('я', 'не'), 77), (('сказать', 'он'), 64), (('не', 'мочь'), 57), (('иван', 'кузмич'), 56), (('петр', 'андреич'), 53), (('я', 'с'), 51), (('я', 'в'), 49), (('и', 'не'), 44), (('сказать', 'я'), 42), (('василиса', 'егоровна'), 42), (('я', 'быть'), 38), (('и', 'с'), 37), (('что', 'я'), 37), (('ко', 'я'), 33), (('что', 'ты'), 33), (('в', 'этот'), 31), (('я', 'и'), 31), (('и', 'я'), 31), (('иван', 'игнатьич'), 31), (('не', 'быть'), 30), (('и', 'в'), 30), (('на', 'я'), 29), (('я', 'он'), 28), (('он', 'я'), 28), (('и', 'сказать'), 28), (('со', 'я'), 27), (('отвечать', 'я'), 26), (('он', 'быть'), 23), (('взглядывать', 'на'), 23), (('белогорский', 'крепость'), 23), (('этот', 'минута'), 22), (('у', 'я'), 21), (('с', 'он'), 21), (('то', 'что'), 21), (('спрашивать', 'я'), 21), (('сказать', 'она'), 21), (('а', 'я'), 20), (('в', 'оренбург'), 20), (('что', 'это'), 20), (('ваш', 'благородие'), 20), (('в', 'тот'), 19), (('слава', 'бог'), 19), (('он', 'с'), 19), (('на', 'другой'), 19), (('ничто', 'не'), 19), (('и', 'что'), 19), (('один', 'из'), 19), (('он', 'в'), 18), (('но', 'я'), 18)]\n"
     ]
    }
   ],
   "source": [
    "# Делаем биграммы из списка СО стоп-словами\n",
    "bigrams = []\n",
    "for i in range(len(lemtext)-1):\n",
    "    bigram = (lemtext[i], lemtext[i+1])\n",
    "    bigrams.append(bigram)\n",
    "    \n",
    "bigram_counts = Counter(bigrams)\n",
    "print(bigram_counts.most_common(50))"
   ]
  },
  {
   "cell_type": "markdown",
   "metadata": {},
   "source": [
    "Посчитать количество слов (униграмм) в тексте. Посчитать, сколько слов имеют частоту < 6 и какой это процент от общего числа слов. Напечатать 10 слов с частотой 1, 10 слов с частотой 2 -- и так до частоты 5, а затем выбросить все низкочастотные слова (с частотой меньше 6). Сохранить получившийся после всех этих манипуляций (лемматизация + удаление стоп-слов + удаление низкочастотного хвоста) в новый файл."
   ]
  },
  {
   "cell_type": "code",
   "execution_count": 38,
   "metadata": {},
   "outputs": [
    {
     "name": "stdout",
     "output_type": "stream",
     "text": [
      "4377\n"
     ]
    }
   ],
   "source": [
    "i = 0\n",
    "for v in counts.values():\n",
    "    if v < 6:\n",
    "        i += 1\n",
    "        \n",
    "print(i)"
   ]
  },
  {
   "cell_type": "markdown",
   "metadata": {},
   "source": [
    "Считаем, сколько процентов это количество от общего числа"
   ]
  },
  {
   "cell_type": "code",
   "execution_count": 40,
   "metadata": {},
   "outputs": [
    {
     "name": "stdout",
     "output_type": "stream",
     "text": [
      "13.292234808223755\n"
     ]
    }
   ],
   "source": [
    "percent = i / len(lemtext) * 100\n",
    "print(percent)"
   ]
  },
  {
   "cell_type": "code",
   "execution_count": 41,
   "metadata": {},
   "outputs": [
    {
     "data": {
      "text/plain": [
       "32929"
      ]
     },
     "execution_count": 41,
     "metadata": {},
     "output_type": "execute_result"
    }
   ],
   "source": [
    "len(lemtext)"
   ]
  },
  {
   "cell_type": "markdown",
   "metadata": {},
   "source": [
    "Напечатать 10 слов с частотой 1, 10 слов с частотой 2 -- и так до частоты 5, а затем выбросить все низкочастотные слова (с частотой меньше 6)."
   ]
  },
  {
   "cell_type": "code",
   "execution_count": 46,
   "metadata": {},
   "outputs": [
    {
     "data": {
      "text/plain": [
       "['графа',\n",
       " 'миних',\n",
       " 'отставка',\n",
       " 'премьер-майор',\n",
       " '17',\n",
       " 'ю',\n",
       " 'девять',\n",
       " 'сестра',\n",
       " 'младенчество',\n",
       " 'брюхатый']"
      ]
     },
     "execution_count": 46,
     "metadata": {},
     "output_type": "execute_result"
    }
   ],
   "source": [
    "# Делаем список слов у которых частота равна 1\n",
    "one = [k for k in counts.keys() if counts[k] == 1]\n",
    "one[10:20] # выводим 10 слов"
   ]
  },
  {
   "cell_type": "code",
   "execution_count": 47,
   "metadata": {},
   "outputs": [
    {
     "data": {
      "text/plain": [
       "['судить',\n",
       " 'кобель',\n",
       " 'запас',\n",
       " 'беспутный',\n",
       " 'слабостия',\n",
       " 'подаваться',\n",
       " 'настойка',\n",
       " 'полезный',\n",
       " 'поладить',\n",
       " 'по-французски']"
      ]
     },
     "execution_count": 47,
     "metadata": {},
     "output_type": "execute_result"
    }
   ],
   "source": [
    "# Делаем список слов у которых частота равна 2\n",
    "two = [k for k in counts.keys() if counts[k] == 2]\n",
    "two[10:20] # выводим 10 слов"
   ]
  },
  {
   "cell_type": "code",
   "execution_count": 48,
   "metadata": {},
   "outputs": [
    {
     "data": {
      "text/plain": [
       "['приезд',\n",
       " 'понравиться',\n",
       " 'ворчать',\n",
       " 'тратить',\n",
       " 'крайность',\n",
       " 'страсть',\n",
       " 'враг',\n",
       " 'по-русски',\n",
       " 'разлучать',\n",
       " 'преступный']"
      ]
     },
     "execution_count": 48,
     "metadata": {},
     "output_type": "execute_result"
    }
   ],
   "source": [
    "# Делаем список слов у которых частота равна 3\n",
    "three = [k for k in counts.keys() if counts[k] == 3]\n",
    "three[10:20] # выводим 10 слов"
   ]
  },
  {
   "cell_type": "code",
   "execution_count": 49,
   "metadata": {},
   "outputs": [
    {
     "data": {
      "text/plain": [
       "['нежность',\n",
       " 'сутки',\n",
       " 'обед',\n",
       " 'учитель',\n",
       " 'предпочитать',\n",
       " 'пример',\n",
       " 'учить',\n",
       " 'кое-как',\n",
       " 'заниматься',\n",
       " 'короткий']"
      ]
     },
     "execution_count": 49,
     "metadata": {},
     "output_type": "execute_result"
    }
   ],
   "source": [
    "# Делаем список слов у которых частота равна 4\n",
    "four = [k for k in counts.keys() if counts[k] == 4]\n",
    "four[10:20] # выводим 10 слов"
   ]
  },
  {
   "cell_type": "code",
   "execution_count": 50,
   "metadata": {},
   "outputs": [
    {
     "data": {
      "text/plain": [
       "['кинуться',\n",
       " 'приниматься',\n",
       " 'ворот',\n",
       " 'календарь',\n",
       " 'чтение',\n",
       " 'волнение',\n",
       " 'обычай',\n",
       " 'бывало',\n",
       " 'вполголоса',\n",
       " 'скорый']"
      ]
     },
     "execution_count": 50,
     "metadata": {},
     "output_type": "execute_result"
    }
   ],
   "source": [
    "# Делаем список слов у которых частота равна 5\n",
    "five = [k for k in counts.keys() if counts[k] == 5]\n",
    "five[10:20] # выводим 10 слов"
   ]
  },
  {
   "cell_type": "markdown",
   "metadata": {},
   "source": [
    "а затем выбросить все низкочастотные слова (с частотой меньше 6).  \n",
    "Создаём новый список, для каждого слова, которое встречается, мы смотрим его в словаре counts по индексу l. Если частотность больше 6, то добавляем его в список. Потом выводим первые 10 слов чисто чтоб почекать."
   ]
  },
  {
   "cell_type": "code",
   "execution_count": 51,
   "metadata": {},
   "outputs": [
    {
     "data": {
      "text/plain": [
       "['в', 'в', 'в', 'а', 'с', 'в', 'капитанский', 'дочка', 'капитанский', 'дочка']"
      ]
     },
     "execution_count": 51,
     "metadata": {},
     "output_type": "execute_result"
    }
   ],
   "source": [
    "frequent_lemmas = []\n",
    "for l in lemtext:\n",
    "    if counts[l] > 6:\n",
    "        frequent_lemmas.append(l)\n",
    "        \n",
    "frequent_lemmas[:10]"
   ]
  },
  {
   "cell_type": "code",
   "execution_count": 53,
   "metadata": {},
   "outputs": [
    {
     "data": {
      "text/plain": [
       "['в', 'в', 'в', 'а', 'с', 'в', 'капитанский', 'дочка', 'капитанский', 'дочка']"
      ]
     },
     "execution_count": 53,
     "metadata": {},
     "output_type": "execute_result"
    }
   ],
   "source": [
    "# То же самое, только с генератором списка. \n",
    "freq_lemmas = [l for l in lemtext if counts[l] > 6]\n",
    "freq_lemmas[:10]"
   ]
  },
  {
   "cell_type": "markdown",
   "metadata": {},
   "source": [
    "### Морфологический разбор"
   ]
  },
  {
   "cell_type": "code",
   "execution_count": 57,
   "metadata": {},
   "outputs": [
    {
     "data": {
      "text/plain": [
       "[{'analysis': [{'lex': 'морфологический',\n",
       "    'wt': 1,\n",
       "    'gr': 'A=(вин,ед,полн,муж,од|род,ед,полн,муж|род,ед,полн,сред)'}],\n",
       "  'text': 'морфологического'},\n",
       " {'text': '\\n'}]"
      ]
     },
     "execution_count": 57,
     "metadata": {},
     "output_type": "execute_result"
    }
   ],
   "source": [
    "m.analyze('морфологического')"
   ]
  },
  {
   "cell_type": "markdown",
   "metadata": {},
   "source": [
    "в словаре два ключа «анализ» и «текст». В анализе лежит список разборов. Здесь только один разбор. В списке ещё один словарь, где есть ключи грамматика, лемма и вероятность.   \n",
    "Результат анализа закидываем в переменную. Берем элемент первый, берем значение по ключу анализ, и берём номер элемента где грамматика  \n",
    "Во вторых скобках всегда ноль, потому что в анализе только одно значение   \n",
    "В первых скобках номер элемента из списка, причем пробелы тоже считаются но у них нет леммы и анализа, только текст. Всё, что между словами считается за один элемент например (, ). Через дефис он тоже не понимает.  \n",
    "Кидать туда можно только строки, как и в лемматайз.  "
   ]
  },
  {
   "cell_type": "code",
   "execution_count": 60,
   "metadata": {},
   "outputs": [
    {
     "name": "stdout",
     "output_type": "stream",
     "text": [
      "A=(вин,ед,полн,муж,од|род,ед,полн,муж|род,ед,полн,сред)\n",
      "анализ\n"
     ]
    }
   ],
   "source": [
    "res = m.analyze('морфологического анализа')\n",
    "grammar = res[0]['analysis'][0]['gr'] # достать грамматику\n",
    "lex = res[2]['analysis'][0]['lex'] # достать лемму\n",
    "print(grammar)\n",
    "print(lex)"
   ]
  },
  {
   "cell_type": "markdown",
   "metadata": {},
   "source": [
    "### Дезамбигуация\n",
    "ОН понимает из контекста, какая часть речи, если это омонимы. ЧЕрез вертикальную черту — варианты.  Если встречает незнакомое слово, он вставляет ещё один параметр qual=bastard"
   ]
  },
  {
   "cell_type": "code",
   "execution_count": 61,
   "metadata": {},
   "outputs": [
    {
     "name": "stdout",
     "output_type": "stream",
     "text": [
      "{'analysis': [{'lex': 'белок', 'wt': 0.570140007, 'gr': 'S,муж,неод=род,ед'}], 'text': 'белка'}\n",
      "{'analysis': [{'lex': 'белка', 'wt': 0.394420315, 'gr': 'S,жен,од=им,ед'}], 'text': 'белка'}\n",
      "{'analysis': [{'lex': 'рабочий', 'wt': 0.4992949173, 'gr': 'S,муж,од=им,ед'}], 'text': 'рабочий'}\n",
      "{'analysis': [{'lex': 'рабочий', 'wt': 0.4091246078, 'gr': 'A=(вин,мн,полн,неод|им,мн,полн)'}], 'text': 'рабочие'}\n"
     ]
    }
   ],
   "source": [
    "print(m.analyze(\"синтез нового белка\")[4], m.analyze(\"рыжая белка\")[2], sep='\\n', end='\\n')\n",
    "print(m.analyze(\"рабочий сказал\")[0], m.analyze(\"рабочие руки\")[0], sep='\\n')"
   ]
  },
  {
   "cell_type": "code",
   "execution_count": 62,
   "metadata": {},
   "outputs": [
    {
     "data": {
      "text/plain": [
       "[{'analysis': [{'lex': 'составлять',\n",
       "    'wt': 0.8458301737,\n",
       "    'gr': 'V,пе=(непрош,им,мн,прич,полн,несов,действ|непрош,вин,мн,прич,полн,несов,действ,неод)'}],\n",
       "  'text': 'составляющие'},\n",
       " {'text': ' '},\n",
       " {'analysis': [{'lex': 'морфологический',\n",
       "    'wt': 1,\n",
       "    'gr': 'A=(вин,ед,полн,муж,од|род,ед,полн,муж|род,ед,полн,сред)'}],\n",
       "  'text': 'морфологического'},\n",
       " {'text': ' '},\n",
       " {'analysis': [{'lex': 'анализ', 'wt': 1, 'gr': 'S,муж,неод=род,ед'}],\n",
       "  'text': 'анализа'},\n",
       " {'text': '\\n'}]"
      ]
     },
     "execution_count": 62,
     "metadata": {},
     "output_type": "execute_result"
    }
   ],
   "source": [
    "m.analyze('составляющие морфологического анализа')"
   ]
  },
  {
   "cell_type": "code",
   "execution_count": 63,
   "metadata": {},
   "outputs": [
    {
     "data": {
      "text/plain": [
       "[{'analysis': [{'lex': 'глокая',\n",
       "    'wt': 0.3605448292,\n",
       "    'qual': 'bastard',\n",
       "    'gr': 'S,ед,жен,неод=им'}],\n",
       "  'text': 'глокая'},\n",
       " {'text': ' '},\n",
       " {'analysis': [{'lex': 'куздра',\n",
       "    'wt': 0.6292693823,\n",
       "    'qual': 'bastard',\n",
       "    'gr': 'S,ед,жен,неод=им'}],\n",
       "  'text': 'куздра'},\n",
       " {'text': ' '},\n",
       " {'analysis': [{'lex': 'штеко',\n",
       "    'wt': 0.2574119755,\n",
       "    'qual': 'bastard',\n",
       "    'gr': 'ADV='}],\n",
       "  'text': 'штеко'},\n",
       " {'text': ' '},\n",
       " {'analysis': [{'lex': 'будланул',\n",
       "    'wt': 0.03753661836,\n",
       "    'qual': 'bastard',\n",
       "    'gr': 'S,муж,од=(вин,ед|род,ед)'}],\n",
       "  'text': 'будланула'},\n",
       " {'text': ' '},\n",
       " {'analysis': [{'lex': 'бокра',\n",
       "    'wt': 0.8898982327,\n",
       "    'qual': 'bastard',\n",
       "    'gr': 'S,ед,жен,неод=им'}],\n",
       "  'text': 'бокра'},\n",
       " {'text': ' '},\n",
       " {'analysis': [{'lex': 'и', 'wt': 0.9999770357, 'gr': 'CONJ='}], 'text': 'и'},\n",
       " {'text': ' '},\n",
       " {'analysis': [{'lex': 'кудрячить',\n",
       "    'wt': 0.7494392693,\n",
       "    'qual': 'bastard',\n",
       "    'gr': 'V,несов,пе=непрош,ед,изъяв,3-л'}],\n",
       "  'text': 'кудрячит'},\n",
       " {'text': ' '},\n",
       " {'analysis': [{'lex': 'бокренок',\n",
       "    'wt': 0.165166425,\n",
       "    'qual': 'bastard',\n",
       "    'gr': 'S,муж,неод=род,ед'}],\n",
       "  'text': 'бокренка'},\n",
       " {'text': '\\n'}]"
      ]
     },
     "execution_count": 63,
     "metadata": {},
     "output_type": "execute_result"
    }
   ],
   "source": [
    "m.analyze(\"глокая куздра штеко будланула бокра и кудрячит бокренка\")"
   ]
  },
  {
   "cell_type": "markdown",
   "metadata": {},
   "source": [
    "Грамемы - значения грам категорий, например род, число и тд.  "
   ]
  },
  {
   "cell_type": "markdown",
   "metadata": {},
   "source": [
    "### JSON\n",
    "Для хранения и передачи данных формат. Туда можно записывать словари или списки. Loads Dumps - со строками. Load Dump - с файлами. "
   ]
  },
  {
   "cell_type": "code",
   "execution_count": 64,
   "metadata": {},
   "outputs": [],
   "source": [
    "import json\n",
    "\n",
    "kuzdra = m.analyze(\"глокая куздра штеко будланула бокра и кудрячит бокренка\")\n",
    "\n",
    "with open('kuzdra.json', 'w', encoding='utf-8') as f:\n",
    "    json.dump(kuzdra, f, ensure_ascii=False) # параметр для того, чтобы кириллица записалась, потому что она не входит в ascii"
   ]
  },
  {
   "cell_type": "code",
   "execution_count": 65,
   "metadata": {},
   "outputs": [],
   "source": [
    "with open('kuzdra.json', 'r', encoding='utf-8') as f:\n",
    "    kuzdra = json.loads(f.read())"
   ]
  },
  {
   "cell_type": "code",
   "execution_count": 68,
   "metadata": {},
   "outputs": [
    {
     "data": {
      "text/plain": [
       "[{'analysis': [{'lex': 'глокая',\n",
       "    'wt': 0.3605448292,\n",
       "    'qual': 'bastard',\n",
       "    'gr': 'S,ед,жен,неод=им'}],\n",
       "  'text': 'глокая'},\n",
       " {'text': ' '},\n",
       " {'analysis': [{'lex': 'куздра',\n",
       "    'wt': 0.6292693823,\n",
       "    'qual': 'bastard',\n",
       "    'gr': 'S,ед,жен,неод=им'}],\n",
       "  'text': 'куздра'},\n",
       " {'text': ' '},\n",
       " {'analysis': [{'lex': 'штеко',\n",
       "    'wt': 0.2574119755,\n",
       "    'qual': 'bastard',\n",
       "    'gr': 'ADV='}],\n",
       "  'text': 'штеко'},\n",
       " {'text': ' '},\n",
       " {'analysis': [{'lex': 'будланул',\n",
       "    'wt': 0.03753661836,\n",
       "    'qual': 'bastard',\n",
       "    'gr': 'S,муж,од=(вин,ед|род,ед)'}],\n",
       "  'text': 'будланула'},\n",
       " {'text': ' '},\n",
       " {'analysis': [{'lex': 'бокра',\n",
       "    'wt': 0.8898982327,\n",
       "    'qual': 'bastard',\n",
       "    'gr': 'S,ед,жен,неод=им'}],\n",
       "  'text': 'бокра'},\n",
       " {'text': ' '},\n",
       " {'analysis': [{'lex': 'и', 'wt': 0.9999770357, 'gr': 'CONJ='}], 'text': 'и'},\n",
       " {'text': ' '},\n",
       " {'analysis': [{'lex': 'кудрячить',\n",
       "    'wt': 0.7494392693,\n",
       "    'qual': 'bastard',\n",
       "    'gr': 'V,несов,пе=непрош,ед,изъяв,3-л'}],\n",
       "  'text': 'кудрячит'},\n",
       " {'text': ' '},\n",
       " {'analysis': [{'lex': 'бокренок',\n",
       "    'wt': 0.165166425,\n",
       "    'qual': 'bastard',\n",
       "    'gr': 'S,муж,неод=род,ед'}],\n",
       "  'text': 'бокренка'},\n",
       " {'text': '\\n'}]"
      ]
     },
     "execution_count": 68,
     "metadata": {},
     "output_type": "execute_result"
    }
   ],
   "source": [
    "kuzdra"
   ]
  },
  {
   "cell_type": "markdown",
   "metadata": {},
   "source": [
    "### Задание\n",
    "1. Взять какой-нибудь небольшой текст (например, рассказ или длинное стихотворение), сохранить его в txt-файл.\n",
    "2. Загрузив текст из этого файла, сделать полный грамматический разбор и записать результаты в файл json.\n",
    "3. Написать регулярное выражение, которое будет извлекать из тега только часть речи.\n",
    "4. Пройтись циклом по списку с разборами, который выдал pymystem3, извлекая из каждого разбора форму слова и его часть речи и записывая их в новый словарь (форма -- ключ, часть речи -- значение).\n",
    "5. Посчитать абсолютную частоту для всех частей речи, а зате относительнную частоту (абсолютная частота / длина текста)."
   ]
  },
  {
   "cell_type": "code",
   "execution_count": 71,
   "metadata": {},
   "outputs": [],
   "source": [
    "with open('story.txt', 'r', encoding='utf-8') as f:\n",
    "    story = f.read()\n",
    "\n",
    "story_analyzed = m.analyze(story)\n",
    "\n",
    "with open('story_analyzed.json', 'w', encoding='utf-8') as f:\n",
    "    json.dump(story_analyzed, f, ensure_ascii=False)"
   ]
  },
  {
   "cell_type": "code",
   "execution_count": 73,
   "metadata": {},
   "outputs": [
    {
     "data": {
      "text/plain": [
       "list"
      ]
     },
     "execution_count": 73,
     "metadata": {},
     "output_type": "execute_result"
    }
   ],
   "source": [
    "type(story_analyzed)"
   ]
  },
  {
   "cell_type": "code",
   "execution_count": 74,
   "metadata": {},
   "outputs": [],
   "source": [
    "import re"
   ]
  },
  {
   "cell_type": "code",
   "execution_count": 89,
   "metadata": {},
   "outputs": [
    {
     "data": {
      "text/plain": [
       "{'Я': 'SPRO,ед,1-л=им',\n",
       " 'проснулся': 'V,нп=прош,ед,изъяв,муж,сов',\n",
       " 'от': 'PR=',\n",
       " 'жестокой': 'A=(пр,ед,полн,жен|дат,ед,полн,жен|род,ед,полн,жен|твор,ед,полн,жен)',\n",
       " 'боли': 'S,жен,неод=(пр,ед|вин,мн|дат,ед|род,ед|им,мн)',\n",
       " 'во': 'PR=',\n",
       " 'всем': 'SPRO,мн=дат',\n",
       " 'теле': 'S,сред,неод=пр,ед',\n",
       " 'открыл': 'V=прош,ед,изъяв,муж,сов',\n",
       " 'глаза': 'S,муж,неод=(вин,мн|род,ед|им,мн)',\n",
       " 'и': 'CONJ=',\n",
       " 'увидел': 'V,сов,пе=прош,ед,изъяв,муж',\n",
       " 'медсестру': 'S,жен,од=вин,ед',\n",
       " 'стоящую': 'V,несов,нп=непрош,вин,ед,прич,полн,жен,действ',\n",
       " 'у': 'PR=',\n",
       " 'моей': 'APRO=(пр,ед,жен|дат,ед,жен|род,ед,жен|твор,ед,жен)',\n",
       " 'койки': 'S,жен,неод=(вин,мн|род,ед|им,мн)',\n",
       " 'Мистер': 'S,муж,од=им,ед',\n",
       " 'Фуджима': 'S,имя,муж,од=(вин,ед|род,ед)',\n",
       " 'сказала': 'V,сов,пе=прош,ед,изъяв,жен',\n",
       " 'она': 'SPRO,ед,3-л,жен=им',\n",
       " 'Вам': 'SPRO,мн,2-л=дат',\n",
       " 'повезло': 'V=(прош,изъяв,сов,нп|прош,ед,изъяв,сред,сов,нп)',\n",
       " 'удалось': 'V,нп=прош,ед,изъяв,сред,сов',\n",
       " 'выжить': 'V,пе=инф,сов',\n",
       " 'после': 'PR=',\n",
       " 'бомбардировки': 'S,жен,неод=(вин,мн|род,ед|им,мн)',\n",
       " 'Хиросимы': 'S,гео,жен,неод=(вин,мн|род,ед|им,мн)',\n",
       " 'два': 'NUM=(вин,муж,неод|им,муж|вин,сред|им,сред)',\n",
       " 'дня': 'S,муж,неод=род,ед',\n",
       " 'назад': 'ADV=',\n",
       " 'Но': 'CONJ=',\n",
       " 'теперь': 'ADV=',\n",
       " 'вы': 'SPRO,мн,2-л=им',\n",
       " 'в': 'PR=',\n",
       " 'госпитале': 'S,муж,неод=пр,ед',\n",
       " 'вам': 'SPRO,мн,2-л=дат',\n",
       " 'больше': 'ADV=срав',\n",
       " 'ничего': 'SPRO,ед,сред=род',\n",
       " 'не': 'PART=',\n",
       " 'угрожает': 'V,несов,нп=непрош,ед,изъяв,3-л',\n",
       " 'Чуть': 'ADV=',\n",
       " 'живой': 'A=(вин,ед,полн,муж,неод|им,ед,полн,муж|пр,ед,полн,жен|дат,ед,полн,жен|род,ед,полн,жен|твор,ед,полн,жен)',\n",
       " 'слабости': 'S,жен,неод=(пр,ед|вин,мн|дат,ед|род,ед|им,мн)',\n",
       " 'я': 'SPRO,ед,1-л=им',\n",
       " 'спросил': 'V=прош,ед,изъяв,муж,сов',\n",
       " 'Где': 'ADVPRO=',\n",
       " 'В': 'PR=',\n",
       " 'Нагасаки': 'S,гео,ед,муж,неод=(пр|вин|дат|род|твор|им)',\n",
       " 'ответила': 'V,нп=прош,ед,изъяв,жен,сов'}"
      ]
     },
     "execution_count": 89,
     "metadata": {},
     "output_type": "execute_result"
    }
   ],
   "source": [
    "# создаём словарь с только грамматикой\n",
    "words = {}\n",
    "for word in story_analyzed:\n",
    "    try:\n",
    "        form = word['text']\n",
    "        grammar = word['analysis'][0]['gr']\n",
    "        words[form] = grammar\n",
    "    except KeyError:\n",
    "        pass\n",
    "words"
   ]
  },
  {
   "cell_type": "code",
   "execution_count": 103,
   "metadata": {},
   "outputs": [],
   "source": [
    "pos = re.compile('[A-Z]+')\n",
    "words_pos = {}"
   ]
  },
  {
   "cell_type": "code",
   "execution_count": 109,
   "metadata": {},
   "outputs": [],
   "source": [
    "for k, v in words.items():\n",
    "    words_pos[k] = pos.match(v).group(0)"
   ]
  },
  {
   "cell_type": "code",
   "execution_count": 110,
   "metadata": {},
   "outputs": [
    {
     "data": {
      "text/plain": [
       "{'Я': 'SPRO',\n",
       " 'проснулся': 'V',\n",
       " 'от': 'PR',\n",
       " 'жестокой': 'A',\n",
       " 'боли': 'S',\n",
       " 'во': 'PR',\n",
       " 'всем': 'SPRO',\n",
       " 'теле': 'S',\n",
       " 'открыл': 'V',\n",
       " 'глаза': 'S',\n",
       " 'и': 'CONJ',\n",
       " 'увидел': 'V',\n",
       " 'медсестру': 'S',\n",
       " 'стоящую': 'V',\n",
       " 'у': 'PR',\n",
       " 'моей': 'APRO',\n",
       " 'койки': 'S',\n",
       " 'Мистер': 'S',\n",
       " 'Фуджима': 'S',\n",
       " 'сказала': 'V',\n",
       " 'она': 'SPRO',\n",
       " 'Вам': 'SPRO',\n",
       " 'повезло': 'V',\n",
       " 'удалось': 'V',\n",
       " 'выжить': 'V',\n",
       " 'после': 'PR',\n",
       " 'бомбардировки': 'S',\n",
       " 'Хиросимы': 'S',\n",
       " 'два': 'NUM',\n",
       " 'дня': 'S',\n",
       " 'назад': 'ADV',\n",
       " 'Но': 'CONJ',\n",
       " 'теперь': 'ADV',\n",
       " 'вы': 'SPRO',\n",
       " 'в': 'PR',\n",
       " 'госпитале': 'S',\n",
       " 'вам': 'SPRO',\n",
       " 'больше': 'ADV',\n",
       " 'ничего': 'SPRO',\n",
       " 'не': 'PART',\n",
       " 'угрожает': 'V',\n",
       " 'Чуть': 'ADV',\n",
       " 'живой': 'A',\n",
       " 'слабости': 'S',\n",
       " 'я': 'SPRO',\n",
       " 'спросил': 'V',\n",
       " 'Где': 'ADVPRO',\n",
       " 'В': 'PR',\n",
       " 'Нагасаки': 'S',\n",
       " 'ответила': 'V'}"
      ]
     },
     "execution_count": 110,
     "metadata": {},
     "output_type": "execute_result"
    }
   ],
   "source": [
    "words_pos"
   ]
  },
  {
   "cell_type": "markdown",
   "metadata": {},
   "source": [
    "### NTLK"
   ]
  },
  {
   "cell_type": "code",
   "execution_count": 7,
   "metadata": {},
   "outputs": [
    {
     "name": "stdout",
     "output_type": "stream",
     "text": [
      "showing info https://raw.githubusercontent.com/nltk/nltk_data/gh-pages/index.xml\n"
     ]
    },
    {
     "data": {
      "text/plain": [
       "True"
      ]
     },
     "execution_count": 7,
     "metadata": {},
     "output_type": "execute_result"
    }
   ],
   "source": [
    "import nltk\n",
    "nltk.download()"
   ]
  },
  {
   "cell_type": "code",
   "execution_count": 5,
   "metadata": {},
   "outputs": [],
   "source": [
    "\n",
    "text = \"\"\"\n",
    "Военно-морская любовь\n",
    "\n",
    "По морям, играя, носится\n",
    "с миноносцем миноносица.\n",
    "\n",
    "Льнет, как будто к меду осочка,\n",
    "к миноносцу миноносочка.\n",
    "\n",
    "И конца б не довелось ему,\n",
    "благодушью миноносьему.\n",
    "\n",
    "Вдруг прожектор, вздев на нос очки,\n",
    "впился в спину миноносочки.\n",
    "\n",
    "Как взревет медноголосина:\n",
    "\"Р-р-р-астакая миноносина!\"\n",
    "\n",
    "Прямо ль, влево ль, вправо ль бросится,\n",
    "а сбежала миноносица.\n",
    "\n",
    "Но ударить удалось ему\n",
    "по ребру по миноносьему.\n",
    "\n",
    "Плач и вой морями носится:\n",
    "овдовела миноносица.\n",
    "\n",
    "И чего это несносен нам\n",
    "мир в семействе миноносином?\n",
    "\"\"\""
   ]
  },
  {
   "cell_type": "code",
   "execution_count": 6,
   "metadata": {},
   "outputs": [
    {
     "name": "stdout",
     "output_type": "stream",
     "text": [
      "['Военно-морская', 'любовь', 'По', 'морям', ',', 'играя', ',', 'носится', 'с', 'миноносцем', 'миноносица', '.', 'Льнет', ',', 'как', 'будто', 'к', 'меду', 'осочка', ',', 'к', 'миноносцу', 'миноносочка', '.', 'И', 'конца', 'б', 'не', 'довелось', 'ему', ',', 'благодушью', 'миноносьему', '.', 'Вдруг', 'прожектор', ',', 'вздев', 'на', 'нос', 'очки', ',', 'впился', 'в', 'спину', 'миноносочки', '.', 'Как', 'взревет', 'медноголосина', ':', \"''\", 'Р-р-р-астакая', 'миноносина', '!', \"''\", 'Прямо', 'ль', ',', 'влево', 'ль', ',', 'вправо', 'ль', 'бросится', ',', 'а', 'сбежала', 'миноносица', '.', 'Но', 'ударить', 'удалось', 'ему', 'по', 'ребру', 'по', 'миноносьему', '.', 'Плач', 'и', 'вой', 'морями', 'носится', ':', 'овдовела', 'миноносица', '.', 'И', 'чего', 'это', 'несносен', 'нам', 'мир', 'в', 'семействе', 'миноносином', '?']\n"
     ]
    }
   ],
   "source": [
    "from nltk.tokenize import word_tokenize\n",
    "\n",
    "print(word_tokenize(text))"
   ]
  },
  {
   "cell_type": "markdown",
   "metadata": {},
   "source": [
    "Задание  \n",
    "1. Скачайте файл с английским текстом \"Алисы в Зазеркалье\" из папки с семинаром.  \n",
    "2. Очистите его от пунктуации и приведите к нижнему регистру  \n",
    "3. Разбейте на биграммы и на триграммы с помощью NLTK.  \n",
    "4. Сделайте частеречную разметку текста и запишите в новый файл так, чтобы на каждой строке было одно слово и его тег.  \n",
    "5. Лемматизируйте текст и запишите в новый файл.  \n",
    "6. Очистите лемматизированный текст от стоп-слов и составьте частотный список слов. Вывкдите 30 самых частотных.  \n",
    "7. Посчитайте ipm слов 'alice', 'unicorn', 'tweedledum', 'tweedledee', 'walrus', 'looking-glass'.  "
   ]
  },
  {
   "cell_type": "code",
   "execution_count": 23,
   "metadata": {},
   "outputs": [],
   "source": [
    "# Открываем файл\n",
    "with open('alice.txt', 'r', encoding='utf-8') as f:\n",
    "        text = f.read()\n",
    "\n",
    "# Очищаем от пунктуации\n",
    "text_clean = [w.strip(\"!\\\"#$%&'()*+,./:;<=>?@[\\]^_`{|}~„“«»†*—/\\-—\") for w in text.split()] \n",
    "text_clean = [w for w in text_clean if len(w) != 0] # очищаем от пустых элементов\n",
    "\n",
    "# Приводим к нижнему регистру\n",
    "text_clean = ' '.join(text_clean).lower()"
   ]
  },
  {
   "cell_type": "code",
   "execution_count": 24,
   "metadata": {},
   "outputs": [
    {
     "data": {
      "text/plain": [
       "'through the looking-glass by lewis carroll chapter i looking'"
      ]
     },
     "execution_count": 24,
     "metadata": {},
     "output_type": "execute_result"
    }
   ],
   "source": [
    "text_clean[:60]"
   ]
  },
  {
   "cell_type": "code",
   "execution_count": 25,
   "metadata": {},
   "outputs": [],
   "source": [
    "alice_bigrams = [b for b in nltk.bigrams(word_tokenize(text_clean))]"
   ]
  },
  {
   "cell_type": "code",
   "execution_count": 33,
   "metadata": {},
   "outputs": [
    {
     "data": {
      "text/plain": [
       "[('through', 'the'),\n",
       " ('the', 'looking-glass'),\n",
       " ('looking-glass', 'by'),\n",
       " ('by', 'lewis'),\n",
       " ('lewis', 'carroll'),\n",
       " ('carroll', 'chapter'),\n",
       " ('chapter', 'i'),\n",
       " ('i', 'looking-glass'),\n",
       " ('looking-glass', 'house'),\n",
       " ('house', 'one')]"
      ]
     },
     "execution_count": 33,
     "metadata": {},
     "output_type": "execute_result"
    }
   ],
   "source": [
    "alice_bigrams[:10]"
   ]
  },
  {
   "cell_type": "code",
   "execution_count": 30,
   "metadata": {},
   "outputs": [],
   "source": [
    "alice_trigrams = [b for b in nltk.trigrams(word_tokenize(text_clean))]"
   ]
  },
  {
   "cell_type": "code",
   "execution_count": 32,
   "metadata": {},
   "outputs": [
    {
     "data": {
      "text/plain": [
       "[('through', 'the', 'looking-glass'),\n",
       " ('the', 'looking-glass', 'by'),\n",
       " ('looking-glass', 'by', 'lewis'),\n",
       " ('by', 'lewis', 'carroll'),\n",
       " ('lewis', 'carroll', 'chapter'),\n",
       " ('carroll', 'chapter', 'i'),\n",
       " ('chapter', 'i', 'looking-glass'),\n",
       " ('i', 'looking-glass', 'house'),\n",
       " ('looking-glass', 'house', 'one'),\n",
       " ('house', 'one', 'thing')]"
      ]
     },
     "execution_count": 32,
     "metadata": {},
     "output_type": "execute_result"
    }
   ],
   "source": [
    "alice_trigrams[:10]"
   ]
  },
  {
   "cell_type": "code",
   "execution_count": 34,
   "metadata": {},
   "outputs": [],
   "source": [
    "# Сделайте частеречную разметку текста и запишите в новый файл так, чтобы на каждой строке было одно слово и его тег.\n",
    "alice_pos = nltk.pos_tag(text_clean.split())"
   ]
  },
  {
   "cell_type": "code",
   "execution_count": 35,
   "metadata": {},
   "outputs": [
    {
     "data": {
      "text/plain": [
       "[('through', 'IN'),\n",
       " ('the', 'DT'),\n",
       " ('looking-glass', 'NN'),\n",
       " ('by', 'IN'),\n",
       " ('lewis', 'JJ'),\n",
       " ('carroll', 'NN'),\n",
       " ('chapter', 'NN'),\n",
       " ('i', 'JJ'),\n",
       " ('looking-glass', 'NN'),\n",
       " ('house', 'NN')]"
      ]
     },
     "execution_count": 35,
     "metadata": {},
     "output_type": "execute_result"
    }
   ],
   "source": [
    "alice_pos[:10]"
   ]
  },
  {
   "cell_type": "code",
   "execution_count": 41,
   "metadata": {},
   "outputs": [],
   "source": [
    "alice_pos = \"\\n\".join(str(alice_pos))\n",
    "\n",
    "# Записываем в новый файл\n",
    "with open('alice_pos.txt', 'w', encoding='utf-8') as f:\n",
    "    f.write(str(alice_pos))\n"
   ]
  },
  {
   "cell_type": "code",
   "execution_count": 42,
   "metadata": {},
   "outputs": [],
   "source": [
    "# Лемматизируйте текст и запишите в новый файл.\n",
    "from nltk import WordNetLemmatizer\n",
    "\n",
    "wnl = WordNetLemmatizer()"
   ]
  },
  {
   "cell_type": "code",
   "execution_count": null,
   "metadata": {},
   "outputs": [],
   "source": [
    "wnl.lemmatize(word_tokenize(text_clean))"
   ]
  }
 ],
 "metadata": {
  "kernelspec": {
   "display_name": "Python 3",
   "language": "python",
   "name": "python3"
  },
  "language_info": {
   "codemirror_mode": {
    "name": "ipython",
    "version": 3
   },
   "file_extension": ".py",
   "mimetype": "text/x-python",
   "name": "python",
   "nbconvert_exporter": "python",
   "pygments_lexer": "ipython3",
   "version": "3.7.0"
  }
 },
 "nbformat": 4,
 "nbformat_minor": 2
}
