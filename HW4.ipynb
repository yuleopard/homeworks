{
 "cells": [
  {
   "cell_type": "markdown",
   "metadata": {},
   "source": [
    "### Задание №1  \n",
    "1. Скачайте из папки с домашними заданиями английский текст первой книги о Гарри Поттере. Он должен быть сохранен отдельным файлом.  \n",
    "2. Очистите текст от пунктуации, приведите его к нижнему регистру, лемматизируйте и запишите в новый файл. Проверьте, выполняется ли здесь закон Ципфа. Для этого постройте линейную диаграмму, где по оси Х будет ранг (порядковый номер) слова в отсортированном по убыванию частотном словаре, а по оси Y - относительная частота (абсолютная частота, разделенная на количество слов в тексте). Т.е. у самого частотного слова будет ранг 1, у второго по частоте -- 2 и т.д.  \n",
    "3. Очистите текст от стоп-слов. Постройте barplot для 30 самых частотных слов. Эти слова должны быть по оси Х в виде подписей к делениям. Значениями по этой оси будет ряд чисел от 0 до 30.  "
   ]
  },
  {
   "cell_type": "code",
   "execution_count": 1,
   "metadata": {},
   "outputs": [],
   "source": [
    "import nltk\n",
    "from nltk.tokenize import word_tokenize\n",
    "from nltk.corpus import stopwords\n",
    "from collections import Counter\n",
    "import matplotlib\n",
    "import matplotlib.pyplot as plt\n",
    "from matplotlib import style\n",
    "from nltk import WordNetLemmatizer"
   ]
  },
  {
   "cell_type": "code",
   "execution_count": 16,
   "metadata": {},
   "outputs": [],
   "source": [
    "# Открываем файл\n",
    "with open('harry.txt', 'r', encoding='utf-8') as f:\n",
    "        text = f.read()\n",
    "\n",
    "# Очищаем от пунктуации\n",
    "text_clean = [w.strip(\"’!\\\"#$%&'()*+,./:;<=>?@[\\]^_`{|}~„“”«»†*—/\\-”—?,\") for w in text.split()] \n",
    "text_clean = [w for w in text_clean if len(w) != 0] # очищаем от пустых элементов\n",
    "\n",
    "# Приводим к нижнему регистру\n",
    "text_clean = ' '.join(text_clean).lower()"
   ]
  },
  {
   "cell_type": "code",
   "execution_count": 17,
   "metadata": {},
   "outputs": [
    {
     "data": {
      "text/plain": [
       "\"chapter one the boy who lived mr and mrs dursley of number four privet drive were proud to say that they were perfectly normal thank you very much they were the last people you'd expect to be involved\""
      ]
     },
     "execution_count": 17,
     "metadata": {},
     "output_type": "execute_result"
    }
   ],
   "source": [
    "text_clean[:200]"
   ]
  },
  {
   "cell_type": "code",
   "execution_count": 18,
   "metadata": {},
   "outputs": [],
   "source": [
    "# Лемматизируем и записываем в новый файл\n",
    "from nltk import WordNetLemmatizer\n",
    "wnl = WordNetLemmatizer()\n",
    "harry_lemmatized = wnl.lemmatize(' '.join((word_tokenize(text_clean))))\n",
    "\n",
    "with open('harry_lemmatized.txt', 'w', encoding='utf-8') as f:\n",
    "    f.write(harry_lemmatized)"
   ]
  },
  {
   "cell_type": "code",
   "execution_count": 19,
   "metadata": {},
   "outputs": [],
   "source": [
    "# Считаем абсолютную частоту всех лемм\n",
    "harry_freq = {}\n",
    "counts = Counter(harry_lemmatized.split())\n",
    "\n",
    "for k, v in counts.items():\n",
    "    harry_freq[k] = v\n",
    "    "
   ]
  },
  {
   "cell_type": "code",
   "execution_count": 20,
   "metadata": {},
   "outputs": [
    {
     "data": {
      "text/plain": [
       "[('the', 3603),\n",
       " ('and', 1870),\n",
       " ('to', 1845),\n",
       " ('he', 1714),\n",
       " ('a', 1667),\n",
       " ('harry', 1305),\n",
       " ('was', 1257),\n",
       " ('of', 1255),\n",
       " ('it', 1137),\n",
       " (\"'s\", 995)]"
      ]
     },
     "execution_count": 20,
     "metadata": {},
     "output_type": "execute_result"
    }
   ],
   "source": [
    "# Сортируем по частоте\n",
    "harry_sorted = sorted(harry_freq.items(), key=lambda x: x[1], reverse=True)\n",
    "harry_sorted[:10]"
   ]
  },
  {
   "cell_type": "code",
   "execution_count": 21,
   "metadata": {},
   "outputs": [
    {
     "data": {
      "image/png": "[encoded data removed]",
      "text/plain": [
       "<Figure size 432x288 with 1 Axes>"
      ]
     },
     "metadata": {
      "needs_background": "light"
     },
     "output_type": "display_data"
    }
   ],
   "source": [
    "# Проверяем закон Ципфа\n",
    "X = range(50)\n",
    "Y = []\n",
    "             \n",
    "for word in harry_sorted:\n",
    "    harry_abs_freq = word[1] # достаём абсолютную частоту из словаря\n",
    "    Y.append(harry_abs_freq)\n",
    "             \n",
    "plt.plot(X, Y[:50], c='xkcd:bright pink', linestyle='--', linewidth=4)\n",
    "plt.title('Закон Ципфа')\n",
    "plt.xlabel('Номер слова')\n",
    "plt.ylabel('Абсолютная частота')\n",
    "plt.show()"
   ]
  },
  {
   "cell_type": "markdown",
   "metadata": {},
   "source": [
    "3. Очистите текст от стоп-слов. Постройте barplot для 30 самых частотных слов. Эти слова должны быть по оси Х в виде подписей к делениям. Значениями по этой оси будет ряд чисел от 0 до 30."
   ]
  },
  {
   "cell_type": "code",
   "execution_count": 28,
   "metadata": {},
   "outputs": [
    {
     "name": "stdout",
     "output_type": "stream",
     "text": [
      "['chapter', 'one', 'boy', 'lived', 'mr', 'mrs', 'dursley', 'number', 'four', 'privet', 'drive', 'proud', 'say', 'perfectly', 'normal', 'thank', 'much', 'last', 'people', \"'d\"]\n"
     ]
    }
   ],
   "source": [
    "# Очищаем от стоп-слов\n",
    "sw = stopwords.words('english')\n",
    "\n",
    "harry_filtered = [w for w in word_tokenize(harry_lemmatized) if w not in sw]\n",
    "print(harry_filtered[:20])"
   ]
  },
  {
   "cell_type": "code",
   "execution_count": 29,
   "metadata": {},
   "outputs": [
    {
     "name": "stdout",
     "output_type": "stream",
     "text": [
      "[('harry', 1305), (\"'s\", 995), (\"n't\", 828), ('said', 794), ('ron', 427), ('hagrid', 366), ('could', 301), (\"'d\", 267), ('hermione', 267), ('back', 257), ('one', 250), ('got', 204), ('get', 192), ('like', 188), ('know', 185), ('see', 177), (\"'ve\", 176), ('professor', 172), ('looked', 169), ('snape', 167), (\"'ll\", 160), ('dumbledore', 156), ('would', 153), ('around', 141), ('dudley', 137), (\"'re\", 135), ('going', 134), ('go', 130), ('something', 128), ('think', 121)]\n"
     ]
    }
   ],
   "source": [
    "# Сортируем текст без стоп-слов\n",
    "harry_nosw_freq = {}\n",
    "counts = Counter(harry_filtered)\n",
    "\n",
    "for k, v in counts.items():\n",
    "    harry_nosw_freq[k] = v\n",
    "    \n",
    "\n",
    "harry_nosw_sorted = sorted(harry_nosw_freq.items(), key=lambda x: x[1], reverse=True)\n",
    "print(harry_nosw_sorted[:30])"
   ]
  },
  {
   "cell_type": "code",
   "execution_count": 22,
   "metadata": {},
   "outputs": [
    {
     "data": {
      "image/png": "[encoded data removed]",
      "text/plain": [
       "<Figure size 432x288 with 1 Axes>"
      ]
     },
     "metadata": {
      "needs_background": "light"
     },
     "output_type": "display_data"
    }
   ],
   "source": [
    "X2 = range(30)\n",
    "Y2 = [word[1] for word in harry_nosw_sorted] # вынимаем из словаря число\n",
    "Z2 = [word[0] for word in harry_nosw_sorted] # вынимаем слово для подписи делений\n",
    "\n",
    "\n",
    "plt.bar(X2, Y2[:30])\n",
    "plt.title('30 самых частотных слов')\n",
    "plt.ylabel('Абсолютная частота слова')\n",
    "plt.xticks(X, Z2[:30], rotation=90)\n",
    "plt.show()\n"
   ]
  },
  {
   "cell_type": "code",
   "execution_count": null,
   "metadata": {},
   "outputs": [],
   "source": []
  }
 ],
 "metadata": {
  "kernelspec": {
   "display_name": "Python 3",
   "language": "python",
   "name": "python3"
  },
  "language_info": {
   "codemirror_mode": {
    "name": "ipython",
    "version": 3
   },
   "file_extension": ".py",
   "mimetype": "text/x-python",
   "name": "python",
   "nbconvert_exporter": "python",
   "pygments_lexer": "ipython3",
   "version": "3.7.0"
  }
 },
 "nbformat": 4,
 "nbformat_minor": 2
}
